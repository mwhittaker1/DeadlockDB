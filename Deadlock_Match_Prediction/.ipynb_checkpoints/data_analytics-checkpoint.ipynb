{
 "cells": [
  {
   "cell_type": "markdown",
   "id": "37504097-1881-437e-809f-ccbe25983fbb",
   "metadata": {},
   "source": [
    "Create deadlock.db"
   ]
  },
  {
   "cell_type": "code",
   "execution_count": 1,
   "id": "b78c872b-9fb0-42b5-bab6-f5bb0e5c9b5f",
   "metadata": {},
   "outputs": [],
   "source": [
    "import duckdb\n",
    "import pandas as pd\n",
    "\n",
    "con = duckdb.connect(\"deadlock.db\")"
   ]
  },
  {
   "cell_type": "markdown",
   "id": "a3117946-bc3f-42f6-844e-4942ede9bbb9",
   "metadata": {},
   "source": [
    "Drop tables for reset"
   ]
  },
  {
   "cell_type": "code",
   "execution_count": null,
   "id": "ec64d061-f321-4da2-832a-0945164a08c1",
   "metadata": {},
   "outputs": [],
   "source": [
    "def drop_tables(db_loc):\n",
    "    db_loc = \"deadlock.db\"\n",
    "    con.execute(\"DROP TABLE IF EXISTS matches\")\n",
    "    con.execute(\"DROP TABLE IF EXISTS player_matches\")\n",
    "    con.execute(\"DROP TABLE IF EXISTS player_trends\")\n",
    "    con.execute(\"DROP TABLE IF EXISTS hero_trends\")"
   ]
  },
  {
   "cell_type": "markdown",
   "id": "8636c24c-53e8-40fb-b602-39fc092fa363",
   "metadata": {},
   "source": [
    "Create tables"
   ]
  },
  {
   "cell_type": "code",
   "execution_count": null,
   "id": "41d1e557-b43c-4456-9176-f66c428925e8",
   "metadata": {
    "jupyter": {
     "source_hidden": true
    }
   },
   "outputs": [],
   "source": [
    "con.execute(\"\"\"\n",
    "CREATE TABLE matches (\n",
    "    match_id BIGINT PRIMARY KEY,\n",
    "    start_time TIMESTAMP,\n",
    "    game_mode INTEGER,\n",
    "    match_mode INTEGER,\n",
    "    match_duration_s INTEGER,\n",
    "    objectives_mask_team0 BIGINT,\n",
    "    objectives_mask_team1 BIGINT,\n",
    "    match_result VARCHAR\n",
    ")\n",
    "\"\"\")"
   ]
  },
  {
   "cell_type": "code",
   "execution_count": null,
   "id": "973a04f9-3020-497a-8395-17d4fd5ea994",
   "metadata": {
    "jupyter": {
     "source_hidden": true
    }
   },
   "outputs": [],
   "source": [
    "con.execute(\"\"\"\n",
    "CREATE TABLE player_matches (\n",
    "    account_id BIGINT,\n",
    "    match_id BIGINT,\n",
    "    hero_id INTEGER,\n",
    "    hero_level INTEGER,\n",
    "    player_team INTEGER,\n",
    "    player_kills INTEGER,\n",
    "    player_deaths INTEGER,\n",
    "    player_assists INTEGER,\n",
    "    denies INTEGER,\n",
    "    net_worth BIGINT,\n",
    "    last_hits INTEGER,\n",
    "    team_abandoned BOOLEAN,\n",
    "    abandoned_time_s INTEGER,\n",
    "    won BOOLEAN,\n",
    "    \n",
    "    PRIMARY KEY (account_id, match_id)\n",
    ")\n",
    "\"\"\")"
   ]
  },
  {
   "cell_type": "code",
   "execution_count": null,
   "id": "f334a840-df97-411d-a056-bb3f74e332f8",
   "metadata": {
    "jupyter": {
     "source_hidden": true
    }
   },
   "outputs": [],
   "source": [
    "con.execute(\"\"\"\n",
    "CREATE TABLE player_trends (\n",
    "    account_id BIGINT,\n",
    "    match_id BIGINT,\n",
    "    hero_id INTEGER,\n",
    "    p_win_pct_3 FLOAT,\n",
    "    p_win_pct_5 FLOAT,\n",
    "    p_streak_3 VARCHAR,\n",
    "    p_streak_5 VARCHAR,\n",
    "    h_win_pct_3 FLOAT,\n",
    "    h_win_pct_5 FLOAT,\n",
    "    h_streak_3 VARCHAR,\n",
    "    h_streak_5 VARCHAR,\n",
    "\n",
    "    PRIMARY KEY (account_id, match_id, hero_id)\n",
    ")\n",
    "\"\"\")"
   ]
  },
  {
   "cell_type": "code",
   "execution_count": null,
   "id": "376192be-8ef6-462d-b2ef-272137a9587a",
   "metadata": {
    "jupyter": {
     "source_hidden": true
    }
   },
   "outputs": [],
   "source": [
    "con.execute(\"\"\"\n",
    "CREATE TABLE hero_trends (\n",
    "    hero_id INTEGER,\n",
    "    trend_start_date DATE,\n",
    "    trend_end_date DATE,\n",
    "    trend_date DATE,\n",
    "    trend_window_days INTEGER,\n",
    "    pick_rate FLOAT,\n",
    "    win_rate FLOAT,\n",
    "    average_kills FLOAT,\n",
    "    average_deaths FLOAT,\n",
    "    average_assists FLOAT,\n",
    "\n",
    "    PRIMARY KEY (hero_id, trend_start_date, trend_end_date, trend_window_days)\n",
    ")\n",
    "\"\"\")\n"
   ]
  },
  {
   "cell_type": "code",
   "execution_count": null,
   "id": "045b14f6-b7d6-47ae-8d97-70bccea4d557",
   "metadata": {
    "jupyter": {
     "source_hidden": true
    }
   },
   "outputs": [],
   "source": [
    "con.execute(\"\"\"\n",
    "    CREATE TABLE player_profiles (\n",
    "    account_id BIGINT PRIMARY KEY,\n",
    "    \n",
    "    avg_p_win_pct_3 FLOAT,\n",
    "    avg_p_win_pct_5 FLOAT,\n",
    "    avg_h_win_pct_3 FLOAT,\n",
    "    avg_h_win_pct_5 FLOAT,\n",
    "    \n",
    "    total_matches INTEGER,\n",
    "\n",
    "    norm_avg_p_win_pct_3 FLOAT,  \n",
    "    norm_avg_p_win_pct_5 FLOAT,\n",
    "    norm_avg_h_win_pct_3 FLOAT,\n",
    "    norm_avg_h_win_pct_5 FLOAT\n",
    ")\n",
    "\"\"\")"
   ]
  },
  {
   "cell_type": "markdown",
   "id": "763aa14e-0a07-4b24-81e6-896021718119",
   "metadata": {},
   "source": [
    "function to insert player_matches into tables"
   ]
  },
  {
   "cell_type": "code",
   "execution_count": 2,
   "id": "3cba8381-b14e-48e0-8431-92ba8c0053dd",
   "metadata": {},
   "outputs": [],
   "source": [
    "def split_and_insert_all(con, full_df):\n",
    "    \"\"\"\n",
    "    Splits full raw DataFrame into parts, inserts into DuckDB tables,\n",
    "    and builds raw (non-normalized) player_profiles from trends.\n",
    "    \"\"\"\n",
    "\n",
    "    #Define the columns for each table\n",
    "    match_columns = [\n",
    "        'match_id', 'start_time', 'game_mode', 'match_mode',\n",
    "        'match_duration_s', 'objectives_mask_team0', 'objectives_mask_team1', 'match_result'\n",
    "    ]\n",
    "\n",
    "    player_columns = [\n",
    "        'account_id', 'match_id', 'hero_id', 'hero_level', 'player_team',\n",
    "        'player_kills', 'player_deaths', 'player_assists', 'denies',\n",
    "        'net_worth', 'last_hits', 'team_abandoned', 'abandoned_time_s', 'won'\n",
    "    ]\n",
    "\n",
    "    trend_columns = [\n",
    "        'account_id', 'match_id', 'hero_id',\n",
    "        'p_win_pct_3', 'p_win_pct_5', 'p_streak_3', 'p_streak_5',\n",
    "        'h_win_pct_3', 'h_win_pct_5', 'h_streak_3', 'h_streak_5'\n",
    "    ]\n",
    "\n",
    "    #Split the DataFrame\n",
    "    match_df = full_df[match_columns].drop_duplicates(subset=['match_id'])\n",
    "    player_df = full_df[player_columns]\n",
    "    trends_df = full_df[trend_columns]\n",
    "\n",
    "    #Insert match, player, trend tables\n",
    "    insert_dataframes(\n",
    "        con,\n",
    "        match_df=match_df,\n",
    "        player_df=player_df,\n",
    "        trends_df=trends_df\n",
    "    )\n",
    "\n",
    "    #Build player_profiles\n",
    "    #player_profiles_df = build_player_profiles(trends_df)\n",
    "\n",
    "    #Insert player_profiles\n",
    "    #insert_dataframes(\n",
    "    #    con,\n",
    "    #    player_profiles_df=player_profiles_df\n",
    "    #)\n",
    "    print(f\"*DEBUG* - split and insert completed!\")\n"
   ]
  },
  {
   "cell_type": "markdown",
   "id": "eafd8af9-e346-43c9-8ea5-7f98c3c2534b",
   "metadata": {},
   "source": [
    "Insert dfs into Duckdb"
   ]
  },
  {
   "cell_type": "code",
   "execution_count": 5,
   "id": "f24a9453-df23-47d2-ab9e-2f59c9b578cf",
   "metadata": {},
   "outputs": [],
   "source": [
    "def insert_dataframes(con, match_df=None, player_df=None, trends_df=None, hero_trends_df=None):\n",
    "    \"\"\"\n",
    "    Inserts available DataFrames into their corresponding DuckDB tables.\n",
    "    Only non-None DataFrames are inserted.\n",
    "    \n",
    "    Parameters:\n",
    "    - con: active DuckDB connection\n",
    "    - match_df: DataFrame for 'matches' table\n",
    "    - player_df: DataFrame for 'player_matches' table\n",
    "    - trends_df: DataFrame for 'player_trends' table\n",
    "    - hero_trends_df: DataFrame for 'hero_trends' table\n",
    "    \"\"\"\n",
    "    print(f\"\\n\\n*Debug*\\n match_df headers are: {match_df.head()} and columns are: {match_df.columns.tolist()}\")\n",
    "    if match_df is not None:\n",
    "        con.execute(\"INSERT OR IGNORE INTO matches SELECT * FROM match_df\")\n",
    "\n",
    "    if player_df is not None:\n",
    "        con.execute(\"INSERT OR IGNORE INTO player_matches SELECT * FROM player_df\")\n",
    "\n",
    "    if trends_df is not None:\n",
    "        con.execute(\"INSERT OR IGNORE INTO player_trends SELECT * FROM trends_df\")\n",
    "\n",
    "    if hero_trends_df is not None:\n",
    "        con.execute(\"INSERT OR IGNORE INTO hero_trends SELECT * FROM hero_trends_df\")\n",
    "\n",
    "    print(\"✅ Data inserted successfully!\")"
   ]
  },
  {
   "cell_type": "markdown",
   "id": "b4a9dea2-93d4-47d4-adc0-196b0b5aab9b",
   "metadata": {},
   "source": [
    "load .csv and run through split and insert"
   ]
  },
  {
   "cell_type": "code",
   "execution_count": 6,
   "id": "e228c385-a315-4cd9-89e8-907cc97d44a8",
   "metadata": {},
   "outputs": [
    {
     "name": "stdout",
     "output_type": "stream",
     "text": [
      "\n",
      "*DEBUG* headers:    account_id  match_id  hero_id  hero_level          start_time  game_mode  \\\n",
      "0  1032337409    471321        2          19 2024-07-29 15:20:52          1   \n",
      "1  1032337409    471609        6          17 2024-07-29 15:52:17          1   \n",
      "2  1032337409    471883       11          15 2024-07-29 16:21:39          1   \n",
      "3  1032337409    472119       20          18 2024-07-29 16:49:05          1   \n",
      "4  1032337409    472400       50          12 2024-07-29 17:22:17          1   \n",
      "\n",
      "   match_mode  player_team  player_kills  player_deaths  ...  \\\n",
      "0           1            1             2              4  ...   \n",
      "1           1            0             4              7  ...   \n",
      "2           1            0             0             11  ...   \n",
      "3           1            0             2              3  ...   \n",
      "4           1            0             1              6  ...   \n",
      "\n",
      "   objectives_mask_team1    won  p_win_pct_3  p_win_pct_5         p_streak_3  \\\n",
      "0                  65121   True          NaN          NaN  insufficient_data   \n",
      "1                      0   True          NaN          NaN  insufficient_data   \n",
      "2                  49665  False    66.666667          NaN         win_streak   \n",
      "3                      0   True    66.666667          NaN         win_streak   \n",
      "4                  65517  False    33.333333         60.0        loss_streak   \n",
      "\n",
      "          p_streak_5  h_win_pct_3  h_win_pct_5         h_streak_3  \\\n",
      "0  insufficient_data          NaN          NaN  insufficient_data   \n",
      "1  insufficient_data          NaN          NaN  insufficient_data   \n",
      "2  insufficient_data          NaN          NaN  insufficient_data   \n",
      "3  insufficient_data          NaN          NaN  insufficient_data   \n",
      "4         win_streak          NaN          NaN  insufficient_data   \n",
      "\n",
      "          h_streak_5  \n",
      "0  insufficient_data  \n",
      "1  insufficient_data  \n",
      "2  insufficient_data  \n",
      "3  insufficient_data  \n",
      "4  insufficient_data  \n",
      "\n",
      "[5 rows x 29 columns]\n",
      "\n",
      "\n",
      "*DEBUG* columns: ['account_id', 'match_id', 'hero_id', 'hero_level', 'start_time', 'game_mode', 'match_mode', 'player_team', 'player_kills', 'player_deaths', 'player_assists', 'denies', 'net_worth', 'last_hits', 'team_abandoned', 'abandoned_time_s', 'match_duration_s', 'match_result', 'objectives_mask_team0', 'objectives_mask_team1', 'won', 'p_win_pct_3', 'p_win_pct_5', 'p_streak_3', 'p_streak_5', 'h_win_pct_3', 'h_win_pct_5', 'h_streak_3', 'h_streak_5']\n",
      "\n",
      "\n",
      "*Debug*\n",
      " match_df headers are:    match_id          start_time  game_mode  match_mode  match_duration_s  \\\n",
      "0    471321 2024-07-29 15:20:52          1           1              1523   \n",
      "1    471609 2024-07-29 15:52:17          1           1              1586   \n",
      "2    471883 2024-07-29 16:21:39          1           1              1558   \n",
      "3    472119 2024-07-29 16:49:05          1           1              1709   \n",
      "4    472400 2024-07-29 17:22:17          1           1              1157   \n",
      "\n",
      "   objectives_mask_team0  objectives_mask_team1  match_result  \n",
      "0                      0                  65121             1  \n",
      "1                  65393                      0             0  \n",
      "2                   4096                  49665             1  \n",
      "3                  14849                      0             0  \n",
      "4                      0                  65517             1   and columns are: ['match_id', 'start_time', 'game_mode', 'match_mode', 'match_duration_s', 'objectives_mask_team0', 'objectives_mask_team1', 'match_result']\n",
      "✅ Data inserted successfully!\n"
     ]
    },
    {
     "ename": "NameError",
     "evalue": "name 'build_player_profiles' is not defined",
     "output_type": "error",
     "traceback": [
      "\u001b[31m---------------------------------------------------------------------------\u001b[39m",
      "\u001b[31mNameError\u001b[39m                                 Traceback (most recent call last)",
      "\u001b[36mCell\u001b[39m\u001b[36m \u001b[39m\u001b[32mIn[6]\u001b[39m\u001b[32m, line 6\u001b[39m\n\u001b[32m      3\u001b[39m \u001b[38;5;28mprint\u001b[39m(\u001b[33mf\u001b[39m\u001b[33m\"\u001b[39m\u001b[38;5;130;01m\\n\u001b[39;00m\u001b[33m*DEBUG* headers: \u001b[39m\u001b[38;5;132;01m{\u001b[39;00mfull_df.head()\u001b[38;5;132;01m}\u001b[39;00m\u001b[38;5;130;01m\\n\u001b[39;00m\u001b[33m\"\u001b[39m)\n\u001b[32m      4\u001b[39m \u001b[38;5;28mprint\u001b[39m(\u001b[33mf\u001b[39m\u001b[33m\"\u001b[39m\u001b[38;5;130;01m\\n\u001b[39;00m\u001b[33m*DEBUG* columns: \u001b[39m\u001b[38;5;132;01m{\u001b[39;00mfull_df.columns.tolist()\u001b[38;5;132;01m}\u001b[39;00m\u001b[33m\"\u001b[39m)\n\u001b[32m----> \u001b[39m\u001b[32m6\u001b[39m \u001b[43msplit_and_insert_all\u001b[49m\u001b[43m(\u001b[49m\u001b[43mcon\u001b[49m\u001b[43m,\u001b[49m\u001b[43mfull_df\u001b[49m\u001b[43m)\u001b[49m\n",
      "\u001b[36mCell\u001b[39m\u001b[36m \u001b[39m\u001b[32mIn[2]\u001b[39m\u001b[32m, line 39\u001b[39m, in \u001b[36msplit_and_insert_all\u001b[39m\u001b[34m(con, full_df)\u001b[39m\n\u001b[32m     31\u001b[39m insert_dataframes(\n\u001b[32m     32\u001b[39m     con,\n\u001b[32m     33\u001b[39m     match_df=match_df,\n\u001b[32m     34\u001b[39m     player_df=player_df,\n\u001b[32m     35\u001b[39m     trends_df=trends_df\n\u001b[32m     36\u001b[39m )\n\u001b[32m     38\u001b[39m \u001b[38;5;66;03m#Build player_profiles\u001b[39;00m\n\u001b[32m---> \u001b[39m\u001b[32m39\u001b[39m player_profiles_df = \u001b[43mbuild_player_profiles\u001b[49m(trends_df)\n\u001b[32m     41\u001b[39m \u001b[38;5;66;03m#Insert player_profiles\u001b[39;00m\n\u001b[32m     42\u001b[39m insert_dataframes(\n\u001b[32m     43\u001b[39m     con,\n\u001b[32m     44\u001b[39m     player_profiles_df=player_profiles_df\n\u001b[32m     45\u001b[39m )\n",
      "\u001b[31mNameError\u001b[39m: name 'build_player_profiles' is not defined"
     ]
    }
   ],
   "source": [
    "full_df = pd.read_csv(\"p_id_match_history.csv\")\n",
    "full_df['start_time'] = pd.to_datetime(full_df['start_time'], unit='s')\n",
    "print(f\"\\n*DEBUG* headers: {full_df.head()}\\n\")\n",
    "print(f\"\\n*DEBUG* columns: {full_df.columns.tolist()}\")\n",
    "\n",
    "split_and_insert_all(con,full_df)"
   ]
  },
  {
   "cell_type": "code",
   "execution_count": null,
   "id": "864dc02c-39d0-46f7-b7e8-82fe89e320d9",
   "metadata": {},
   "outputs": [],
   "source": []
  }
 ],
 "metadata": {
  "kernelspec": {
   "display_name": "Python 3 (ipykernel)",
   "language": "python",
   "name": "python3"
  },
  "language_info": {
   "codemirror_mode": {
    "name": "ipython",
    "version": 3
   },
   "file_extension": ".py",
   "mimetype": "text/x-python",
   "name": "python",
   "nbconvert_exporter": "python",
   "pygments_lexer": "ipython3",
   "version": "3.12.6"
  }
 },
 "nbformat": 4,
 "nbformat_minor": 5
}
