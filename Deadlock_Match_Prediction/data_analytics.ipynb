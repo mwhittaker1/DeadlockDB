{
 "cells": [
  {
   "cell_type": "markdown",
   "id": "37504097-1881-437e-809f-ccbe25983fbb",
   "metadata": {},
   "source": [
    "Create deadlock.db"
   ]
  },
  {
   "cell_type": "code",
   "execution_count": 4,
   "id": "b78c872b-9fb0-42b5-bab6-f5bb0e5c9b5f",
   "metadata": {},
   "outputs": [],
   "source": [
    "import duckdb\n",
    "import pandas as pd\n",
    "\n",
    "con = duckdb.connect(\"c:/Code/Local Code/Deadlock Database/Deadlock_Match_Prediction/deadlock.db\")"
   ]
  },
  {
   "cell_type": "markdown",
   "id": "a3117946-bc3f-42f6-844e-4942ede9bbb9",
   "metadata": {},
   "source": [
    "Drop tables for reset"
   ]
  },
  {
   "cell_type": "code",
   "execution_count": null,
   "id": "ec64d061-f321-4da2-832a-0945164a08c1",
   "metadata": {},
   "outputs": [],
   "source": [
    "def drop_tables(con):\n",
    "    con.execute(\"DROP TABLE IF EXISTS matches\")\n",
    "    con.execute(\"DROP TABLE IF EXISTS player_matches\")\n",
    "    con.execute(\"DROP TABLE IF EXISTS player_trends\")\n",
    "    con.execute(\"DROP TABLE IF EXISTS hero_trends\")"
   ]
  },
  {
   "cell_type": "markdown",
   "id": "8636c24c-53e8-40fb-b602-39fc092fa363",
   "metadata": {},
   "source": [
    "Create tables"
   ]
  },
  {
   "cell_type": "code",
   "execution_count": null,
   "id": "41d1e557-b43c-4456-9176-f66c428925e8",
   "metadata": {
    "jupyter": {
     "source_hidden": true
    }
   },
   "outputs": [],
   "source": [
    "con.execute(\"\"\"\n",
    "CREATE TABLE matches (\n",
    "    match_id BIGINT PRIMARY KEY,\n",
    "    start_time TIMESTAMP,\n",
    "    game_mode INTEGER,\n",
    "    match_mode INTEGER,\n",
    "    match_duration_s INTEGER,\n",
    "    objectives_mask_team0 BIGINT,\n",
    "    objectives_mask_team1 BIGINT,\n",
    "    match_result VARCHAR\n",
    ")\n",
    "\"\"\")"
   ]
  },
  {
   "cell_type": "code",
   "execution_count": null,
   "id": "973a04f9-3020-497a-8395-17d4fd5ea994",
   "metadata": {
    "jupyter": {
     "source_hidden": true
    }
   },
   "outputs": [],
   "source": [
    "con.execute(\"\"\"\n",
    "CREATE TABLE player_matches (\n",
    "    account_id BIGINT,\n",
    "    match_id BIGINT,\n",
    "    hero_id INTEGER,\n",
    "    hero_level INTEGER,\n",
    "    player_team INTEGER,\n",
    "    player_kills INTEGER,\n",
    "    player_deaths INTEGER,\n",
    "    player_assists INTEGER,\n",
    "    denies INTEGER,\n",
    "    net_worth BIGINT,\n",
    "    last_hits INTEGER,\n",
    "    team_abandoned BOOLEAN,\n",
    "    abandoned_time_s INTEGER,\n",
    "    won BOOLEAN,\n",
    "    \n",
    "    PRIMARY KEY (account_id, match_id)\n",
    ")\n",
    "\"\"\")"
   ]
  },
  {
   "cell_type": "code",
   "execution_count": null,
   "id": "f334a840-df97-411d-a056-bb3f74e332f8",
   "metadata": {
    "jupyter": {
     "source_hidden": true
    }
   },
   "outputs": [],
   "source": [
    "con.execute(\"\"\"\n",
    "CREATE TABLE player_trends (\n",
    "    account_id BIGINT,\n",
    "    match_id BIGINT,\n",
    "    hero_id INTEGER,\n",
    "    p_win_pct_3 FLOAT,\n",
    "    p_win_pct_5 FLOAT,\n",
    "    p_streak_3 VARCHAR,\n",
    "    p_streak_5 VARCHAR,\n",
    "    h_win_pct_3 FLOAT,\n",
    "    h_win_pct_5 FLOAT,\n",
    "    h_streak_3 VARCHAR,\n",
    "    h_streak_5 VARCHAR,\n",
    "\n",
    "    PRIMARY KEY (account_id, match_id, hero_id)\n",
    ")\n",
    "\"\"\")"
   ]
  },
  {
   "cell_type": "code",
   "execution_count": null,
   "id": "376192be-8ef6-462d-b2ef-272137a9587a",
   "metadata": {
    "jupyter": {
     "source_hidden": true
    }
   },
   "outputs": [],
   "source": [
    "con.execute(\"\"\"\n",
    "CREATE TABLE hero_trends (\n",
    "    hero_id INTEGER,\n",
    "    trend_start_date DATE,\n",
    "    trend_end_date DATE,\n",
    "    trend_date DATE,\n",
    "    trend_window_days INTEGER,\n",
    "    pick_rate FLOAT,\n",
    "    win_rate FLOAT,\n",
    "    average_kills FLOAT,\n",
    "    average_deaths FLOAT,\n",
    "    average_assists FLOAT,\n",
    "\n",
    "    PRIMARY KEY (hero_id, trend_start_date, trend_end_date, trend_window_days)\n",
    ")\n",
    "\"\"\")\n"
   ]
  },
  {
   "cell_type": "code",
   "execution_count": null,
   "id": "045b14f6-b7d6-47ae-8d97-70bccea4d557",
   "metadata": {
    "jupyter": {
     "source_hidden": true
    }
   },
   "outputs": [],
   "source": [
    "con.execute(\"\"\"\n",
    "    CREATE TABLE player_profiles (\n",
    "    account_id BIGINT PRIMARY KEY,\n",
    "    \n",
    "    avg_p_win_pct_3 FLOAT,\n",
    "    avg_p_win_pct_5 FLOAT,\n",
    "    avg_h_win_pct_3 FLOAT,\n",
    "    avg_h_win_pct_5 FLOAT,\n",
    "    \n",
    "    total_matches INTEGER,\n",
    "\n",
    "    norm_avg_p_win_pct_3 FLOAT,  \n",
    "    norm_avg_p_win_pct_5 FLOAT,\n",
    "    norm_avg_h_win_pct_3 FLOAT,\n",
    "    norm_avg_h_win_pct_5 FLOAT\n",
    ")\n",
    "\"\"\")"
   ]
  },
  {
   "cell_type": "markdown",
   "id": "bf5cbe3e-a5ec-4c39-a779-394029c92e1d",
   "metadata": {},
   "source": [
    "duckdb sql checks"
   ]
  },
  {
   "cell_type": "code",
   "execution_count": 8,
   "id": "ebd4fb4a-b329-4fce-a25b-23b6c7404bee",
   "metadata": {},
   "outputs": [
    {
     "data": {
      "text/plain": [
       "5968"
      ]
     },
     "execution_count": 8,
     "metadata": {},
     "output_type": "execute_result"
    }
   ],
   "source": [
    "con.execute(\"SELECT COUNT(*) FROM match_holdout\").fetchone()[0]"
   ]
  },
  {
   "cell_type": "code",
   "execution_count": null,
   "id": "0e6e1b04-b850-456c-8226-e52a2e32c9df",
   "metadata": {},
   "outputs": [],
   "source": [
    "result = con.execute(\"SELECT * FROM player_profiles LIMIT 5\").fetchdf()\n",
    "print(result)"
   ]
  },
  {
   "cell_type": "code",
   "execution_count": null,
   "id": "b1b97621",
   "metadata": {},
   "outputs": [],
   "source": [
    "import requests\n",
    "m_id = [471321,471609,471883]\n",
    "site = \"https://api.deadlock-api.com\"\n",
    "endpoint = \"/v1/matches/metadata?\"\n",
    "url=f\"{site}{endpoint}include_player_info=true&match_ids={m_id}\"\n",
    "response = requests.get(url)\n",
    "if response.status_code == 200:\n",
    "    json_match_data = response.json()\n",
    "    df_match_data = pd.DataFrame(response.json())\n",
    "else:\n",
    "    print(f\"\\n\\nFailed to retrieve match data: {response.status_code}\\n\\n response: {response}\\n\\n\")\n",
    "print(response.json)"
   ]
  },
  {
   "cell_type": "code",
   "execution_count": null,
   "id": "75ba8550",
   "metadata": {},
   "outputs": [],
   "source": [
    "con.execute(\"\"\"\n",
    "            CREATE TABLE match_holdout AS\n",
    "SELECT *\n",
    "FROM match_players\n",
    "WHERE match_id IN (\n",
    "    SELECT match_id\n",
    "    FROM match_players\n",
    "    GROUP BY match_id\n",
    "    ORDER BY RANDOM()\n",
    "    LIMIT 5000  -- or however many you want to hold out\n",
    ");\"\"\")"
   ]
  }
 ],
 "metadata": {
  "kernelspec": {
   "display_name": ".venv",
   "language": "python",
   "name": "python3"
  },
  "language_info": {
   "codemirror_mode": {
    "name": "ipython",
    "version": 3
   },
   "file_extension": ".py",
   "mimetype": "text/x-python",
   "name": "python",
   "nbconvert_exporter": "python",
   "pygments_lexer": "ipython3",
   "version": "3.12.6"
  }
 },
 "nbformat": 4,
 "nbformat_minor": 5
}
