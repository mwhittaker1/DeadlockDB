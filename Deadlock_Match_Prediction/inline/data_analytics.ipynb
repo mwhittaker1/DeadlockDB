{
 "cells": [
  {
   "cell_type": "markdown",
   "id": "37504097-1881-437e-809f-ccbe25983fbb",
   "metadata": {},
   "source": [
    "Create deadlock.db"
   ]
  },
  {
   "cell_type": "code",
   "execution_count": 32,
   "id": "b78c872b-9fb0-42b5-bab6-f5bb0e5c9b5f",
   "metadata": {},
   "outputs": [],
   "source": [
    "import duckdb\n",
    "import pandas as pd\n",
    "\n",
    "con = duckdb.connect(\"c:/Code/Local Code/Deadlock Database/Deadlock_Match_Prediction/deadlock.db\")"
   ]
  },
  {
   "cell_type": "code",
   "execution_count": 33,
   "id": "1cdd45cf-0854-4b5a-9f30-21070f5eb765",
   "metadata": {},
   "outputs": [],
   "source": [
    "df = pd.read_csv(r\"\\Code\\Local Code\\Deadlock Database\\player_df.csv\")"
   ]
  },
  {
   "cell_type": "code",
   "execution_count": 34,
   "id": "16e39679-bd66-43dc-a0c2-4356a51c82c9",
   "metadata": {},
   "outputs": [
    {
     "data": {
      "text/html": [
       "<div>\n",
       "<style scoped>\n",
       "    .dataframe tbody tr th:only-of-type {\n",
       "        vertical-align: middle;\n",
       "    }\n",
       "\n",
       "    .dataframe tbody tr th {\n",
       "        vertical-align: top;\n",
       "    }\n",
       "\n",
       "    .dataframe thead th {\n",
       "        text-align: right;\n",
       "    }\n",
       "</style>\n",
       "<table border=\"1\" class=\"dataframe\">\n",
       "  <thead>\n",
       "    <tr style=\"text-align: right;\">\n",
       "      <th></th>\n",
       "      <th>account_id</th>\n",
       "      <th>match_id</th>\n",
       "      <th>hero_id</th>\n",
       "      <th>hero_level</th>\n",
       "      <th>player_team</th>\n",
       "      <th>player_kills</th>\n",
       "      <th>player_deaths</th>\n",
       "      <th>player_assists</th>\n",
       "      <th>denies</th>\n",
       "      <th>net_worth</th>\n",
       "      <th>last_hits</th>\n",
       "      <th>team_abandoned</th>\n",
       "      <th>abandoned_time_s</th>\n",
       "      <th>won</th>\n",
       "      <th>p_total_kills</th>\n",
       "      <th>p_total_deaths</th>\n",
       "      <th>p_avg_kd</th>\n",
       "      <th>p_total_matches</th>\n",
       "      <th>p_h_total_matches</th>\n",
       "      <th>p_h_pick_pct</th>\n",
       "    </tr>\n",
       "  </thead>\n",
       "  <tbody>\n",
       "    <tr>\n",
       "      <th>0</th>\n",
       "      <td>356216207</td>\n",
       "      <td>2560778</td>\n",
       "      <td>2</td>\n",
       "      <td>19</td>\n",
       "      <td>1</td>\n",
       "      <td>10</td>\n",
       "      <td>4</td>\n",
       "      <td>14</td>\n",
       "      <td>1</td>\n",
       "      <td>22164</td>\n",
       "      <td>78</td>\n",
       "      <td>False</td>\n",
       "      <td>0.0</td>\n",
       "      <td>True</td>\n",
       "      <td>14521</td>\n",
       "      <td>10311</td>\n",
       "      <td>1.408302</td>\n",
       "      <td>1762</td>\n",
       "      <td>174</td>\n",
       "      <td>9.88</td>\n",
       "    </tr>\n",
       "    <tr>\n",
       "      <th>1</th>\n",
       "      <td>356216207</td>\n",
       "      <td>2563975</td>\n",
       "      <td>1</td>\n",
       "      <td>21</td>\n",
       "      <td>0</td>\n",
       "      <td>10</td>\n",
       "      <td>4</td>\n",
       "      <td>12</td>\n",
       "      <td>0</td>\n",
       "      <td>26105</td>\n",
       "      <td>110</td>\n",
       "      <td>False</td>\n",
       "      <td>0.0</td>\n",
       "      <td>True</td>\n",
       "      <td>14521</td>\n",
       "      <td>10311</td>\n",
       "      <td>1.408302</td>\n",
       "      <td>1762</td>\n",
       "      <td>164</td>\n",
       "      <td>9.31</td>\n",
       "    </tr>\n",
       "    <tr>\n",
       "      <th>2</th>\n",
       "      <td>356216207</td>\n",
       "      <td>2567161</td>\n",
       "      <td>27</td>\n",
       "      <td>9</td>\n",
       "      <td>0</td>\n",
       "      <td>1</td>\n",
       "      <td>6</td>\n",
       "      <td>4</td>\n",
       "      <td>0</td>\n",
       "      <td>6970</td>\n",
       "      <td>44</td>\n",
       "      <td>False</td>\n",
       "      <td>0.0</td>\n",
       "      <td>False</td>\n",
       "      <td>14521</td>\n",
       "      <td>10311</td>\n",
       "      <td>1.408302</td>\n",
       "      <td>1762</td>\n",
       "      <td>81</td>\n",
       "      <td>4.60</td>\n",
       "    </tr>\n",
       "    <tr>\n",
       "      <th>3</th>\n",
       "      <td>356216207</td>\n",
       "      <td>2574453</td>\n",
       "      <td>19</td>\n",
       "      <td>23</td>\n",
       "      <td>1</td>\n",
       "      <td>8</td>\n",
       "      <td>7</td>\n",
       "      <td>14</td>\n",
       "      <td>3</td>\n",
       "      <td>30027</td>\n",
       "      <td>104</td>\n",
       "      <td>False</td>\n",
       "      <td>0.0</td>\n",
       "      <td>False</td>\n",
       "      <td>14521</td>\n",
       "      <td>10311</td>\n",
       "      <td>1.408302</td>\n",
       "      <td>1762</td>\n",
       "      <td>169</td>\n",
       "      <td>9.59</td>\n",
       "    </tr>\n",
       "    <tr>\n",
       "      <th>4</th>\n",
       "      <td>356216207</td>\n",
       "      <td>2579485</td>\n",
       "      <td>50</td>\n",
       "      <td>17</td>\n",
       "      <td>0</td>\n",
       "      <td>8</td>\n",
       "      <td>7</td>\n",
       "      <td>0</td>\n",
       "      <td>3</td>\n",
       "      <td>16395</td>\n",
       "      <td>74</td>\n",
       "      <td>False</td>\n",
       "      <td>0.0</td>\n",
       "      <td>False</td>\n",
       "      <td>14521</td>\n",
       "      <td>10311</td>\n",
       "      <td>1.408302</td>\n",
       "      <td>1762</td>\n",
       "      <td>53</td>\n",
       "      <td>3.01</td>\n",
       "    </tr>\n",
       "  </tbody>\n",
       "</table>\n",
       "</div>"
      ],
      "text/plain": [
       "   account_id  match_id  hero_id  hero_level  player_team  player_kills  \\\n",
       "0   356216207   2560778        2          19            1            10   \n",
       "1   356216207   2563975        1          21            0            10   \n",
       "2   356216207   2567161       27           9            0             1   \n",
       "3   356216207   2574453       19          23            1             8   \n",
       "4   356216207   2579485       50          17            0             8   \n",
       "\n",
       "   player_deaths  player_assists  denies  net_worth  last_hits team_abandoned  \\\n",
       "0              4              14       1      22164         78          False   \n",
       "1              4              12       0      26105        110          False   \n",
       "2              6               4       0       6970         44          False   \n",
       "3              7              14       3      30027        104          False   \n",
       "4              7               0       3      16395         74          False   \n",
       "\n",
       "   abandoned_time_s    won  p_total_kills  p_total_deaths  p_avg_kd  \\\n",
       "0               0.0   True          14521           10311  1.408302   \n",
       "1               0.0   True          14521           10311  1.408302   \n",
       "2               0.0  False          14521           10311  1.408302   \n",
       "3               0.0  False          14521           10311  1.408302   \n",
       "4               0.0  False          14521           10311  1.408302   \n",
       "\n",
       "   p_total_matches  p_h_total_matches  p_h_pick_pct  \n",
       "0             1762                174          9.88  \n",
       "1             1762                164          9.31  \n",
       "2             1762                 81          4.60  \n",
       "3             1762                169          9.59  \n",
       "4             1762                 53          3.01  "
      ]
     },
     "execution_count": 34,
     "metadata": {},
     "output_type": "execute_result"
    }
   ],
   "source": [
    "df.head()"
   ]
  },
  {
   "cell_type": "code",
   "execution_count": 35,
   "id": "73148d3b-c32c-457e-97ef-fba7e11b6dc8",
   "metadata": {},
   "outputs": [
    {
     "data": {
      "text/plain": [
       "account_id\n",
       "925951531     104775\n",
       "337955472     102060\n",
       "244471627     101608\n",
       "451711628      99603\n",
       "301594065      92598\n",
       "               ...  \n",
       "1175819752        76\n",
       "1563872085        73\n",
       "1874854061        56\n",
       "246353833         56\n",
       "1871135503        56\n",
       "Name: count, Length: 424, dtype: int64"
      ]
     },
     "execution_count": 35,
     "metadata": {},
     "output_type": "execute_result"
    }
   ],
   "source": [
    "df['account_id'].value_counts()"
   ]
  },
  {
   "cell_type": "code",
   "execution_count": 36,
   "id": "7d1a1293-36e8-4cef-aad3-b21505c2b249",
   "metadata": {},
   "outputs": [
    {
     "data": {
      "text/plain": [
       "match_id\n",
       "33228355    219\n",
       "33229871    195\n",
       "34494378    189\n",
       "35118078    187\n",
       "33613285    186\n",
       "           ... \n",
       "33484323      1\n",
       "33484852      1\n",
       "33551333      1\n",
       "33553030      1\n",
       "33585452      1\n",
       "Name: count, Length: 332194, dtype: int64"
      ]
     },
     "execution_count": 36,
     "metadata": {},
     "output_type": "execute_result"
    }
   ],
   "source": [
    "df['match_id'].value_counts()"
   ]
  },
  {
   "cell_type": "code",
   "execution_count": 37,
   "id": "b77dc05b-d7ca-410d-8362-84e1ce2388f0",
   "metadata": {},
   "outputs": [
    {
     "name": "stdout",
     "output_type": "stream",
     "text": [
      "37091\n"
     ]
    }
   ],
   "source": [
    "match_counts = (\n",
    "    df.groupby('match_id')['account_id']\n",
    "    .count()\n",
    "    .reset_index(name='player_count')\n",
    ")\n",
    "full_matches = match_counts[match_counts['player_count'] == 2]\n",
    "print(len(full_matches))"
   ]
  },
  {
   "cell_type": "code",
   "execution_count": 38,
   "id": "aade022f-a4c8-4257-9d39-01614158640a",
   "metadata": {},
   "outputs": [
    {
     "data": {
      "text/plain": [
       "account_id\n",
       "1      61143\n",
       "2      37091\n",
       "3      14549\n",
       "4      23895\n",
       "5      19487\n",
       "       ...  \n",
       "186        2\n",
       "187        1\n",
       "189        1\n",
       "195        1\n",
       "219        1\n",
       "Name: count, Length: 161, dtype: int64"
      ]
     },
     "execution_count": 38,
     "metadata": {},
     "output_type": "execute_result"
    }
   ],
   "source": [
    "(\n",
    "    df.groupby('match_id')['account_id']\n",
    "    .count()\n",
    "    .value_counts()\n",
    "    .sort_index()\n",
    ")"
   ]
  },
  {
   "cell_type": "code",
   "execution_count": 39,
   "id": "9f845548-f39b-467c-85af-2f7498925ee4",
   "metadata": {},
   "outputs": [
    {
     "name": "stdout",
     "output_type": "stream",
     "text": [
      "[(0, 'match_id', 'BIGINT', True, None, True), (1, 'account_id', 'BIGINT', True, None, True), (2, 'start_time', 'TIMESTAMP', False, None, False), (3, 'game_mode', 'VARCHAR', False, None, False), (4, 'match_mode', 'VARCHAR', False, None, False), (5, 'duration_s', 'INTEGER', False, None, False), (6, 'winning_team', 'VARCHAR', False, None, False)]\n"
     ]
    }
   ],
   "source": [
    "sql = con.execute(\"PRAGMA table_info('matches')\").fetchall()\n",
    "print(sql)"
   ]
  },
  {
   "cell_type": "code",
   "execution_count": 41,
   "id": "e08a2702-5d5e-46e7-b0e7-d024f875aa43",
   "metadata": {},
   "outputs": [
    {
     "data": {
      "text/plain": [
       "1     67997\n",
       "2     44258\n",
       "4     30448\n",
       "5     24580\n",
       "7     22655\n",
       "6     19254\n",
       "9     18820\n",
       "3     17975\n",
       "12    13192\n",
       "15    11233\n",
       "10    10154\n",
       "33     8923\n",
       "11     8455\n",
       "13     7882\n",
       "18     6906\n",
       "16     5926\n",
       "14     5691\n",
       "26     5534\n",
       "17     5410\n",
       "42     4551\n",
       "38     4338\n",
       "8      3850\n",
       "28     3439\n",
       "22     3186\n",
       "20     3026\n",
       "32     2500\n",
       "27     2398\n",
       "24     2378\n",
       "44     1969\n",
       "52     1954\n",
       "51     1953\n",
       "55     1905\n",
       "19     1872\n",
       "21     1682\n",
       "34     1269\n",
       "45     1002\n",
       "40      968\n",
       "62      810\n",
       "36      611\n",
       "30      545\n",
       "47      300\n",
       "Name: count, dtype: int64"
      ]
     },
     "execution_count": 41,
     "metadata": {},
     "output_type": "execute_result"
    }
   ],
   "source": [
    "df.groupby(['account_id', 'match_id']).size().value_counts()"
   ]
  },
  {
   "cell_type": "code",
   "execution_count": 43,
   "id": "aa76ed4c-9f5d-48c5-a15b-498f0de149cc",
   "metadata": {},
   "outputs": [
    {
     "name": "stdout",
     "output_type": "stream",
     "text": [
      "        account_id  match_id  count\n",
      "313887  1150831835  32448333     62\n",
      "314414  1150831835  35268297     62\n",
      "314415  1150831835  35319686     62\n",
      "314418  1150831835  35320993     62\n",
      "314352  1150831835  35049317     62\n",
      "314353  1150831835  35050217     62\n",
      "314402  1150831835  35212329     62\n",
      "314416  1150831835  35320349     62\n",
      "314417  1150831835  35320468     62\n",
      "314419  1150831835  35322198     62\n",
      "314404  1150831835  35234395     62\n",
      "314405  1150831835  35237943     62\n",
      "314421  1150831835  35323614     62\n",
      "314422  1150831835  35324936     62\n",
      "314410  1150831835  35245605     62\n",
      "314396  1150831835  35141134     62\n",
      "314397  1150831835  35142034     62\n",
      "314382  1150831835  35098729     62\n",
      "314383  1150831835  35099624     62\n",
      "314400  1150831835  35149992     62\n",
      "314413  1150831835  35267918     62\n",
      "314398  1150831835  35144495     62\n",
      "314399  1150831835  35149081     62\n",
      "314355  1150831835  35051557     62\n",
      "314340  1150831835  35004513     62\n",
      "314341  1150831835  35015583     62\n",
      "314390  1150831835  35115450     62\n",
      "314391  1150831835  35118078     62\n",
      "314424  1150831835  35326999     62\n",
      "314412  1150831835  35246287     62\n"
     ]
    }
   ],
   "source": [
    "dupes = (\n",
    "    df.groupby(['account_id', 'match_id'])\n",
    "      .size()\n",
    "      .reset_index(name='count')\n",
    "      .sort_values(by='count', ascending=False)\n",
    ")\n",
    "\n",
    "print(dupes.head(30))"
   ]
  },
  {
   "cell_type": "code",
   "execution_count": 40,
   "id": "2fb3e021-6050-49dd-9a30-c7009f7cf92b",
   "metadata": {
    "scrolled": true
   },
   "outputs": [
    {
     "name": "stdout",
     "output_type": "stream",
     "text": [
      "[]\n"
     ]
    }
   ],
   "source": [
    "sql = con.execute(\"SELECT match_id, account_id, COUNT(*) AS dup_count FROM matches GROUP BY match_id, account_id HAVING COUNT(*) > 1;\").fetchall()\n",
    "print(sql)"
   ]
  },
  {
   "cell_type": "markdown",
   "id": "a3117946-bc3f-42f6-844e-4942ede9bbb9",
   "metadata": {},
   "source": [
    "Drop tables for reset"
   ]
  },
  {
   "cell_type": "code",
   "execution_count": null,
   "id": "ec64d061-f321-4da2-832a-0945164a08c1",
   "metadata": {},
   "outputs": [],
   "source": [
    "def drop_tables(con):\n",
    "    con.execute(\"DROP TABLE IF EXISTS matches\")\n",
    "    con.execute(\"DROP TABLE IF EXISTS player_matches\")\n",
    "    con.execute(\"DROP TABLE IF EXISTS player_trends\")\n",
    "    con.execute(\"DROP TABLE IF EXISTS hero_trends\")"
   ]
  },
  {
   "cell_type": "markdown",
   "id": "8636c24c-53e8-40fb-b602-39fc092fa363",
   "metadata": {},
   "source": [
    "Create tables"
   ]
  },
  {
   "cell_type": "code",
   "execution_count": null,
   "id": "41d1e557-b43c-4456-9176-f66c428925e8",
   "metadata": {
    "jupyter": {
     "source_hidden": true
    }
   },
   "outputs": [],
   "source": [
    "con.execute(\"\"\"\n",
    "CREATE TABLE matches (\n",
    "    match_id BIGINT PRIMARY KEY,\n",
    "    start_time TIMESTAMP,\n",
    "    game_mode INTEGER,\n",
    "    match_mode INTEGER,\n",
    "    match_duration_s INTEGER,\n",
    "    objectives_mask_team0 BIGINT,\n",
    "    objectives_mask_team1 BIGINT,\n",
    "    match_result VARCHAR\n",
    ")\n",
    "\"\"\")"
   ]
  },
  {
   "cell_type": "code",
   "execution_count": null,
   "id": "973a04f9-3020-497a-8395-17d4fd5ea994",
   "metadata": {
    "jupyter": {
     "source_hidden": true
    }
   },
   "outputs": [],
   "source": [
    "con.execute(\"\"\"\n",
    "CREATE TABLE player_matches (\n",
    "    account_id BIGINT,\n",
    "    match_id BIGINT,\n",
    "    hero_id INTEGER,\n",
    "    hero_level INTEGER,\n",
    "    player_team INTEGER,\n",
    "    player_kills INTEGER,\n",
    "    player_deaths INTEGER,\n",
    "    player_assists INTEGER,\n",
    "    denies INTEGER,\n",
    "    net_worth BIGINT,\n",
    "    last_hits INTEGER,\n",
    "    team_abandoned BOOLEAN,\n",
    "    abandoned_time_s INTEGER,\n",
    "    won BOOLEAN,\n",
    "    \n",
    "    PRIMARY KEY (account_id, match_id)\n",
    ")\n",
    "\"\"\")"
   ]
  },
  {
   "cell_type": "code",
   "execution_count": null,
   "id": "f334a840-df97-411d-a056-bb3f74e332f8",
   "metadata": {
    "jupyter": {
     "source_hidden": true
    }
   },
   "outputs": [],
   "source": [
    "con.execute(\"\"\"\n",
    "CREATE TABLE player_trends (\n",
    "    account_id BIGINT,\n",
    "    match_id BIGINT,\n",
    "    hero_id INTEGER,\n",
    "    p_win_pct_3 FLOAT,\n",
    "    p_win_pct_5 FLOAT,\n",
    "    p_streak_3 VARCHAR,\n",
    "    p_streak_5 VARCHAR,\n",
    "    h_win_pct_3 FLOAT,\n",
    "    h_win_pct_5 FLOAT,\n",
    "    h_streak_3 VARCHAR,\n",
    "    h_streak_5 VARCHAR,\n",
    "\n",
    "    PRIMARY KEY (account_id, match_id, hero_id)\n",
    ")\n",
    "\"\"\")"
   ]
  },
  {
   "cell_type": "code",
   "execution_count": null,
   "id": "376192be-8ef6-462d-b2ef-272137a9587a",
   "metadata": {
    "jupyter": {
     "source_hidden": true
    }
   },
   "outputs": [],
   "source": [
    "con.execute(\"\"\"\n",
    "CREATE TABLE hero_trends (\n",
    "    hero_id INTEGER,\n",
    "    trend_start_date DATE,\n",
    "    trend_end_date DATE,\n",
    "    trend_date DATE,\n",
    "    trend_window_days INTEGER,\n",
    "    pick_rate FLOAT,\n",
    "    win_rate FLOAT,\n",
    "    average_kills FLOAT,\n",
    "    average_deaths FLOAT,\n",
    "    average_assists FLOAT,\n",
    "\n",
    "    PRIMARY KEY (hero_id, trend_start_date, trend_end_date, trend_window_days)\n",
    ")\n",
    "\"\"\")\n"
   ]
  },
  {
   "cell_type": "code",
   "execution_count": null,
   "id": "045b14f6-b7d6-47ae-8d97-70bccea4d557",
   "metadata": {
    "jupyter": {
     "source_hidden": true
    }
   },
   "outputs": [],
   "source": [
    "con.execute(\"\"\"\n",
    "    CREATE TABLE player_profiles (\n",
    "    account_id BIGINT PRIMARY KEY,\n",
    "    \n",
    "    avg_p_win_pct_3 FLOAT,\n",
    "    avg_p_win_pct_5 FLOAT,\n",
    "    avg_h_win_pct_3 FLOAT,\n",
    "    avg_h_win_pct_5 FLOAT,\n",
    "    \n",
    "    total_matches INTEGER,\n",
    "\n",
    "    norm_avg_p_win_pct_3 FLOAT,  \n",
    "    norm_avg_p_win_pct_5 FLOAT,\n",
    "    norm_avg_h_win_pct_3 FLOAT,\n",
    "    norm_avg_h_win_pct_5 FLOAT\n",
    ")\n",
    "\"\"\")"
   ]
  },
  {
   "cell_type": "markdown",
   "id": "bf5cbe3e-a5ec-4c39-a779-394029c92e1d",
   "metadata": {},
   "source": [
    "duckdb sql checks"
   ]
  },
  {
   "cell_type": "code",
   "execution_count": 8,
   "id": "ebd4fb4a-b329-4fce-a25b-23b6c7404bee",
   "metadata": {},
   "outputs": [
    {
     "data": {
      "text/plain": [
       "5968"
      ]
     },
     "execution_count": 8,
     "metadata": {},
     "output_type": "execute_result"
    }
   ],
   "source": [
    "con.execute(\"SELECT COUNT(*) FROM match_holdout\").fetchone()[0]"
   ]
  },
  {
   "cell_type": "code",
   "execution_count": null,
   "id": "0e6e1b04-b850-456c-8226-e52a2e32c9df",
   "metadata": {},
   "outputs": [],
   "source": [
    "result = con.execute(\"SELECT * FROM player_profiles LIMIT 5\").fetchdf()\n",
    "print(result)"
   ]
  },
  {
   "cell_type": "code",
   "execution_count": null,
   "id": "b1b97621",
   "metadata": {},
   "outputs": [],
   "source": [
    "import requests\n",
    "m_id = [471321,471609,471883]\n",
    "site = \"https://api.deadlock-api.com\"\n",
    "endpoint = \"/v1/matches/metadata?\"\n",
    "url=f\"{site}{endpoint}include_player_info=true&match_ids={m_id}\"\n",
    "response = requests.get(url)\n",
    "if response.status_code == 200:\n",
    "    json_match_data = response.json()\n",
    "    df_match_data = pd.DataFrame(response.json())\n",
    "else:\n",
    "    print(f\"\\n\\nFailed to retrieve match data: {response.status_code}\\n\\n response: {response}\\n\\n\")\n",
    "print(response.json)"
   ]
  },
  {
   "cell_type": "code",
   "execution_count": null,
   "id": "75ba8550",
   "metadata": {},
   "outputs": [],
   "source": [
    "con.execute(\"\"\"\n",
    "            CREATE TABLE match_holdout AS\n",
    "SELECT *\n",
    "FROM match_players\n",
    "WHERE match_id IN (\n",
    "    SELECT match_id\n",
    "    FROM match_players\n",
    "    GROUP BY match_id\n",
    "    ORDER BY RANDOM()\n",
    "    LIMIT 5000  -- or however many you want to hold out\n",
    ");\"\"\")"
   ]
  }
 ],
 "metadata": {
  "kernelspec": {
   "display_name": "Python 3 (ipykernel)",
   "language": "python",
   "name": "python3"
  },
  "language_info": {
   "codemirror_mode": {
    "name": "ipython",
    "version": 3
   },
   "file_extension": ".py",
   "mimetype": "text/x-python",
   "name": "python",
   "nbconvert_exporter": "python",
   "pygments_lexer": "ipython3",
   "version": "3.12.6"
  }
 },
 "nbformat": 4,
 "nbformat_minor": 5
}
