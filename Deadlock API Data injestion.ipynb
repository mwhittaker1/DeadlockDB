{
 "cells": [
  {
   "cell_type": "markdown",
   "id": "a1b70bd4-025e-4ec0-a387-e31e77de687f",
   "metadata": {},
   "source": [
    "#Collect API Data from Deadlock-API Project, filter, format, and insert into Deadlock.db\n",
    "\n",
    "#Requirements import from .txt\n",
    "#Fetch data based on URL (site+endpoint)\n",
    "##Fetch hero data\n",
    "#Filter fetched data based on filters\n",
    "##Filter hero data\n",
    "#prints or formatting"
   ]
  },
  {
   "cell_type": "markdown",
   "id": "ff830c01-4d0b-44f4-9f03-6478003fac4e",
   "metadata": {},
   "source": [
    "#Requirements import from .txt"
   ]
  },
  {
   "cell_type": "code",
   "execution_count": 1,
   "id": "704f5f7d-99ec-48c1-a1a5-89160a8eade3",
   "metadata": {
    "scrolled": true
   },
   "outputs": [
    {
     "name": "stdout",
     "output_type": "stream",
     "text": [
      "Defaulting to user installation because normal site-packages is not writeable\n",
      "Requirement already satisfied: anyio==4.9.0 in c:\\users\\mwhit\\appdata\\local\\packages\\pythonsoftwarefoundation.python.3.12_qbz5n2kfra8p0\\localcache\\local-packages\\python312\\site-packages (from -r requirements.txt (line 1)) (4.9.0)\n",
      "Requirement already satisfied: argon2-cffi==23.1.0 in c:\\users\\mwhit\\appdata\\local\\packages\\pythonsoftwarefoundation.python.3.12_qbz5n2kfra8p0\\localcache\\local-packages\\python312\\site-packages (from -r requirements.txt (line 2)) (23.1.0)\n",
      "Requirement already satisfied: argon2-cffi-bindings==21.2.0 in c:\\users\\mwhit\\appdata\\local\\packages\\pythonsoftwarefoundation.python.3.12_qbz5n2kfra8p0\\localcache\\local-packages\\python312\\site-packages (from -r requirements.txt (line 3)) (21.2.0)\n",
      "Requirement already satisfied: arrow==1.3.0 in c:\\users\\mwhit\\appdata\\local\\packages\\pythonsoftwarefoundation.python.3.12_qbz5n2kfra8p0\\localcache\\local-packages\\python312\\site-packages (from -r requirements.txt (line 4)) (1.3.0)\n",
      "Requirement already satisfied: asttokens==3.0.0 in c:\\users\\mwhit\\appdata\\local\\packages\\pythonsoftwarefoundation.python.3.12_qbz5n2kfra8p0\\localcache\\local-packages\\python312\\site-packages (from -r requirements.txt (line 5)) (3.0.0)\n",
      "Requirement already satisfied: async-lru==2.0.5 in c:\\users\\mwhit\\appdata\\local\\packages\\pythonsoftwarefoundation.python.3.12_qbz5n2kfra8p0\\localcache\\local-packages\\python312\\site-packages (from -r requirements.txt (line 6)) (2.0.5)\n",
      "Requirement already satisfied: attrs==25.3.0 in c:\\users\\mwhit\\appdata\\local\\packages\\pythonsoftwarefoundation.python.3.12_qbz5n2kfra8p0\\localcache\\local-packages\\python312\\site-packages (from -r requirements.txt (line 7)) (25.3.0)\n",
      "Requirement already satisfied: babel==2.17.0 in c:\\users\\mwhit\\appdata\\local\\packages\\pythonsoftwarefoundation.python.3.12_qbz5n2kfra8p0\\localcache\\local-packages\\python312\\site-packages (from -r requirements.txt (line 8)) (2.17.0)\n",
      "Requirement already satisfied: beautifulsoup4==4.13.3 in c:\\users\\mwhit\\appdata\\local\\packages\\pythonsoftwarefoundation.python.3.12_qbz5n2kfra8p0\\localcache\\local-packages\\python312\\site-packages (from -r requirements.txt (line 9)) (4.13.3)\n",
      "Requirement already satisfied: bleach==6.2.0 in c:\\users\\mwhit\\appdata\\local\\packages\\pythonsoftwarefoundation.python.3.12_qbz5n2kfra8p0\\localcache\\local-packages\\python312\\site-packages (from -r requirements.txt (line 10)) (6.2.0)\n",
      "Requirement already satisfied: certifi==2025.1.31 in c:\\users\\mwhit\\appdata\\local\\packages\\pythonsoftwarefoundation.python.3.12_qbz5n2kfra8p0\\localcache\\local-packages\\python312\\site-packages (from -r requirements.txt (line 11)) (2025.1.31)\n",
      "Requirement already satisfied: cffi==1.17.1 in c:\\users\\mwhit\\appdata\\local\\packages\\pythonsoftwarefoundation.python.3.12_qbz5n2kfra8p0\\localcache\\local-packages\\python312\\site-packages (from -r requirements.txt (line 12)) (1.17.1)\n",
      "Requirement already satisfied: charset-normalizer==3.4.1 in c:\\users\\mwhit\\appdata\\local\\packages\\pythonsoftwarefoundation.python.3.12_qbz5n2kfra8p0\\localcache\\local-packages\\python312\\site-packages (from -r requirements.txt (line 13)) (3.4.1)\n",
      "Requirement already satisfied: colorama==0.4.6 in c:\\users\\mwhit\\appdata\\local\\packages\\pythonsoftwarefoundation.python.3.12_qbz5n2kfra8p0\\localcache\\local-packages\\python312\\site-packages (from -r requirements.txt (line 14)) (0.4.6)\n",
      "Requirement already satisfied: comm==0.2.2 in c:\\users\\mwhit\\appdata\\local\\packages\\pythonsoftwarefoundation.python.3.12_qbz5n2kfra8p0\\localcache\\local-packages\\python312\\site-packages (from -r requirements.txt (line 15)) (0.2.2)\n",
      "Requirement already satisfied: debugpy==1.8.13 in c:\\users\\mwhit\\appdata\\local\\packages\\pythonsoftwarefoundation.python.3.12_qbz5n2kfra8p0\\localcache\\local-packages\\python312\\site-packages (from -r requirements.txt (line 16)) (1.8.13)\n",
      "Requirement already satisfied: decorator==5.2.1 in c:\\users\\mwhit\\appdata\\local\\packages\\pythonsoftwarefoundation.python.3.12_qbz5n2kfra8p0\\localcache\\local-packages\\python312\\site-packages (from -r requirements.txt (line 17)) (5.2.1)\n",
      "Requirement already satisfied: defusedxml==0.7.1 in c:\\users\\mwhit\\appdata\\local\\packages\\pythonsoftwarefoundation.python.3.12_qbz5n2kfra8p0\\localcache\\local-packages\\python312\\site-packages (from -r requirements.txt (line 18)) (0.7.1)\n",
      "Requirement already satisfied: executing==2.2.0 in c:\\users\\mwhit\\appdata\\local\\packages\\pythonsoftwarefoundation.python.3.12_qbz5n2kfra8p0\\localcache\\local-packages\\python312\\site-packages (from -r requirements.txt (line 19)) (2.2.0)\n",
      "Requirement already satisfied: fastjsonschema==2.21.1 in c:\\users\\mwhit\\appdata\\local\\packages\\pythonsoftwarefoundation.python.3.12_qbz5n2kfra8p0\\localcache\\local-packages\\python312\\site-packages (from -r requirements.txt (line 20)) (2.21.1)\n",
      "Requirement already satisfied: fqdn==1.5.1 in c:\\users\\mwhit\\appdata\\local\\packages\\pythonsoftwarefoundation.python.3.12_qbz5n2kfra8p0\\localcache\\local-packages\\python312\\site-packages (from -r requirements.txt (line 21)) (1.5.1)\n",
      "Requirement already satisfied: h11==0.14.0 in c:\\users\\mwhit\\appdata\\local\\packages\\pythonsoftwarefoundation.python.3.12_qbz5n2kfra8p0\\localcache\\local-packages\\python312\\site-packages (from -r requirements.txt (line 22)) (0.14.0)\n",
      "Requirement already satisfied: httpcore==1.0.7 in c:\\users\\mwhit\\appdata\\local\\packages\\pythonsoftwarefoundation.python.3.12_qbz5n2kfra8p0\\localcache\\local-packages\\python312\\site-packages (from -r requirements.txt (line 23)) (1.0.7)\n",
      "Requirement already satisfied: httpx==0.28.1 in c:\\users\\mwhit\\appdata\\local\\packages\\pythonsoftwarefoundation.python.3.12_qbz5n2kfra8p0\\localcache\\local-packages\\python312\\site-packages (from -r requirements.txt (line 24)) (0.28.1)\n",
      "Requirement already satisfied: idna==3.10 in c:\\users\\mwhit\\appdata\\local\\packages\\pythonsoftwarefoundation.python.3.12_qbz5n2kfra8p0\\localcache\\local-packages\\python312\\site-packages (from -r requirements.txt (line 25)) (3.10)\n",
      "Requirement already satisfied: ipykernel==6.29.5 in c:\\users\\mwhit\\appdata\\local\\packages\\pythonsoftwarefoundation.python.3.12_qbz5n2kfra8p0\\localcache\\local-packages\\python312\\site-packages (from -r requirements.txt (line 26)) (6.29.5)\n",
      "Requirement already satisfied: ipython==9.0.2 in c:\\users\\mwhit\\appdata\\local\\packages\\pythonsoftwarefoundation.python.3.12_qbz5n2kfra8p0\\localcache\\local-packages\\python312\\site-packages (from -r requirements.txt (line 27)) (9.0.2)\n",
      "Requirement already satisfied: ipython_pygments_lexers==1.1.1 in c:\\users\\mwhit\\appdata\\local\\packages\\pythonsoftwarefoundation.python.3.12_qbz5n2kfra8p0\\localcache\\local-packages\\python312\\site-packages (from -r requirements.txt (line 28)) (1.1.1)\n",
      "Requirement already satisfied: isoduration==20.11.0 in c:\\users\\mwhit\\appdata\\local\\packages\\pythonsoftwarefoundation.python.3.12_qbz5n2kfra8p0\\localcache\\local-packages\\python312\\site-packages (from -r requirements.txt (line 29)) (20.11.0)\n",
      "Requirement already satisfied: jedi==0.19.2 in c:\\users\\mwhit\\appdata\\local\\packages\\pythonsoftwarefoundation.python.3.12_qbz5n2kfra8p0\\localcache\\local-packages\\python312\\site-packages (from -r requirements.txt (line 30)) (0.19.2)\n",
      "Requirement already satisfied: Jinja2==3.1.6 in c:\\users\\mwhit\\appdata\\local\\packages\\pythonsoftwarefoundation.python.3.12_qbz5n2kfra8p0\\localcache\\local-packages\\python312\\site-packages (from -r requirements.txt (line 31)) (3.1.6)\n",
      "Requirement already satisfied: json5==0.10.0 in c:\\users\\mwhit\\appdata\\local\\packages\\pythonsoftwarefoundation.python.3.12_qbz5n2kfra8p0\\localcache\\local-packages\\python312\\site-packages (from -r requirements.txt (line 32)) (0.10.0)\n",
      "Requirement already satisfied: jsonpointer==3.0.0 in c:\\users\\mwhit\\appdata\\local\\packages\\pythonsoftwarefoundation.python.3.12_qbz5n2kfra8p0\\localcache\\local-packages\\python312\\site-packages (from -r requirements.txt (line 33)) (3.0.0)\n",
      "Requirement already satisfied: jsonschema==4.23.0 in c:\\users\\mwhit\\appdata\\local\\packages\\pythonsoftwarefoundation.python.3.12_qbz5n2kfra8p0\\localcache\\local-packages\\python312\\site-packages (from -r requirements.txt (line 34)) (4.23.0)\n",
      "Requirement already satisfied: jsonschema-specifications==2024.10.1 in c:\\users\\mwhit\\appdata\\local\\packages\\pythonsoftwarefoundation.python.3.12_qbz5n2kfra8p0\\localcache\\local-packages\\python312\\site-packages (from -r requirements.txt (line 35)) (2024.10.1)\n",
      "Requirement already satisfied: jupyter-events==0.12.0 in c:\\users\\mwhit\\appdata\\local\\packages\\pythonsoftwarefoundation.python.3.12_qbz5n2kfra8p0\\localcache\\local-packages\\python312\\site-packages (from -r requirements.txt (line 36)) (0.12.0)\n",
      "Requirement already satisfied: jupyter-lsp==2.2.5 in c:\\users\\mwhit\\appdata\\local\\packages\\pythonsoftwarefoundation.python.3.12_qbz5n2kfra8p0\\localcache\\local-packages\\python312\\site-packages (from -r requirements.txt (line 37)) (2.2.5)\n",
      "Requirement already satisfied: jupyter_client==8.6.3 in c:\\users\\mwhit\\appdata\\local\\packages\\pythonsoftwarefoundation.python.3.12_qbz5n2kfra8p0\\localcache\\local-packages\\python312\\site-packages (from -r requirements.txt (line 38)) (8.6.3)\n",
      "Requirement already satisfied: jupyter_core==5.7.2 in c:\\users\\mwhit\\appdata\\local\\packages\\pythonsoftwarefoundation.python.3.12_qbz5n2kfra8p0\\localcache\\local-packages\\python312\\site-packages (from -r requirements.txt (line 39)) (5.7.2)\n",
      "Requirement already satisfied: jupyter_server==2.15.0 in c:\\users\\mwhit\\appdata\\local\\packages\\pythonsoftwarefoundation.python.3.12_qbz5n2kfra8p0\\localcache\\local-packages\\python312\\site-packages (from -r requirements.txt (line 40)) (2.15.0)\n",
      "Requirement already satisfied: jupyter_server_terminals==0.5.3 in c:\\users\\mwhit\\appdata\\local\\packages\\pythonsoftwarefoundation.python.3.12_qbz5n2kfra8p0\\localcache\\local-packages\\python312\\site-packages (from -r requirements.txt (line 41)) (0.5.3)\n",
      "Requirement already satisfied: jupyterlab==4.3.6 in c:\\users\\mwhit\\appdata\\local\\packages\\pythonsoftwarefoundation.python.3.12_qbz5n2kfra8p0\\localcache\\local-packages\\python312\\site-packages (from -r requirements.txt (line 42)) (4.3.6)\n",
      "Requirement already satisfied: jupyterlab_pygments==0.3.0 in c:\\users\\mwhit\\appdata\\local\\packages\\pythonsoftwarefoundation.python.3.12_qbz5n2kfra8p0\\localcache\\local-packages\\python312\\site-packages (from -r requirements.txt (line 43)) (0.3.0)\n",
      "Requirement already satisfied: jupyterlab_server==2.27.3 in c:\\users\\mwhit\\appdata\\local\\packages\\pythonsoftwarefoundation.python.3.12_qbz5n2kfra8p0\\localcache\\local-packages\\python312\\site-packages (from -r requirements.txt (line 44)) (2.27.3)\n",
      "Requirement already satisfied: MarkupSafe==3.0.2 in c:\\users\\mwhit\\appdata\\local\\packages\\pythonsoftwarefoundation.python.3.12_qbz5n2kfra8p0\\localcache\\local-packages\\python312\\site-packages (from -r requirements.txt (line 45)) (3.0.2)\n",
      "Requirement already satisfied: matplotlib-inline==0.1.7 in c:\\users\\mwhit\\appdata\\local\\packages\\pythonsoftwarefoundation.python.3.12_qbz5n2kfra8p0\\localcache\\local-packages\\python312\\site-packages (from -r requirements.txt (line 46)) (0.1.7)\n",
      "Requirement already satisfied: mistune==3.1.3 in c:\\users\\mwhit\\appdata\\local\\packages\\pythonsoftwarefoundation.python.3.12_qbz5n2kfra8p0\\localcache\\local-packages\\python312\\site-packages (from -r requirements.txt (line 47)) (3.1.3)\n",
      "Requirement already satisfied: nbclient==0.10.2 in c:\\users\\mwhit\\appdata\\local\\packages\\pythonsoftwarefoundation.python.3.12_qbz5n2kfra8p0\\localcache\\local-packages\\python312\\site-packages (from -r requirements.txt (line 48)) (0.10.2)\n",
      "Requirement already satisfied: nbconvert==7.16.6 in c:\\users\\mwhit\\appdata\\local\\packages\\pythonsoftwarefoundation.python.3.12_qbz5n2kfra8p0\\localcache\\local-packages\\python312\\site-packages (from -r requirements.txt (line 49)) (7.16.6)\n",
      "Requirement already satisfied: nbformat==5.10.4 in c:\\users\\mwhit\\appdata\\local\\packages\\pythonsoftwarefoundation.python.3.12_qbz5n2kfra8p0\\localcache\\local-packages\\python312\\site-packages (from -r requirements.txt (line 50)) (5.10.4)\n",
      "Requirement already satisfied: nest-asyncio==1.6.0 in c:\\users\\mwhit\\appdata\\local\\packages\\pythonsoftwarefoundation.python.3.12_qbz5n2kfra8p0\\localcache\\local-packages\\python312\\site-packages (from -r requirements.txt (line 51)) (1.6.0)\n",
      "Requirement already satisfied: notebook==7.3.3 in c:\\users\\mwhit\\appdata\\local\\packages\\pythonsoftwarefoundation.python.3.12_qbz5n2kfra8p0\\localcache\\local-packages\\python312\\site-packages (from -r requirements.txt (line 52)) (7.3.3)\n",
      "Requirement already satisfied: notebook_shim==0.2.4 in c:\\users\\mwhit\\appdata\\local\\packages\\pythonsoftwarefoundation.python.3.12_qbz5n2kfra8p0\\localcache\\local-packages\\python312\\site-packages (from -r requirements.txt (line 53)) (0.2.4)\n",
      "Requirement already satisfied: numpy==2.2.4 in c:\\users\\mwhit\\appdata\\local\\packages\\pythonsoftwarefoundation.python.3.12_qbz5n2kfra8p0\\localcache\\local-packages\\python312\\site-packages (from -r requirements.txt (line 54)) (2.2.4)\n",
      "Requirement already satisfied: overrides==7.7.0 in c:\\users\\mwhit\\appdata\\local\\packages\\pythonsoftwarefoundation.python.3.12_qbz5n2kfra8p0\\localcache\\local-packages\\python312\\site-packages (from -r requirements.txt (line 55)) (7.7.0)\n",
      "Requirement already satisfied: packaging==24.2 in c:\\users\\mwhit\\appdata\\local\\packages\\pythonsoftwarefoundation.python.3.12_qbz5n2kfra8p0\\localcache\\local-packages\\python312\\site-packages (from -r requirements.txt (line 56)) (24.2)\n",
      "Requirement already satisfied: pandas==2.2.3 in c:\\users\\mwhit\\appdata\\local\\packages\\pythonsoftwarefoundation.python.3.12_qbz5n2kfra8p0\\localcache\\local-packages\\python312\\site-packages (from -r requirements.txt (line 57)) (2.2.3)\n",
      "Requirement already satisfied: pandocfilters==1.5.1 in c:\\users\\mwhit\\appdata\\local\\packages\\pythonsoftwarefoundation.python.3.12_qbz5n2kfra8p0\\localcache\\local-packages\\python312\\site-packages (from -r requirements.txt (line 58)) (1.5.1)\n",
      "Requirement already satisfied: parso==0.8.4 in c:\\users\\mwhit\\appdata\\local\\packages\\pythonsoftwarefoundation.python.3.12_qbz5n2kfra8p0\\localcache\\local-packages\\python312\\site-packages (from -r requirements.txt (line 59)) (0.8.4)\n",
      "Requirement already satisfied: platformdirs==4.3.7 in c:\\users\\mwhit\\appdata\\local\\packages\\pythonsoftwarefoundation.python.3.12_qbz5n2kfra8p0\\localcache\\local-packages\\python312\\site-packages (from -r requirements.txt (line 60)) (4.3.7)\n",
      "Requirement already satisfied: prometheus_client==0.21.1 in c:\\users\\mwhit\\appdata\\local\\packages\\pythonsoftwarefoundation.python.3.12_qbz5n2kfra8p0\\localcache\\local-packages\\python312\\site-packages (from -r requirements.txt (line 61)) (0.21.1)\n",
      "Requirement already satisfied: prompt_toolkit==3.0.50 in c:\\users\\mwhit\\appdata\\local\\packages\\pythonsoftwarefoundation.python.3.12_qbz5n2kfra8p0\\localcache\\local-packages\\python312\\site-packages (from -r requirements.txt (line 62)) (3.0.50)\n",
      "Requirement already satisfied: psutil==7.0.0 in c:\\users\\mwhit\\appdata\\local\\packages\\pythonsoftwarefoundation.python.3.12_qbz5n2kfra8p0\\localcache\\local-packages\\python312\\site-packages (from -r requirements.txt (line 63)) (7.0.0)\n",
      "Requirement already satisfied: pure_eval==0.2.3 in c:\\users\\mwhit\\appdata\\local\\packages\\pythonsoftwarefoundation.python.3.12_qbz5n2kfra8p0\\localcache\\local-packages\\python312\\site-packages (from -r requirements.txt (line 64)) (0.2.3)\n",
      "Requirement already satisfied: pycparser==2.22 in c:\\users\\mwhit\\appdata\\local\\packages\\pythonsoftwarefoundation.python.3.12_qbz5n2kfra8p0\\localcache\\local-packages\\python312\\site-packages (from -r requirements.txt (line 65)) (2.22)\n",
      "Requirement already satisfied: Pygments==2.19.1 in c:\\users\\mwhit\\appdata\\local\\packages\\pythonsoftwarefoundation.python.3.12_qbz5n2kfra8p0\\localcache\\local-packages\\python312\\site-packages (from -r requirements.txt (line 66)) (2.19.1)\n",
      "Requirement already satisfied: python-dateutil==2.9.0.post0 in c:\\users\\mwhit\\appdata\\local\\packages\\pythonsoftwarefoundation.python.3.12_qbz5n2kfra8p0\\localcache\\local-packages\\python312\\site-packages (from -r requirements.txt (line 67)) (2.9.0.post0)\n",
      "Requirement already satisfied: python-json-logger==3.3.0 in c:\\users\\mwhit\\appdata\\local\\packages\\pythonsoftwarefoundation.python.3.12_qbz5n2kfra8p0\\localcache\\local-packages\\python312\\site-packages (from -r requirements.txt (line 68)) (3.3.0)\n",
      "Requirement already satisfied: pytz==2025.2 in c:\\users\\mwhit\\appdata\\local\\packages\\pythonsoftwarefoundation.python.3.12_qbz5n2kfra8p0\\localcache\\local-packages\\python312\\site-packages (from -r requirements.txt (line 69)) (2025.2)\n",
      "Requirement already satisfied: pywin32==310 in c:\\users\\mwhit\\appdata\\local\\packages\\pythonsoftwarefoundation.python.3.12_qbz5n2kfra8p0\\localcache\\local-packages\\python312\\site-packages (from -r requirements.txt (line 70)) (310)\n",
      "Requirement already satisfied: pywinpty==2.0.15 in c:\\users\\mwhit\\appdata\\local\\packages\\pythonsoftwarefoundation.python.3.12_qbz5n2kfra8p0\\localcache\\local-packages\\python312\\site-packages (from -r requirements.txt (line 71)) (2.0.15)\n",
      "Requirement already satisfied: PyYAML==6.0.2 in c:\\users\\mwhit\\appdata\\local\\packages\\pythonsoftwarefoundation.python.3.12_qbz5n2kfra8p0\\localcache\\local-packages\\python312\\site-packages (from -r requirements.txt (line 72)) (6.0.2)\n",
      "Requirement already satisfied: pyzmq==26.3.0 in c:\\users\\mwhit\\appdata\\local\\packages\\pythonsoftwarefoundation.python.3.12_qbz5n2kfra8p0\\localcache\\local-packages\\python312\\site-packages (from -r requirements.txt (line 73)) (26.3.0)\n",
      "Requirement already satisfied: referencing==0.36.2 in c:\\users\\mwhit\\appdata\\local\\packages\\pythonsoftwarefoundation.python.3.12_qbz5n2kfra8p0\\localcache\\local-packages\\python312\\site-packages (from -r requirements.txt (line 74)) (0.36.2)\n",
      "Requirement already satisfied: requests==2.32.3 in c:\\users\\mwhit\\appdata\\local\\packages\\pythonsoftwarefoundation.python.3.12_qbz5n2kfra8p0\\localcache\\local-packages\\python312\\site-packages (from -r requirements.txt (line 75)) (2.32.3)\n",
      "Requirement already satisfied: rfc3339-validator==0.1.4 in c:\\users\\mwhit\\appdata\\local\\packages\\pythonsoftwarefoundation.python.3.12_qbz5n2kfra8p0\\localcache\\local-packages\\python312\\site-packages (from -r requirements.txt (line 76)) (0.1.4)\n",
      "Requirement already satisfied: rfc3986-validator==0.1.1 in c:\\users\\mwhit\\appdata\\local\\packages\\pythonsoftwarefoundation.python.3.12_qbz5n2kfra8p0\\localcache\\local-packages\\python312\\site-packages (from -r requirements.txt (line 77)) (0.1.1)\n",
      "Requirement already satisfied: rpds-py==0.24.0 in c:\\users\\mwhit\\appdata\\local\\packages\\pythonsoftwarefoundation.python.3.12_qbz5n2kfra8p0\\localcache\\local-packages\\python312\\site-packages (from -r requirements.txt (line 78)) (0.24.0)\n",
      "Requirement already satisfied: Send2Trash==1.8.3 in c:\\users\\mwhit\\appdata\\local\\packages\\pythonsoftwarefoundation.python.3.12_qbz5n2kfra8p0\\localcache\\local-packages\\python312\\site-packages (from -r requirements.txt (line 79)) (1.8.3)\n",
      "Requirement already satisfied: setuptools==78.1.0 in c:\\users\\mwhit\\appdata\\local\\packages\\pythonsoftwarefoundation.python.3.12_qbz5n2kfra8p0\\localcache\\local-packages\\python312\\site-packages (from -r requirements.txt (line 80)) (78.1.0)\n",
      "Requirement already satisfied: six==1.17.0 in c:\\users\\mwhit\\appdata\\local\\packages\\pythonsoftwarefoundation.python.3.12_qbz5n2kfra8p0\\localcache\\local-packages\\python312\\site-packages (from -r requirements.txt (line 81)) (1.17.0)\n",
      "Requirement already satisfied: sniffio==1.3.1 in c:\\users\\mwhit\\appdata\\local\\packages\\pythonsoftwarefoundation.python.3.12_qbz5n2kfra8p0\\localcache\\local-packages\\python312\\site-packages (from -r requirements.txt (line 82)) (1.3.1)\n",
      "Requirement already satisfied: soupsieve==2.6 in c:\\users\\mwhit\\appdata\\local\\packages\\pythonsoftwarefoundation.python.3.12_qbz5n2kfra8p0\\localcache\\local-packages\\python312\\site-packages (from -r requirements.txt (line 83)) (2.6)\n",
      "Requirement already satisfied: stack-data==0.6.3 in c:\\users\\mwhit\\appdata\\local\\packages\\pythonsoftwarefoundation.python.3.12_qbz5n2kfra8p0\\localcache\\local-packages\\python312\\site-packages (from -r requirements.txt (line 84)) (0.6.3)\n",
      "Requirement already satisfied: terminado==0.18.1 in c:\\users\\mwhit\\appdata\\local\\packages\\pythonsoftwarefoundation.python.3.12_qbz5n2kfra8p0\\localcache\\local-packages\\python312\\site-packages (from -r requirements.txt (line 85)) (0.18.1)\n",
      "Requirement already satisfied: tinycss2==1.4.0 in c:\\users\\mwhit\\appdata\\local\\packages\\pythonsoftwarefoundation.python.3.12_qbz5n2kfra8p0\\localcache\\local-packages\\python312\\site-packages (from -r requirements.txt (line 86)) (1.4.0)\n",
      "Requirement already satisfied: tornado==6.4.2 in c:\\users\\mwhit\\appdata\\local\\packages\\pythonsoftwarefoundation.python.3.12_qbz5n2kfra8p0\\localcache\\local-packages\\python312\\site-packages (from -r requirements.txt (line 87)) (6.4.2)\n",
      "Requirement already satisfied: traitlets==5.14.3 in c:\\users\\mwhit\\appdata\\local\\packages\\pythonsoftwarefoundation.python.3.12_qbz5n2kfra8p0\\localcache\\local-packages\\python312\\site-packages (from -r requirements.txt (line 88)) (5.14.3)\n",
      "Requirement already satisfied: types-python-dateutil==2.9.0.20241206 in c:\\users\\mwhit\\appdata\\local\\packages\\pythonsoftwarefoundation.python.3.12_qbz5n2kfra8p0\\localcache\\local-packages\\python312\\site-packages (from -r requirements.txt (line 89)) (2.9.0.20241206)\n",
      "Requirement already satisfied: typing_extensions==4.13.0 in c:\\users\\mwhit\\appdata\\local\\packages\\pythonsoftwarefoundation.python.3.12_qbz5n2kfra8p0\\localcache\\local-packages\\python312\\site-packages (from -r requirements.txt (line 90)) (4.13.0)\n",
      "Requirement already satisfied: tzdata==2025.2 in c:\\users\\mwhit\\appdata\\local\\packages\\pythonsoftwarefoundation.python.3.12_qbz5n2kfra8p0\\localcache\\local-packages\\python312\\site-packages (from -r requirements.txt (line 91)) (2025.2)\n",
      "Requirement already satisfied: uri-template==1.3.0 in c:\\users\\mwhit\\appdata\\local\\packages\\pythonsoftwarefoundation.python.3.12_qbz5n2kfra8p0\\localcache\\local-packages\\python312\\site-packages (from -r requirements.txt (line 92)) (1.3.0)\n",
      "Requirement already satisfied: urllib3==2.3.0 in c:\\users\\mwhit\\appdata\\local\\packages\\pythonsoftwarefoundation.python.3.12_qbz5n2kfra8p0\\localcache\\local-packages\\python312\\site-packages (from -r requirements.txt (line 93)) (2.3.0)\n",
      "Requirement already satisfied: wcwidth==0.2.13 in c:\\users\\mwhit\\appdata\\local\\packages\\pythonsoftwarefoundation.python.3.12_qbz5n2kfra8p0\\localcache\\local-packages\\python312\\site-packages (from -r requirements.txt (line 94)) (0.2.13)\n",
      "Requirement already satisfied: webcolors==24.11.1 in c:\\users\\mwhit\\appdata\\local\\packages\\pythonsoftwarefoundation.python.3.12_qbz5n2kfra8p0\\localcache\\local-packages\\python312\\site-packages (from -r requirements.txt (line 95)) (24.11.1)\n",
      "Requirement already satisfied: webencodings==0.5.1 in c:\\users\\mwhit\\appdata\\local\\packages\\pythonsoftwarefoundation.python.3.12_qbz5n2kfra8p0\\localcache\\local-packages\\python312\\site-packages (from -r requirements.txt (line 96)) (0.5.1)\n",
      "Requirement already satisfied: websocket-client==1.8.0 in c:\\users\\mwhit\\appdata\\local\\packages\\pythonsoftwarefoundation.python.3.12_qbz5n2kfra8p0\\localcache\\local-packages\\python312\\site-packages (from -r requirements.txt (line 97)) (1.8.0)\n"
     ]
    },
    {
     "name": "stderr",
     "output_type": "stream",
     "text": [
      "\n",
      "[notice] A new release of pip is available: 24.3.1 -> 25.0.1\n",
      "[notice] To update, run: C:\\Users\\mwhit\\AppData\\Local\\Microsoft\\WindowsApps\\PythonSoftwareFoundation.Python.3.12_qbz5n2kfra8p0\\python.exe -m pip install --upgrade pip\n"
     ]
    }
   ],
   "source": [
    "!pip install -r requirements.txt"
   ]
  },
  {
   "cell_type": "code",
   "execution_count": 2,
   "id": "3ffc971d-7e15-488c-98b1-cb70a8becad6",
   "metadata": {},
   "outputs": [],
   "source": [
    "import requests\n",
    "import pandas as pd\n",
    "import numpy as np"
   ]
  },
  {
   "cell_type": "markdown",
   "id": "a1aa1b06-4e12-48ac-8025-a5e66357c3bf",
   "metadata": {},
   "source": [
    "#Fetch data"
   ]
  },
  {
   "cell_type": "markdown",
   "id": "e962b9f6-f865-4180-a684-98aa4835e107",
   "metadata": {},
   "source": [
    "## Fetch hero data, function returns a df"
   ]
  },
  {
   "cell_type": "code",
   "execution_count": 3,
   "id": "592847d0-0074-4024-8241-ae6a57725ddf",
   "metadata": {},
   "outputs": [],
   "source": [
    "#Fetches data and returns DF\n",
    "def fetch_hero_data():\n",
    "    \n",
    "    site = \"https://assets.deadlock-api.com\"\n",
    "    endpoint = \"/v2/heroes/\"\n",
    "    url = site+endpoint\n",
    "    \n",
    "    heroes_df = fetch_hero_data(url)\n",
    "\n",
    "    response = requests.get(url)\n",
    "    \n",
    "    # Check if the request was successful\n",
    "    if response.status_code == 200:\n",
    "        heroes_data = response.json()  # Converts the JSON response to a Python dictionary\n",
    "    else:\n",
    "        print(f\"Failed to retrieve hero data: {response.status_code}\")\n",
    "    \n",
    "    df = pd.DataFrame(heroes_data)\n",
    "    return df"
   ]
  },
  {
   "cell_type": "markdown",
   "id": "14cd9334-de82-4d66-bcea-320a198e52b4",
   "metadata": {},
   "source": [
    "##Fetch Match data, function returns a DF"
   ]
  },
  {
   "cell_type": "code",
   "execution_count": 6,
   "id": "70861af2-50c2-4ef5-87af-3b79b4263008",
   "metadata": {
    "scrolled": true
   },
   "outputs": [],
   "source": [
    "\n",
    "#Fetches data and returns DF\n",
    "def fetch_match_data():\n",
    "    \n",
    "    site = \"https://api.deadlock-api.com\"\n",
    "    endpoint = \"/v1/matches/active\"\n",
    "    url = site+endpoint\n",
    "\n",
    "    response = requests.get(url)\n",
    "    \n",
    "    # Check if the request was successful\n",
    "    if response.status_code == 200:\n",
    "        active_matches_data = response.json()  # Converts the JSON response to a Python dictionary\n",
    "    else:\n",
    "        print(f\"Failed to retrieve match data: {response.status_code}\")\n",
    "    \n",
    "    df = pd.DataFrame(active_matches_data)\n",
    "    return df"
   ]
  },
  {
   "cell_type": "code",
   "execution_count": 11,
   "id": "8d301ba5-7b6d-48ec-9c8e-82178d5c421d",
   "metadata": {},
   "outputs": [
    {
     "name": "stdout",
     "output_type": "stream",
     "text": [
      "['start_time', 'winning_team', 'winning_team_parsed', 'match_id', 'players', 'lobby_id', 'game_mode_version', 'net_worth_team_0', 'net_worth_team_1', 'duration_s', 'spectators', 'open_spectator_slots', 'objectives_mask_team0', 'objectives_mask_team1', 'match_mode', 'match_mode_parsed', 'game_mode', 'match_score', 'region_mode', 'region_mode_parsed', 'compat_version']\n"
     ]
    }
   ],
   "source": [
    "active_matches_df = fetch_match_data()\n",
    "print(active_matches_df.columns.tolist())"
   ]
  },
  {
   "cell_type": "code",
   "execution_count": 17,
   "id": "4c388a9d-01e7-4df3-b2dc-ff2b0f53a82d",
   "metadata": {
    "collapsed": true,
    "jupyter": {
     "outputs_hidden": true
    }
   },
   "outputs": [
    {
     "name": "stdout",
     "output_type": "stream",
     "text": [
      "{'start_time': 1743277015, 'winning_team': None, 'winning_team_parsed': None, 'match_id': 34399181, 'players': [{'account_id': 81662458, 'team': 0, 'team_parsed': 'Team0', 'abandoned': None, 'hero_id': 35}, {'account_id': 39356232, 'team': 0, 'team_parsed': 'Team0', 'abandoned': None, 'hero_id': 16}, {'account_id': 1842253290, 'team': 0, 'team_parsed': 'Team0', 'abandoned': None, 'hero_id': 10}, {'account_id': 1841050882, 'team': 0, 'team_parsed': 'Team0', 'abandoned': None, 'hero_id': 13}, {'account_id': 157237227, 'team': 0, 'team_parsed': 'Team0', 'abandoned': None, 'hero_id': 58}, {'account_id': 234565850, 'team': 0, 'team_parsed': 'Team0', 'abandoned': None, 'hero_id': 52}, {'account_id': 130174860, 'team': 1, 'team_parsed': 'Team1', 'abandoned': None, 'hero_id': 7}, {'account_id': 204288555, 'team': 1, 'team_parsed': 'Team1', 'abandoned': None, 'hero_id': 17}, {'account_id': 1121430921, 'team': 1, 'team_parsed': 'Team1', 'abandoned': None, 'hero_id': 31}, {'account_id': 215570979, 'team': 1, 'team_parsed': 'Team1', 'abandoned': None, 'hero_id': 4}, {'account_id': 155576052, 'team': 1, 'team_parsed': 'Team1', 'abandoned': None, 'hero_id': 6}, {'account_id': 27079613, 'team': 1, 'team_parsed': 'Team1', 'abandoned': None, 'hero_id': 25}], 'lobby_id': 101299283315277256, 'game_mode_version': 2, 'net_worth_team_0': 80757, 'net_worth_team_1': 72428, 'duration_s': None, 'spectators': 8, 'open_spectator_slots': 10, 'objectives_mask_team0': 65509, 'objectives_mask_team1': 65509, 'match_mode': 1, 'match_mode_parsed': 'Unranked', 'game_mode': 1, 'match_score': 12436, 'region_mode': 1, 'region_mode_parsed': 'Europe', 'compat_version': 5520}\n"
     ]
    }
   ],
   "source": [
    "row_dict = active_matches_df.iloc[0].to_dict()\n",
    "print(row_dict)"
   ]
  },
  {
   "cell_type": "code",
   "execution_count": 13,
   "id": "71be0e46-249b-4386-a337-2fb9f041fdeb",
   "metadata": {},
   "outputs": [
    {
     "name": "stdout",
     "output_type": "stream",
     "text": [
      "start_time                int64\n",
      "winning_team             object\n",
      "winning_team_parsed      object\n",
      "match_id                  int64\n",
      "players                  object\n",
      "lobby_id                  int64\n",
      "game_mode_version         int64\n",
      "net_worth_team_0          int64\n",
      "net_worth_team_1          int64\n",
      "duration_s               object\n",
      "spectators                int64\n",
      "open_spectator_slots      int64\n",
      "objectives_mask_team0     int64\n",
      "objectives_mask_team1     int64\n",
      "match_mode                int64\n",
      "match_mode_parsed        object\n",
      "game_mode                 int64\n",
      "match_score               int64\n",
      "region_mode               int64\n",
      "region_mode_parsed       object\n",
      "compat_version            int64\n",
      "dtype: object\n"
     ]
    }
   ],
   "source": [
    "print(active_matches_df.dtypes)"
   ]
  },
  {
   "cell_type": "code",
   "execution_count": null,
   "id": "7ff2403f-857c-4e59-8159-b809b787e73b",
   "metadata": {},
   "outputs": [],
   "source": [
    "## Filter match data - IN PROGRESS, BUILDING LOGIC TO HANDLE PLAYER DICT."
   ]
  },
  {
   "cell_type": "code",
   "execution_count": null,
   "id": "09e82998-4f77-46a0-8665-f995b25fde0a",
   "metadata": {},
   "outputs": [],
   "source": [
    "def filter_match_data(raw_active_matches_df, player_df)\n",
    "        \n",
    "    #columns to fetch\n",
    "    item_filters = [\"start_time\", \"match_id\", \"game_mode\"]\n",
    "    \n",
    "    players = [\"players\"]\n",
    "    \n",
    "    filtered_active_matches = []\n",
    "    match_players = []\n",
    "    \n",
    "    for _, item in raw_active_matches_df.iterrows():\n",
    "        if isinstance(item['players'], dict)\n",
    "            match_players = {key:item {key} if key in item}\n",
    "        match_players.append({\n",
    "            'match_id' = match_id\n",
    "            'account_id' = match_players\n",
    "            'hero_id' = hero_id\n",
    "            )\n",
    "        else: \n",
    "            filtered_active_matches = {key: item{key} for key in filters if key in item}\n",
    "            filtered_active_matches.append(filtered_item)\n",
    "        \n",
    "\n",
    "        \n",
    "    return pd.DataFrame(filtered_active_matches, match_players)\n"
   ]
  },
  {
   "cell_type": "code",
   "execution_count": 16,
   "id": "8d2873c0-5dda-4fe8-a48e-7727f7d3e318",
   "metadata": {
    "collapsed": true,
    "jupyter": {
     "outputs_hidden": true
    }
   },
   "outputs": [
    {
     "name": "stdout",
     "output_type": "stream",
     "text": [
      "   start_time winning_team winning_team_parsed  match_id  \\\n",
      "0  1743277015         None                None  34399181   \n",
      "1  1743276773         None                None  34399027   \n",
      "2  1743277525         None                None  34399461   \n",
      "3  1743277585         None                None  34399499   \n",
      "4  1743277120         None                None  34399250   \n",
      "5  1743275953         None                None  34398569   \n",
      "6  1743277593         None                None  34399505   \n",
      "7  1743277774         None                None  34399606   \n",
      "8  1743277348         None                None  34399366   \n",
      "9  1743277756         None                None  34399598   \n",
      "\n",
      "                                             players            lobby_id  \\\n",
      "0  [{'account_id': 81662458, 'team': 0, 'team_par...  101299283315277256   \n",
      "1  [{'account_id': 96459605, 'team': 0, 'team_par...  101299283315277072   \n",
      "2  [{'account_id': 156950248, 'team': 0, 'team_pa...  101299283315277594   \n",
      "3  [{'account_id': 205525871, 'team': 0, 'team_pa...  101299283315277646   \n",
      "4  [{'account_id': 228763294, 'team': 0, 'team_pa...  101299283315277344   \n",
      "5  [{'account_id': 84801726, 'team': 0, 'team_par...  101299283315276518   \n",
      "6  [{'account_id': 386039958, 'team': 0, 'team_pa...  101299283315277652   \n",
      "7  [{'account_id': 1003734539, 'team': 0, 'team_p...  101299283315277776   \n",
      "8  [{'account_id': 1011078215, 'team': 0, 'team_p...  101299283315277468   \n",
      "9  [{'account_id': 253821341, 'team': 0, 'team_pa...  101299283315277768   \n",
      "\n",
      "   game_mode_version  net_worth_team_0  net_worth_team_1 duration_s  ...  \\\n",
      "0                  2             80757             72428       None  ...   \n",
      "1                  2             93226            113843       None  ...   \n",
      "2                  2             25202             21088       None  ...   \n",
      "3                  2             17883             15538       None  ...   \n",
      "4                  2             71386             56909       None  ...   \n",
      "5                  2            197248            217527       None  ...   \n",
      "6                  2             17005             18435       None  ...   \n",
      "7                  2              4546              3998       None  ...   \n",
      "8                  2             28790             31567       None  ...   \n",
      "9                  2              7579              5981       None  ...   \n",
      "\n",
      "   open_spectator_slots  objectives_mask_team0  objectives_mask_team1  \\\n",
      "0                    10                  65509                  65509   \n",
      "1                    10                  65221                  65509   \n",
      "2                    10                  65535                  65535   \n",
      "3                    10                  65535                  65535   \n",
      "4                    10                  65535                  65509   \n",
      "5                    10                  45637                  65093   \n",
      "6                    10                  65535                  65535   \n",
      "7                    10                  65535                  65535   \n",
      "8                    10                  65535                  65535   \n",
      "9                    10                  65535                  65535   \n",
      "\n",
      "   match_mode  match_mode_parsed game_mode  match_score  region_mode  \\\n",
      "0           1           Unranked         1        12436            1   \n",
      "1           1           Unranked         1        12421            0   \n",
      "2           1           Unranked         1        12213            1   \n",
      "3           1           Unranked         1        12188            1   \n",
      "4           1           Unranked         1        12181            1   \n",
      "5           1           Unranked         1        12175            0   \n",
      "6           1           Unranked         1        12113            0   \n",
      "7           1           Unranked         1        12104            4   \n",
      "8           1           Unranked         1        12092            0   \n",
      "9           1           Unranked         1        12041            1   \n",
      "\n",
      "   region_mode_parsed compat_version  \n",
      "0              Europe           5520  \n",
      "1                 Row           5520  \n",
      "2              Europe           5520  \n",
      "3              Europe           5520  \n",
      "4              Europe           5520  \n",
      "5                 Row           5520  \n",
      "6                 Row           5520  \n",
      "7              Russia           5520  \n",
      "8                 Row           5520  \n",
      "9              Europe           5520  \n",
      "\n",
      "[10 rows x 21 columns]\n"
     ]
    }
   ],
   "source": [
    "print(active_matches_df.head(10))"
   ]
  },
  {
   "cell_type": "markdown",
   "id": "e9fd8ff0-53a3-42df-a000-10a9581810d4",
   "metadata": {},
   "source": [
    "##Filter Data"
   ]
  },
  {
   "cell_type": "code",
   "execution_count": null,
   "id": "425aa43b-1cd3-451f-9905-7364dbbea59f",
   "metadata": {},
   "outputs": [],
   "source": [
    "def filter_hero_data(df):\\\n",
    "    \n",
    "    #columns to fetch\n",
    "    filters = [\"id\", \"classname\", \"name\", \"description\", \"player_selectable\", \"disabled\", \"starting_stats\", \"level_info\", \"scaling_stats\", \"standard_level_up_upgrades\"]\n",
    "\n",
    "    filtered_data = []\n",
    "    for _, item in df.iterrows(): #Pulls each row of df\n",
    "        filtered_item = {key: item[key] for key in filters if key in item} #build list of columns in df that matches variable filters\n",
    "        filtered_data.append(filtered_item) #stores coulmns (and values) from df that match filters\n",
    "    \n",
    "    return pd.DataFrame(filtered_data)\n"
   ]
  },
  {
   "cell_type": "markdown",
   "id": "53735a8c-686c-41d9-b673-47c4fbcb01eb",
   "metadata": {},
   "source": [
    "##Format Data"
   ]
  },
  {
   "cell_type": "code",
   "execution_count": null,
   "id": "ff91374c-bdec-46c2-b144-482752cc7e8d",
   "metadata": {},
   "outputs": [],
   "source": [
    "def format_hero_data(df):\n",
    "    df.rename(columns={'id' : 'hero_id'}, inplace=True)\n",
    "    return df"
   ]
  },
  {
   "cell_type": "markdown",
   "id": "75a17ffe-9612-45ab-a45a-694c57ae3f7a",
   "metadata": {},
   "source": [
    "###Dispaly column headers."
   ]
  },
  {
   "cell_type": "code",
   "execution_count": null,
   "id": "dda8e78e-3cb0-4ed2-8d79-64042e07d658",
   "metadata": {
    "scrolled": true
   },
   "outputs": [],
   "source": [
    "# Display all columns\n",
    "pd.set_option('display.max_columns', None)\n",
    "heroes_df.head()  # Now it'll show all columns"
   ]
  },
  {
   "cell_type": "markdown",
   "id": "d9ba50ff-c66b-42ff-adf2-ad231a42768d",
   "metadata": {},
   "source": [
    "###print header"
   ]
  },
  {
   "cell_type": "code",
   "execution_count": null,
   "id": "8d250873-2368-4260-bb14-68f5765dec40",
   "metadata": {
    "scrolled": true
   },
   "outputs": [],
   "source": [
    "#print(heroes_df.head(1))"
   ]
  },
  {
   "cell_type": "markdown",
   "id": "667eaf3b-d900-45cf-8226-e112f619786f",
   "metadata": {},
   "source": [
    "### Convert fitlered hero data to json"
   ]
  },
  {
   "cell_type": "code",
   "execution_count": null,
   "id": "24dc93a1-553c-4308-9574-0af3dcfce104",
   "metadata": {},
   "outputs": [],
   "source": [
    "def heroes_to_json(df)\n",
    "    heroes_json = df.to_dict(orient='records')\n",
    "    return heroes_json"
   ]
  },
  {
   "cell_type": "markdown",
   "id": "5f475d13-06bf-4e98-8f45-6e4f7ad29f70",
   "metadata": {},
   "source": [
    "### insert Hero data to database function"
   ]
  },
  {
   "cell_type": "code",
   "execution_count": null,
   "id": "ff56da0e-dfc5-4f74-b379-8acb98c057e3",
   "metadata": {},
   "outputs": [],
   "source": [
    "\n",
    "def insert_hero_data_to_db(df,db):\n",
    "    import sqlite3\n",
    "\n",
    "    db = \"Deadlock.db\"\n",
    "    \n",
    "    #create or connect to database file\n",
    "    conn = sqlite3.connect(db)\n",
    "    cursor = conn.cursor()\n",
    "\n",
    "    for hero in df:\n",
    "        cursor.execute(\"\"\"\n",
    "            INSERT INTO heroes (hero_id, name, player_selectable, disabled)\n",
    "            VALUES (?, ?, ?, ?)\n",
    "        \"\"\", (\n",
    "                 hero['hero_id'], \n",
    "            hero['name'],\n",
    "            hero['player_selectable'], \n",
    "            hero['disabled'], \n",
    "        ))\n",
    "    conn.commit()\n",
    "    print(\"Data was successfully loaded\")\n"
   ]
  },
  {
   "cell_type": "markdown",
   "id": "624d0099-16d3-40a2-973f-c72befa4b4d5",
   "metadata": {},
   "source": [
    "### insert starting stats into stats table"
   ]
  },
  {
   "cell_type": "code",
   "execution_count": null,
   "id": "0ac036d7-324f-4032-a6d7-769e64121a09",
   "metadata": {},
   "outputs": [],
   "source": [
    "def insert_starting_stats():\n",
    "    import sqlite3\n",
    "    \n",
    "    db = \"Deadlock.db\"\n",
    "    \n",
    "    #create or connect to database file\n",
    "    conn = sqlite3.connect(db)\n",
    "    cursor = conn.cursor()\n",
    "    \n",
    "    \n",
    "    for hero in heroes_json:\n",
    "        hero_id = hero[\"hero_id\"]\n",
    "        stats = hero.get(\"starting_stats\", {})\n",
    "    \n",
    "        for stat_name, stat_obj in stats.items():\n",
    "            base = stat_obj.get(\"value\", None)\n",
    "            if base is not None:\n",
    "                cursor.execute(\"\"\"\n",
    "                    INSERT INTO hero_stats (hero_id, stat_name, base_value)\n",
    "                    VALUES (?, ?, ?)\n",
    "                \"\"\", (hero_id, stat_name, base))\n",
    "                print(f\"Expected row insertion for: {base}\")\n",
    "    conn.commit()"
   ]
  },
  {
   "cell_type": "code",
   "execution_count": null,
   "id": "95f62718-f083-4005-bf27-e9730b0ecae3",
   "metadata": {},
   "outputs": [],
   "source": []
  },
  {
   "cell_type": "markdown",
   "id": "fdc3b809-be53-40b2-948f-0ab0329cad3f",
   "metadata": {},
   "source": [
    "### Insert scaling stats into stats table, matching hero / stat (Not working)"
   ]
  },
  {
   "cell_type": "code",
   "execution_count": null,
   "id": "3fb5a50a-501b-4490-b063-c36e9174a7d3",
   "metadata": {},
   "outputs": [],
   "source": [
    "def insert_scaling_stats():\n",
    "    import sqlite3\n",
    "    \n",
    "    db = \"Deadlock.db\"\n",
    "    \n",
    "    #create or connect to database file\n",
    "    conn = sqlite3.connect(db)\n",
    "    cursor = conn.cursor()\n",
    "    \n",
    "    \n",
    "    for hero in heroes_json:\n",
    "        hero_id = hero[\"hero_id\"]\n",
    "        scaling_stats = hero.get(\"scaling_stats\", {})\n",
    "    \n",
    "        for stat_name, scale_value in scaling_stats.items():\n",
    "            cursor.execute(\"\"\"\n",
    "                UPDATE hero_stats\n",
    "                SET scale_value = ?\n",
    "                WHERE hero_id = ? AND stat_name = ?\n",
    "            \"\"\", (scale_value, hero_id, stat_name))\n",
    "    \n",
    "    conn.commit()"
   ]
  },
  {
   "cell_type": "code",
   "execution_count": null,
   "id": "b895346a-788b-459a-8bd2-581201b26553",
   "metadata": {},
   "outputs": [],
   "source": []
  }
 ],
 "metadata": {
  "kernelspec": {
   "display_name": "Python 3 (ipykernel)",
   "language": "python",
   "name": "python3"
  },
  "language_info": {
   "codemirror_mode": {
    "name": "ipython",
    "version": 3
   },
   "file_extension": ".py",
   "mimetype": "text/x-python",
   "name": "python",
   "nbconvert_exporter": "python",
   "pygments_lexer": "ipython3",
   "version": "3.12.9"
  }
 },
 "nbformat": 4,
 "nbformat_minor": 5
}
