{
 "cells": [
  {
   "cell_type": "markdown",
   "id": "a1b70bd4-025e-4ec0-a387-e31e77de687f",
   "metadata": {},
   "source": [
    "#Collect API Data from Deadlock-API Project, filter, format, and insert into Deadlock.db\n",
    "\n",
    "#Requirements import from .txt\n",
    "#Fetch data based on URL (site+endpoint)\n",
    "##Fetch hero data\n",
    "#Filter fetched data based on filters\n",
    "##Filter hero data\n",
    "#prints or formatting"
   ]
  },
  {
   "cell_type": "markdown",
   "id": "ff830c01-4d0b-44f4-9f03-6478003fac4e",
   "metadata": {},
   "source": [
    "#Requirements import from .txt"
   ]
  },
  {
   "cell_type": "code",
   "execution_count": null,
   "id": "704f5f7d-99ec-48c1-a1a5-89160a8eade3",
   "metadata": {
    "scrolled": true
   },
   "outputs": [],
   "source": [
    "!pip install -r requirements.txt"
   ]
  },
  {
   "cell_type": "code",
   "execution_count": null,
   "id": "3ffc971d-7e15-488c-98b1-cb70a8becad6",
   "metadata": {},
   "outputs": [],
   "source": [
    "import requests\n",
    "import pandas as pd\n",
    "import numpy as np"
   ]
  },
  {
   "cell_type": "markdown",
   "id": "a1aa1b06-4e12-48ac-8025-a5e66357c3bf",
   "metadata": {},
   "source": [
    "#Fetch data based on URL (site+endpoint), outputs DF"
   ]
  },
  {
   "cell_type": "code",
   "execution_count": null,
   "id": "592847d0-0074-4024-8241-ae6a57725ddf",
   "metadata": {},
   "outputs": [],
   "source": [
    "#Fetches data and returns DF\n",
    "def fetch_hero_data(url):\n",
    "    response = requests.get(url)\n",
    "    \n",
    "    # Check if the request was successful\n",
    "    if response.status_code == 200:\n",
    "        heroes_data = response.json()  # Converts the JSON response to a Python dictionary\n",
    "    else:\n",
    "        print(f\"Failed to retrieve data: {response.status_code}\")\n",
    "    \n",
    "    df = pd.DataFrame(heroes_data)\n",
    "    return df"
   ]
  },
  {
   "cell_type": "code",
   "execution_count": null,
   "id": "9281f91a-5f86-478d-81ba-e805c68f5dd9",
   "metadata": {},
   "outputs": [],
   "source": [
    "##Fetch Hero data"
   ]
  },
  {
   "cell_type": "code",
   "execution_count": null,
   "id": "70861af2-50c2-4ef5-87af-3b79b4263008",
   "metadata": {
    "scrolled": true
   },
   "outputs": [],
   "source": [
    "\n",
    "site = \"https://assets.deadlock-api.com\"\n",
    "endpoint = \"/v2/heroes/\"\n",
    "url = site+endpoint\n",
    "\n",
    "heroes_df = fetch_hero_data(url)\n",
    "\n"
   ]
  },
  {
   "cell_type": "markdown",
   "id": "e9fd8ff0-53a3-42df-a000-10a9581810d4",
   "metadata": {},
   "source": [
    "##Filter Data"
   ]
  },
  {
   "cell_type": "code",
   "execution_count": null,
   "id": "425aa43b-1cd3-451f-9905-7364dbbea59f",
   "metadata": {},
   "outputs": [],
   "source": [
    "def filter_hero_data(filters, df):\n",
    "    filtered_data = []\n",
    "    for _, item in df.iterrows():\n",
    "        filtered_item = {key: item[key] for key in filters if key in item}\n",
    "        filtered_data.append(filtered_item)\n",
    "    \n",
    "    return pd.DataFrame(filtered_data)\n"
   ]
  },
  {
   "cell_type": "markdown",
   "id": "53735a8c-686c-41d9-b673-47c4fbcb01eb",
   "metadata": {},
   "source": [
    "##Format Data"
   ]
  },
  {
   "cell_type": "code",
   "execution_count": null,
   "id": "ff91374c-bdec-46c2-b144-482752cc7e8d",
   "metadata": {},
   "outputs": [],
   "source": [
    "def format_hero_data(df):\n",
    "    df.rename(columns={'id' : 'hero_id'}, inplace=True)\n",
    "    return df"
   ]
  },
  {
   "cell_type": "markdown",
   "id": "0ae1bb3b-84dc-4b3d-bdd9-1313f18ca2c6",
   "metadata": {},
   "source": [
    "##Filter and format Hero Data"
   ]
  },
  {
   "cell_type": "code",
   "execution_count": null,
   "id": "5a408c70-92c8-49d4-97b9-b6a3d70d1a2c",
   "metadata": {},
   "outputs": [],
   "source": [
    "\n",
    "#columns to fetch\n",
    "filters = [\"id\", \"classname\", \"name\", \"description\", \"player_selectable\", \"disabled\", \"starting_stats\", \"level_info\", \"scaling_stats\", \"standard_level_up_upgrades\"]\n",
    "\n",
    "heroes_df = filter_hero_data(filters, heroes_df)\n",
    "heroes_df = format_hero_data(heroes_df)"
   ]
  },
  {
   "cell_type": "markdown",
   "id": "75a17ffe-9612-45ab-a45a-694c57ae3f7a",
   "metadata": {},
   "source": [
    "###Dispaly column headers."
   ]
  },
  {
   "cell_type": "code",
   "execution_count": 19,
   "id": "dda8e78e-3cb0-4ed2-8d79-64042e07d658",
   "metadata": {
    "scrolled": true
   },
   "outputs": [
    {
     "data": {
      "text/html": [
       "<div>\n",
       "<style scoped>\n",
       "    .dataframe tbody tr th:only-of-type {\n",
       "        vertical-align: middle;\n",
       "    }\n",
       "\n",
       "    .dataframe tbody tr th {\n",
       "        vertical-align: top;\n",
       "    }\n",
       "\n",
       "    .dataframe thead th {\n",
       "        text-align: right;\n",
       "    }\n",
       "</style>\n",
       "<table border=\"1\" class=\"dataframe\">\n",
       "  <thead>\n",
       "    <tr style=\"text-align: right;\">\n",
       "      <th></th>\n",
       "      <th>hero_id</th>\n",
       "      <th>name</th>\n",
       "      <th>description</th>\n",
       "      <th>player_selectable</th>\n",
       "      <th>disabled</th>\n",
       "      <th>starting_stats</th>\n",
       "      <th>level_info</th>\n",
       "      <th>scaling_stats</th>\n",
       "      <th>standard_level_up_upgrades</th>\n",
       "    </tr>\n",
       "  </thead>\n",
       "  <tbody>\n",
       "    <tr>\n",
       "      <th>0</th>\n",
       "      <td>1</td>\n",
       "      <td>Infernus</td>\n",
       "      <td>{'lore': 'Like most teenagers; Infernus was wi...</td>\n",
       "      <td>True</td>\n",
       "      <td>False</td>\n",
       "      <td>{'max_move_speed': {'value': 6.8, 'display_sta...</td>\n",
       "      <td>{'1': {'bonus_currencies': ['EAbilityUnlocks']...</td>\n",
       "      <td>{}</td>\n",
       "      <td>{'MODIFIER_VALUE_BASE_BULLET_DAMAGE_FROM_LEVEL...</td>\n",
       "    </tr>\n",
       "    <tr>\n",
       "      <th>1</th>\n",
       "      <td>2</td>\n",
       "      <td>Seven</td>\n",
       "      <td>{'lore': 'When mystic energy awoke on Earth, t...</td>\n",
       "      <td>True</td>\n",
       "      <td>False</td>\n",
       "      <td>{'max_move_speed': {'value': 7.1, 'display_sta...</td>\n",
       "      <td>{'1': {'bonus_currencies': ['EAbilityUnlocks']...</td>\n",
       "      <td>{'EMaxMoveSpeed': {'scaling_stat': 'ETechPower...</td>\n",
       "      <td>{'MODIFIER_VALUE_BASE_BULLET_DAMAGE_FROM_LEVEL...</td>\n",
       "    </tr>\n",
       "    <tr>\n",
       "      <th>2</th>\n",
       "      <td>3</td>\n",
       "      <td>Vindicta</td>\n",
       "      <td>{'lore': 'A victim of John Hathorne during the...</td>\n",
       "      <td>True</td>\n",
       "      <td>False</td>\n",
       "      <td>{'max_move_speed': {'value': 8.0, 'display_sta...</td>\n",
       "      <td>{'1': {'bonus_currencies': ['EAbilityUnlocks']...</td>\n",
       "      <td>{'EFireRate': {'scaling_stat': 'ETechPower', '...</td>\n",
       "      <td>{'MODIFIER_VALUE_BASE_BULLET_DAMAGE_FROM_LEVEL...</td>\n",
       "    </tr>\n",
       "    <tr>\n",
       "      <th>3</th>\n",
       "      <td>4</td>\n",
       "      <td>Lady Geist</td>\n",
       "      <td>{'lore': 'Once, Lady Jeanne Geist was the toas...</td>\n",
       "      <td>True</td>\n",
       "      <td>False</td>\n",
       "      <td>{'max_move_speed': {'value': 6.3, 'display_sta...</td>\n",
       "      <td>{'1': {'bonus_currencies': ['EAbilityUnlocks']...</td>\n",
       "      <td>{}</td>\n",
       "      <td>{'MODIFIER_VALUE_BASE_BULLET_DAMAGE_FROM_LEVEL...</td>\n",
       "    </tr>\n",
       "    <tr>\n",
       "      <th>4</th>\n",
       "      <td>6</td>\n",
       "      <td>Abrams</td>\n",
       "      <td>{'lore': 'Hard hitting, hard headed, and hard ...</td>\n",
       "      <td>True</td>\n",
       "      <td>False</td>\n",
       "      <td>{'max_move_speed': {'value': 6.8, 'display_sta...</td>\n",
       "      <td>{'1': {'bonus_currencies': ['EAbilityUnlocks']...</td>\n",
       "      <td>{}</td>\n",
       "      <td>{'MODIFIER_VALUE_BASE_BULLET_DAMAGE_FROM_LEVEL...</td>\n",
       "    </tr>\n",
       "  </tbody>\n",
       "</table>\n",
       "</div>"
      ],
      "text/plain": [
       "   hero_id        name                                        description  \\\n",
       "0        1    Infernus  {'lore': 'Like most teenagers; Infernus was wi...   \n",
       "1        2       Seven  {'lore': 'When mystic energy awoke on Earth, t...   \n",
       "2        3    Vindicta  {'lore': 'A victim of John Hathorne during the...   \n",
       "3        4  Lady Geist  {'lore': 'Once, Lady Jeanne Geist was the toas...   \n",
       "4        6      Abrams  {'lore': 'Hard hitting, hard headed, and hard ...   \n",
       "\n",
       "   player_selectable  disabled  \\\n",
       "0               True     False   \n",
       "1               True     False   \n",
       "2               True     False   \n",
       "3               True     False   \n",
       "4               True     False   \n",
       "\n",
       "                                      starting_stats  \\\n",
       "0  {'max_move_speed': {'value': 6.8, 'display_sta...   \n",
       "1  {'max_move_speed': {'value': 7.1, 'display_sta...   \n",
       "2  {'max_move_speed': {'value': 8.0, 'display_sta...   \n",
       "3  {'max_move_speed': {'value': 6.3, 'display_sta...   \n",
       "4  {'max_move_speed': {'value': 6.8, 'display_sta...   \n",
       "\n",
       "                                          level_info  \\\n",
       "0  {'1': {'bonus_currencies': ['EAbilityUnlocks']...   \n",
       "1  {'1': {'bonus_currencies': ['EAbilityUnlocks']...   \n",
       "2  {'1': {'bonus_currencies': ['EAbilityUnlocks']...   \n",
       "3  {'1': {'bonus_currencies': ['EAbilityUnlocks']...   \n",
       "4  {'1': {'bonus_currencies': ['EAbilityUnlocks']...   \n",
       "\n",
       "                                       scaling_stats  \\\n",
       "0                                                 {}   \n",
       "1  {'EMaxMoveSpeed': {'scaling_stat': 'ETechPower...   \n",
       "2  {'EFireRate': {'scaling_stat': 'ETechPower', '...   \n",
       "3                                                 {}   \n",
       "4                                                 {}   \n",
       "\n",
       "                          standard_level_up_upgrades  \n",
       "0  {'MODIFIER_VALUE_BASE_BULLET_DAMAGE_FROM_LEVEL...  \n",
       "1  {'MODIFIER_VALUE_BASE_BULLET_DAMAGE_FROM_LEVEL...  \n",
       "2  {'MODIFIER_VALUE_BASE_BULLET_DAMAGE_FROM_LEVEL...  \n",
       "3  {'MODIFIER_VALUE_BASE_BULLET_DAMAGE_FROM_LEVEL...  \n",
       "4  {'MODIFIER_VALUE_BASE_BULLET_DAMAGE_FROM_LEVEL...  "
      ]
     },
     "execution_count": 19,
     "metadata": {},
     "output_type": "execute_result"
    }
   ],
   "source": [
    "# Display all columns\n",
    "pd.set_option('display.max_columns', None)\n",
    "heroes_df.head()  # Now it'll show all columns"
   ]
  },
  {
   "cell_type": "markdown",
   "id": "d9ba50ff-c66b-42ff-adf2-ad231a42768d",
   "metadata": {},
   "source": [
    "###print header"
   ]
  },
  {
   "cell_type": "code",
   "execution_count": null,
   "id": "8d250873-2368-4260-bb14-68f5765dec40",
   "metadata": {
    "scrolled": true
   },
   "outputs": [],
   "source": [
    "#print(heroes_df.head(1))"
   ]
  },
  {
   "cell_type": "markdown",
   "id": "667eaf3b-d900-45cf-8226-e112f619786f",
   "metadata": {},
   "source": [
    "### Convert fitlered hero data to json"
   ]
  },
  {
   "cell_type": "code",
   "execution_count": 17,
   "id": "24dc93a1-553c-4308-9574-0af3dcfce104",
   "metadata": {},
   "outputs": [],
   "source": [
    "heroes_json = heroes_df.to_dict(orient='records')"
   ]
  },
  {
   "cell_type": "markdown",
   "id": "5f475d13-06bf-4e98-8f45-6e4f7ad29f70",
   "metadata": {},
   "source": [
    "### insert Hero data to database function"
   ]
  },
  {
   "cell_type": "code",
   "execution_count": null,
   "id": "ff56da0e-dfc5-4f74-b379-8acb98c057e3",
   "metadata": {},
   "outputs": [],
   "source": [
    "\n",
    "def insert_hero_data_to_db(df,db):\n",
    "    import sqlite3\n",
    "\n",
    "    db = \"Deadlock.db\"\n",
    "    \n",
    "    #create or connect to database file\n",
    "    conn = sqlite3.connect(db)\n",
    "    cursor = conn.cursor()\n",
    "\n",
    "    for hero in df:\n",
    "        cursor.execute(\"\"\"\n",
    "            INSERT INTO heroes (hero_id, name, player_selectable, disabled)\n",
    "            VALUES (?, ?, ?, ?)\n",
    "        \"\"\", (\n",
    "                 hero['hero_id'], \n",
    "            hero['name'],\n",
    "            hero['player_selectable'], \n",
    "            hero['disabled'], \n",
    "        ))\n",
    "    conn.commit()\n",
    "    print(\"Data was successfully loaded\")\n"
   ]
  },
  {
   "cell_type": "markdown",
   "id": "624d0099-16d3-40a2-973f-c72befa4b4d5",
   "metadata": {},
   "source": [
    "### insert starting stats into stats table"
   ]
  },
  {
   "cell_type": "code",
   "execution_count": null,
   "id": "0ac036d7-324f-4032-a6d7-769e64121a09",
   "metadata": {},
   "outputs": [],
   "source": [
    "def insert_starting_stats():\n",
    "    import sqlite3\n",
    "    \n",
    "    db = \"Deadlock.db\"\n",
    "    \n",
    "    #create or connect to database file\n",
    "    conn = sqlite3.connect(db)\n",
    "    cursor = conn.cursor()\n",
    "    \n",
    "    \n",
    "    for hero in heroes_json:\n",
    "        hero_id = hero[\"hero_id\"]\n",
    "        stats = hero.get(\"starting_stats\", {})\n",
    "    \n",
    "        for stat_name, stat_obj in stats.items():\n",
    "            base = stat_obj.get(\"value\", None)\n",
    "            if base is not None:\n",
    "                cursor.execute(\"\"\"\n",
    "                    INSERT INTO hero_stats (hero_id, stat_name, base_value)\n",
    "                    VALUES (?, ?, ?)\n",
    "                \"\"\", (hero_id, stat_name, base))\n",
    "                print(f\"Expected row insertion for: {base}\")\n",
    "    conn.commit()"
   ]
  },
  {
   "cell_type": "code",
   "execution_count": null,
   "id": "95f62718-f083-4005-bf27-e9730b0ecae3",
   "metadata": {},
   "outputs": [],
   "source": []
  },
  {
   "cell_type": "markdown",
   "id": "fdc3b809-be53-40b2-948f-0ab0329cad3f",
   "metadata": {},
   "source": [
    "### Insert scaling stats into stats table, matching hero / stat"
   ]
  },
  {
   "cell_type": "code",
   "execution_count": null,
   "id": "3fb5a50a-501b-4490-b063-c36e9174a7d3",
   "metadata": {},
   "outputs": [],
   "source": [
    "def insert_scaling_stats():\n",
    "    import sqlite3\n",
    "    \n",
    "    db = \"Deadlock.db\"\n",
    "    \n",
    "    #create or connect to database file\n",
    "    conn = sqlite3.connect(db)\n",
    "    cursor = conn.cursor()\n",
    "    \n",
    "    \n",
    "    for hero in heroes_json:\n",
    "        hero_id = hero[\"hero_id\"]\n",
    "        scaling_stats = hero.get(\"scaling_stats\", {})\n",
    "    \n",
    "        for stat_name, scale_value in scaling_stats.items():\n",
    "            cursor.execute(\"\"\"\n",
    "                UPDATE hero_stats\n",
    "                SET scale_value = ?\n",
    "                WHERE hero_id = ? AND stat_name = ?\n",
    "            \"\"\", (scale_value, hero_id, stat_name))\n",
    "    \n",
    "    conn.commit()"
   ]
  },
  {
   "cell_type": "code",
   "execution_count": null,
   "id": "b895346a-788b-459a-8bd2-581201b26553",
   "metadata": {},
   "outputs": [],
   "source": []
  }
 ],
 "metadata": {
  "kernelspec": {
   "display_name": "Python 3 (ipykernel)",
   "language": "python",
   "name": "python3"
  },
  "language_info": {
   "codemirror_mode": {
    "name": "ipython",
    "version": 3
   },
   "file_extension": ".py",
   "mimetype": "text/x-python",
   "name": "python",
   "nbconvert_exporter": "python",
   "pygments_lexer": "ipython3",
   "version": "3.12.9"
  }
 },
 "nbformat": 4,
 "nbformat_minor": 5
}
