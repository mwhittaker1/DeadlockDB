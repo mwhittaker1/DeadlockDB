{
 "cells": [
  {
   "cell_type": "markdown",
   "id": "a1b70bd4-025e-4ec0-a387-e31e77de687f",
   "metadata": {},
   "source": [
    "#Collect API Data from Deadlock-API Project, filter, format, and insert into Deadlock.db\n",
    "\n",
    "#Requirements import from .txt\n",
    "#Fetch data based on URL (site+endpoint)\n",
    "##Fetch hero data\n",
    "#Filter fetched data based on filters\n",
    "##Filter hero data\n",
    "#prints or formatting"
   ]
  },
  {
   "cell_type": "markdown",
   "id": "ff830c01-4d0b-44f4-9f03-6478003fac4e",
   "metadata": {},
   "source": [
    "#Requirements import from .txt"
   ]
  },
  {
   "cell_type": "code",
   "execution_count": null,
   "id": "704f5f7d-99ec-48c1-a1a5-89160a8eade3",
   "metadata": {
    "scrolled": true
   },
   "outputs": [],
   "source": [
    "!pip install -r requirements.txt"
   ]
  },
  {
   "cell_type": "code",
   "execution_count": null,
   "id": "3ffc971d-7e15-488c-98b1-cb70a8becad6",
   "metadata": {},
   "outputs": [],
   "source": [
    "import requests\n",
    "import pandas as pd\n",
    "import numpy as np"
   ]
  },
  {
   "cell_type": "markdown",
   "id": "a1aa1b06-4e12-48ac-8025-a5e66357c3bf",
   "metadata": {},
   "source": [
    "#Fetch data"
   ]
  },
  {
   "cell_type": "markdown",
   "id": "e962b9f6-f865-4180-a684-98aa4835e107",
   "metadata": {},
   "source": [
    "## Fetch hero data, function returns a df"
   ]
  },
  {
   "cell_type": "code",
   "execution_count": null,
   "id": "592847d0-0074-4024-8241-ae6a57725ddf",
   "metadata": {},
   "outputs": [],
   "source": [
    "#Fetches data and returns DF\n",
    "def fetch_hero_data():\n",
    "    \n",
    "    site = \"https://assets.deadlock-api.com\"\n",
    "    endpoint = \"/v2/heroes/\"\n",
    "    url = site+endpoint\n",
    "    \n",
    "    heroes_df = fetch_hero_data(url)\n",
    "\n",
    "    response = requests.get(url)\n",
    "    \n",
    "    # Check if the request was successful\n",
    "    if response.status_code == 200:\n",
    "        heroes_data = response.json()  # Converts the JSON response to a Python dictionary\n",
    "    else:\n",
    "        print(f\"Failed to retrieve hero data: {response.status_code}\")\n",
    "    \n",
    "    df = pd.DataFrame(heroes_data)\n",
    "    return df"
   ]
  },
  {
   "cell_type": "markdown",
   "id": "14cd9334-de82-4d66-bcea-320a198e52b4",
   "metadata": {},
   "source": [
    "##Fetch Match data, function returns a DF"
   ]
  },
  {
   "cell_type": "code",
   "execution_count": null,
   "id": "70861af2-50c2-4ef5-87af-3b79b4263008",
   "metadata": {
    "scrolled": true
   },
   "outputs": [],
   "source": [
    "\n",
    "#Fetches data and returns DF\n",
    "def fetch_match_data():\n",
    "    \n",
    "    site = \"https://api.deadlock-api.com\"\n",
    "    endpoint = \"/v1/matches/active\"\n",
    "    url = site+endpoint\n",
    "\n",
    "    response = requests.get(url)\n",
    "    \n",
    "    # Check if the request was successful\n",
    "    if response.status_code == 200:\n",
    "        active_matches_data = response.json()  # Converts the JSON response to a Python dictionary\n",
    "    else:\n",
    "        print(f\"Failed to retrieve match data: {response.status_code}\")\n",
    "    \n",
    "    df = pd.DataFrame(active_matches_data)\n",
    "    return df"
   ]
  },
  {
   "cell_type": "code",
   "execution_count": null,
   "id": "8d301ba5-7b6d-48ec-9c8e-82178d5c421d",
   "metadata": {},
   "outputs": [],
   "source": [
    "active_matches_df = fetch_match_data()\n",
    "print(active_matches_df.columns.tolist())"
   ]
  },
  {
   "cell_type": "code",
   "execution_count": null,
   "id": "4c388a9d-01e7-4df3-b2dc-ff2b0f53a82d",
   "metadata": {},
   "outputs": [],
   "source": [
    "row_dict = active_matches_df.iloc[0].to_dict()\n",
    "print(row_dict)"
   ]
  },
  {
   "cell_type": "code",
   "execution_count": null,
   "id": "71be0e46-249b-4386-a337-2fb9f041fdeb",
   "metadata": {},
   "outputs": [],
   "source": [
    "print(active_matches_df.dtypes)"
   ]
  },
  {
   "cell_type": "code",
   "execution_count": null,
   "id": "7ff2403f-857c-4e59-8159-b809b787e73b",
   "metadata": {},
   "outputs": [],
   "source": [
    "## Filter match data - not working yet, function call says \"active_matches_df\" is not defined."
   ]
  },
  {
   "cell_type": "code",
   "execution_count": 11,
   "id": "09e82998-4f77-46a0-8665-f995b25fde0a",
   "metadata": {},
   "outputs": [],
   "source": [
    "def filter_match_data(raw_active_matches_df):\n",
    "        \n",
    "    #columns to fetch\n",
    "    match_filters = [\"start_time\", \"match_id\", \"game_mode\"]\n",
    "    \n",
    "    players = [\"players\"]\n",
    "    \n",
    "    filtered_active_matches = []\n",
    "    match_players = []\n",
    "    \n",
    "    for _, item in raw_active_matches_df.iterrows():\n",
    "        if isinstance(item['players'], dict): #Is {item} players and a dictoinary? ->\n",
    "           for player in item['players']: #build match_players list, if \n",
    "                #extract the player information\n",
    "               account_id = player.get('account_id', None) #replace None with value type\n",
    "               hero_id = player.get('hero_id', None) #replace None with value type\n",
    "\n",
    "               match_players.append({\n",
    "                'match_id': item['match_id'],\n",
    "                'account_id': account_id,\n",
    "                'hero_id': hero_id\n",
    "               })\n",
    "        else: \n",
    "            filtered_active_matches = {key: item[key] for key in match_filters if key in item}\n",
    "            filtered_active_matches.append(filtered_item)\n",
    "        \n",
    "\n",
    "    print(f\"in filter_match_data, headers for filtered_active_matches and match_players is:\")\n",
    "    print(f\"filtered_active_matches: {filtered_active_matches}\")\n",
    "    print(f\"match_players: {match_players}\")\n",
    "    return pd.DataFrame(filtered_active_matches, match_players)\n"
   ]
  },
  {
   "cell_type": "markdown",
   "id": "17856a41-563e-4881-9593-4aca0127b413",
   "metadata": {},
   "source": [
    "## Calls Filter Match Data with match data, returns two items, simple match data with player data exctracted.\n",
    "## (df1, df2) = df1 [start_time, match_id, game_mode], df2 = [match_id, account_id, hero_id]"
   ]
  },
  {
   "cell_type": "code",
   "execution_count": 12,
   "id": "ee8ae43a-2420-4205-971b-abc77e57ee8a",
   "metadata": {},
   "outputs": [
    {
     "ename": "NameError",
     "evalue": "name 'active_match_df' is not defined",
     "output_type": "error",
     "traceback": [
      "\u001b[31m---------------------------------------------------------------------------\u001b[39m",
      "\u001b[31mNameError\u001b[39m                                 Traceback (most recent call last)",
      "\u001b[36mCell\u001b[39m\u001b[36m \u001b[39m\u001b[32mIn[12]\u001b[39m\u001b[32m, line 1\u001b[39m\n\u001b[32m----> \u001b[39m\u001b[32m1\u001b[39m simple_match_data, match_player_data = filter_match_data(\u001b[43mactive_match_df\u001b[49m)\n",
      "\u001b[31mNameError\u001b[39m: name 'active_match_df' is not defined"
     ]
    }
   ],
   "source": [
    "simple_match_data, match_player_data = filter_match_data(active_match_df)"
   ]
  },
  {
   "cell_type": "markdown",
   "id": "e9fd8ff0-53a3-42df-a000-10a9581810d4",
   "metadata": {},
   "source": [
    "##Filter Data"
   ]
  },
  {
   "cell_type": "code",
   "execution_count": null,
   "id": "425aa43b-1cd3-451f-9905-7364dbbea59f",
   "metadata": {},
   "outputs": [],
   "source": [
    "def filter_hero_data(df):\\\n",
    "    \n",
    "    #columns to fetch\n",
    "    filters = [\"id\", \"classname\", \"name\", \"description\", \"player_selectable\", \"disabled\", \"starting_stats\", \"level_info\", \"scaling_stats\", \"standard_level_up_upgrades\"]\n",
    "\n",
    "    filtered_data = []\n",
    "    for _, item in df.iterrows(): #Pulls each row of df\n",
    "        filtered_item = {key: item[key] for key in filters if key in item} #build list of columns in df that matches variable filters\n",
    "        filtered_data.append(filtered_item) #stores coulmns (and values) from df that match filters\n",
    "    \n",
    "    return pd.DataFrame(filtered_data)\n"
   ]
  },
  {
   "cell_type": "markdown",
   "id": "53735a8c-686c-41d9-b673-47c4fbcb01eb",
   "metadata": {},
   "source": [
    "##Format Data"
   ]
  },
  {
   "cell_type": "code",
   "execution_count": null,
   "id": "ff91374c-bdec-46c2-b144-482752cc7e8d",
   "metadata": {},
   "outputs": [],
   "source": [
    "def format_hero_data(df):\n",
    "    df.rename(columns={'id' : 'hero_id'}, inplace=True)\n",
    "    return df"
   ]
  },
  {
   "cell_type": "markdown",
   "id": "75a17ffe-9612-45ab-a45a-694c57ae3f7a",
   "metadata": {},
   "source": [
    "###Dispaly column headers."
   ]
  },
  {
   "cell_type": "code",
   "execution_count": null,
   "id": "dda8e78e-3cb0-4ed2-8d79-64042e07d658",
   "metadata": {
    "scrolled": true
   },
   "outputs": [],
   "source": [
    "# Display all columns\n",
    "pd.set_option('display.max_columns', None)\n",
    "heroes_df.head()  # Now it'll show all columns"
   ]
  },
  {
   "cell_type": "markdown",
   "id": "d9ba50ff-c66b-42ff-adf2-ad231a42768d",
   "metadata": {},
   "source": [
    "###print header"
   ]
  },
  {
   "cell_type": "code",
   "execution_count": null,
   "id": "8d250873-2368-4260-bb14-68f5765dec40",
   "metadata": {
    "scrolled": true
   },
   "outputs": [],
   "source": [
    "#print(heroes_df.head(1))"
   ]
  },
  {
   "cell_type": "markdown",
   "id": "667eaf3b-d900-45cf-8226-e112f619786f",
   "metadata": {},
   "source": [
    "### Convert fitlered hero data to json"
   ]
  },
  {
   "cell_type": "code",
   "execution_count": null,
   "id": "24dc93a1-553c-4308-9574-0af3dcfce104",
   "metadata": {},
   "outputs": [],
   "source": [
    "def heroes_to_json(df)\n",
    "    heroes_json = df.to_dict(orient='records')\n",
    "    return heroes_json"
   ]
  },
  {
   "cell_type": "markdown",
   "id": "5f475d13-06bf-4e98-8f45-6e4f7ad29f70",
   "metadata": {},
   "source": [
    "### insert Hero data to database function"
   ]
  },
  {
   "cell_type": "code",
   "execution_count": null,
   "id": "ff56da0e-dfc5-4f74-b379-8acb98c057e3",
   "metadata": {},
   "outputs": [],
   "source": [
    "\n",
    "def insert_hero_data_to_db(df,db):\n",
    "    import sqlite3\n",
    "\n",
    "    db = \"Deadlock.db\"\n",
    "    \n",
    "    #create or connect to database file\n",
    "    conn = sqlite3.connect(db)\n",
    "    cursor = conn.cursor()\n",
    "\n",
    "    for hero in df:\n",
    "        cursor.execute(\"\"\"\n",
    "            INSERT INTO heroes (hero_id, name, player_selectable, disabled)\n",
    "            VALUES (?, ?, ?, ?)\n",
    "        \"\"\", (\n",
    "                 hero['hero_id'], \n",
    "            hero['name'],\n",
    "            hero['player_selectable'], \n",
    "            hero['disabled'], \n",
    "        ))\n",
    "    conn.commit()\n",
    "    print(\"Data was successfully loaded\")\n"
   ]
  },
  {
   "cell_type": "markdown",
   "id": "624d0099-16d3-40a2-973f-c72befa4b4d5",
   "metadata": {},
   "source": [
    "### insert starting stats into stats table"
   ]
  },
  {
   "cell_type": "code",
   "execution_count": null,
   "id": "0ac036d7-324f-4032-a6d7-769e64121a09",
   "metadata": {},
   "outputs": [],
   "source": [
    "def insert_starting_stats():\n",
    "    import sqlite3\n",
    "    \n",
    "    db = \"Deadlock.db\"\n",
    "    \n",
    "    #create or connect to database file\n",
    "    conn = sqlite3.connect(db)\n",
    "    cursor = conn.cursor()\n",
    "    \n",
    "    \n",
    "    for hero in heroes_json:\n",
    "        hero_id = hero[\"hero_id\"]\n",
    "        stats = hero.get(\"starting_stats\", {})\n",
    "    \n",
    "        for stat_name, stat_obj in stats.items():\n",
    "            base = stat_obj.get(\"value\", None)\n",
    "            if base is not None:\n",
    "                cursor.execute(\"\"\"\n",
    "                    INSERT INTO hero_stats (hero_id, stat_name, base_value)\n",
    "                    VALUES (?, ?, ?)\n",
    "                \"\"\", (hero_id, stat_name, base))\n",
    "                print(f\"Expected row insertion for: {base}\")\n",
    "    conn.commit()"
   ]
  },
  {
   "cell_type": "code",
   "execution_count": null,
   "id": "95f62718-f083-4005-bf27-e9730b0ecae3",
   "metadata": {},
   "outputs": [],
   "source": []
  },
  {
   "cell_type": "markdown",
   "id": "fdc3b809-be53-40b2-948f-0ab0329cad3f",
   "metadata": {},
   "source": [
    "### Insert scaling stats into stats table, matching hero / stat (Not working)"
   ]
  },
  {
   "cell_type": "code",
   "execution_count": null,
   "id": "3fb5a50a-501b-4490-b063-c36e9174a7d3",
   "metadata": {},
   "outputs": [],
   "source": [
    "def insert_scaling_stats():\n",
    "    import sqlite3\n",
    "    \n",
    "    db = \"Deadlock.db\"\n",
    "    \n",
    "    #create or connect to database file\n",
    "    conn = sqlite3.connect(db)\n",
    "    cursor = conn.cursor()\n",
    "    \n",
    "    \n",
    "    for hero in heroes_json:\n",
    "        hero_id = hero[\"hero_id\"]\n",
    "        scaling_stats = hero.get(\"scaling_stats\", {})\n",
    "    \n",
    "        for stat_name, scale_value in scaling_stats.items():\n",
    "            cursor.execute(\"\"\"\n",
    "                UPDATE hero_stats\n",
    "                SET scale_value = ?\n",
    "                WHERE hero_id = ? AND stat_name = ?\n",
    "            \"\"\", (scale_value, hero_id, stat_name))\n",
    "    \n",
    "    conn.commit()"
   ]
  },
  {
   "cell_type": "code",
   "execution_count": null,
   "id": "55be516a-3c38-489d-b942-0dc04e953b2c",
   "metadata": {},
   "outputs": [],
   "source": []
  }
 ],
 "metadata": {
  "kernelspec": {
   "display_name": "Python 3 (ipykernel)",
   "language": "python",
   "name": "python3"
  },
  "language_info": {
   "codemirror_mode": {
    "name": "ipython",
    "version": 3
   },
   "file_extension": ".py",
   "mimetype": "text/x-python",
   "name": "python",
   "nbconvert_exporter": "python",
   "pygments_lexer": "ipython3",
   "version": "3.12.9"
  }
 },
 "nbformat": 4,
 "nbformat_minor": 5
}
