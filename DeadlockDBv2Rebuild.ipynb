{
 "cells": [
  {
   "cell_type": "markdown",
   "id": "bfd0dc31-58d8-4fbb-87d9-adb98882d25e",
   "metadata": {},
   "source": [
    "Alter tables based on data from Deadlock API Fetch"
   ]
  },
  {
   "cell_type": "code",
   "execution_count": 18,
   "id": "9267ef69-620f-4a2c-a2b2-e4306f99bdc7",
   "metadata": {},
   "outputs": [],
   "source": [
    "import sqlite3\n",
    "\n",
    "db = \"deadlock.db\"\n",
    "\n",
    "conn = sqlite3.connect(db)\n",
    "cursor = conn.cursor()\n"
   ]
  },
  {
   "cell_type": "code",
   "execution_count": null,
   "id": "ad423c22-fd2e-4e3e-8773-3624b01a8d81",
   "metadata": {},
   "outputs": [],
   "source": [
    "cursor.execute(\"\"\"\n",
    "ALTER TABLE heroes\n",
    "ADD COLUMN player_selectable INTEGER\n",
    "\"\"\")\n",
    "\n",
    "cursor.execute(\"\"\"\n",
    "ALTER TABLE heroes\n",
    "ADD COLUMN disabled INTEGER\n",
    "\"\"\")\n",
    "\n",
    "cursor.execute(\"\"\"\n",
    "ALTER TABLE heroes\n",
    "ADD COLUMN stats_display TEXT\n",
    "\"\"\")\n",
    "\n",
    "cursor.execute(\"\"\"\n",
    "ALTER TABLE heroes\n",
    "ADD COLUMN level_info TEXT\n",
    "\"\"\")\n",
    "\n",
    "cursor.execute(\"\"\"\n",
    "ALTER TABLE heroes\n",
    "ADD COLUMN scaling_stats TEXT\n",
    "\"\"\")\n",
    "\n",
    "cursor.execute(\"\"\"\n",
    "ALTER TABLE heroes\n",
    "ADD COLUMN standard_level_up_upgrades TEXT;\n",
    "\"\"\")"
   ]
  },
  {
   "cell_type": "code",
   "execution_count": 9,
   "id": "eb6bd49a-3b40-4b9a-8b56-ebd668cfaa3f",
   "metadata": {},
   "outputs": [
    {
     "data": {
      "text/plain": [
       "<sqlite3.Cursor at 0x26e727c6ac0>"
      ]
     },
     "execution_count": 9,
     "metadata": {},
     "output_type": "execute_result"
    }
   ],
   "source": [
    "cursor.execute(\"\"\"\n",
    "ALTER TABLE heroes\n",
    "ADD COLUMN description TEXT;\n",
    "\"\"\")"
   ]
  },
  {
   "cell_type": "code",
   "execution_count": 11,
   "id": "799c836c-3bfe-4de1-bcc8-3b4997550ed2",
   "metadata": {},
   "outputs": [],
   "source": [
    "conn.commit()"
   ]
  },
  {
   "cell_type": "code",
   "execution_count": 13,
   "id": "c1a4b045-729e-492c-9355-655138dd039a",
   "metadata": {},
   "outputs": [
    {
     "data": {
      "text/plain": [
       "<sqlite3.Cursor at 0x197ab110cc0>"
      ]
     },
     "execution_count": 13,
     "metadata": {},
     "output_type": "execute_result"
    }
   ],
   "source": [
    "cursor.execute(\"\"\"\n",
    "\n",
    "CREATE TABLE heroes_new (\n",
    "    hero_id INTEGER PRIMARY KEY,\n",
    "    name TEXT,\n",
    "    player_selectable BOOLEAN,\n",
    "    disabled BOOLEAN\n",
    ");\n",
    "\"\"\")"
   ]
  },
  {
   "cell_type": "code",
   "execution_count": 15,
   "id": "1e5bbb0c-4297-4771-b11d-b3b0a5fc0117",
   "metadata": {},
   "outputs": [
    {
     "data": {
      "text/plain": [
       "<sqlite3.Cursor at 0x197ab110cc0>"
      ]
     },
     "execution_count": 15,
     "metadata": {},
     "output_type": "execute_result"
    }
   ],
   "source": [
    "cursor.execute(\"\"\"\n",
    "DROP TABLE heroes;\n",
    "\"\"\")\n"
   ]
  },
  {
   "cell_type": "code",
   "execution_count": 16,
   "id": "e3589798-657d-41af-9a5b-1ccafb546fc8",
   "metadata": {},
   "outputs": [
    {
     "data": {
      "text/plain": [
       "<sqlite3.Cursor at 0x197ab110cc0>"
      ]
     },
     "execution_count": 16,
     "metadata": {},
     "output_type": "execute_result"
    }
   ],
   "source": [
    "cursor.execute(\"\"\"\n",
    "ALTER TABLE heroes_new RENAME TO heroes;\n",
    "\"\"\")"
   ]
  },
  {
   "cell_type": "code",
   "execution_count": 19,
   "id": "a7ae7398-495b-47e3-93e6-ec13b5352a08",
   "metadata": {},
   "outputs": [],
   "source": [
    "conn.commit()"
   ]
  },
  {
   "cell_type": "code",
   "execution_count": 20,
   "id": "3aeba4e1-d934-4c50-8774-92b09fa9e6e5",
   "metadata": {},
   "outputs": [],
   "source": [
    "cursor.execute(\"\"\"\n",
    "CREATE TABLE IF NOT EXISTS hero_stats (\n",
    "    hero_id INTEGER,\n",
    "    stat_name TEXT,\n",
    "    base_value REAL,\n",
    "    FOREIGN KEY (hero_id) REFERENCES heroes(hero_id)\n",
    ")\n",
    "\"\"\")\n",
    "conn.commit()\n"
   ]
  },
  {
   "cell_type": "code",
   "execution_count": 24,
   "id": "22371b2d-2f34-429b-90fe-cc859c9c47ef",
   "metadata": {},
   "outputs": [
    {
     "data": {
      "text/plain": [
       "<sqlite3.Cursor at 0x197ab110240>"
      ]
     },
     "execution_count": 24,
     "metadata": {},
     "output_type": "execute_result"
    }
   ],
   "source": [
    "cursor.execute(\"\"\"\n",
    "DROP TABLE hero_traits;\n",
    "\"\"\")"
   ]
  },
  {
   "cell_type": "code",
   "execution_count": 25,
   "id": "c41cee19-9f51-4d5a-98d5-553adc53d0a4",
   "metadata": {},
   "outputs": [
    {
     "data": {
      "text/plain": [
       "<sqlite3.Cursor at 0x197ab110240>"
      ]
     },
     "execution_count": 25,
     "metadata": {},
     "output_type": "execute_result"
    }
   ],
   "source": [
    "cursor.execute(\"\"\"\n",
    "DROP TABLE patch_changes;\n",
    "\"\"\")"
   ]
  },
  {
   "cell_type": "code",
   "execution_count": 26,
   "id": "9a261505-ea1e-475a-a209-9fbcce646858",
   "metadata": {},
   "outputs": [
    {
     "data": {
      "text/plain": [
       "<sqlite3.Cursor at 0x197ab110240>"
      ]
     },
     "execution_count": 26,
     "metadata": {},
     "output_type": "execute_result"
    }
   ],
   "source": [
    "cursor.execute(\"\"\"\n",
    "DROP TABLE patch_notes;\n",
    "\"\"\")"
   ]
  },
  {
   "cell_type": "code",
   "execution_count": 27,
   "id": "fda6ff9f-b948-4606-ba32-ab67bee8d00a",
   "metadata": {},
   "outputs": [
    {
     "data": {
      "text/plain": [
       "<sqlite3.Cursor at 0x197ab110240>"
      ]
     },
     "execution_count": 27,
     "metadata": {},
     "output_type": "execute_result"
    }
   ],
   "source": [
    "cursor.execute(\"\"\"\n",
    "DROP TABLE traits;\n",
    "\"\"\")"
   ]
  },
  {
   "cell_type": "code",
   "execution_count": 28,
   "id": "1bd84a8b-9c8b-48b6-a62d-ffdb73721d5a",
   "metadata": {},
   "outputs": [],
   "source": [
    "conn.commit()"
   ]
  },
  {
   "cell_type": "code",
   "execution_count": 29,
   "id": "740be537-3023-455e-a242-a382d36036eb",
   "metadata": {},
   "outputs": [],
   "source": [
    "cursor.execute(\"\"\"\n",
    "ALTER TABLE hero_stats\n",
    "ADD COLUMN scale_value REAL\n",
    "\"\"\")\n",
    "conn.commit()\n"
   ]
  },
  {
   "cell_type": "code",
   "execution_count": null,
   "id": "7dafb66f-3a0e-4fee-abdd-269b30c2e605",
   "metadata": {},
   "outputs": [],
   "source": [
    "cursor.execute(\"\"\"\n",
    "CREATE TABLE IF NOT EXISTS scaling_stats (\n",
    "    hero_id INTEGER,\n",
    "    stat_name TEXT,\n",
    "    base_value REAL,\n",
    "    FOREIGN KEY (hero_id) REFERENCES heroes(hero_id)\n",
    ")\n",
    "\"\"\")\n",
    "conn.commit()\n"
   ]
  }
 ],
 "metadata": {
  "kernelspec": {
   "display_name": "Python 3 (ipykernel)",
   "language": "python",
   "name": "python3"
  },
  "language_info": {
   "codemirror_mode": {
    "name": "ipython",
    "version": 3
   },
   "file_extension": ".py",
   "mimetype": "text/x-python",
   "name": "python",
   "nbconvert_exporter": "python",
   "pygments_lexer": "ipython3",
   "version": "3.12.9"
  }
 },
 "nbformat": 4,
 "nbformat_minor": 5
}
