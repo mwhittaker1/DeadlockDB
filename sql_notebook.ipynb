{
 "cells": [
  {
   "cell_type": "code",
   "execution_count": 1,
   "id": "e2cc9111",
   "metadata": {},
   "outputs": [],
   "source": [
    "import duckdb\n",
    "con = duckdb.connect(\"c:/Code/Local Code/deadlock_match_prediction/data/deadlock.db\")\n",
    "raw_con = duckdb.connect(\"c:/Code/Local Code/deadlock_match_prediction/match_player_raw.duckdb\")"
   ]
  },
  {
   "cell_type": "code",
   "execution_count": 17,
   "id": "3f51f46b",
   "metadata": {},
   "outputs": [
    {
     "name": "stdout",
     "output_type": "stream",
     "text": [
      "[(10235042,)]\n"
     ]
    }
   ],
   "source": [
    "result = raw_con.execute(\"SELECT count(*) FROM staging_cleaned\").fetchall()\n",
    "print(result)"
   ]
  },
  {
   "cell_type": "code",
   "execution_count": 18,
   "id": "1b0c76cd",
   "metadata": {},
   "outputs": [],
   "source": [
    "con.close()\n",
    "raw_con.close()"
   ]
  },
  {
   "cell_type": "code",
   "execution_count": 15,
   "id": "c7b9a0eb",
   "metadata": {},
   "outputs": [
    {
     "name": "stdout",
     "output_type": "stream",
     "text": [
      "Empty DataFrame\n",
      "Columns: [player_count, match_count]\n",
      "Index: []\n",
      "   count(DISTINCT match_id)\n",
      "0                     13407\n"
     ]
    }
   ],
   "source": [
    "match_df = con.execute(\"SELECT * FROM matches\").fetchdf()\n",
    "match_ids = match_df['match_id'].unique().tolist()\n",
    "\n",
    "# Register match_df as a temporary DuckDB view\n",
    "raw_con.register(\"match_df\", match_df)\n",
    "\n",
    "query = \"\"\"\n",
    "    SELECT \n",
    "        player_count,\n",
    "        COUNT(*) AS match_count\n",
    "    FROM (\n",
    "        SELECT \n",
    "            s.match_id,\n",
    "            COUNT(*) AS player_count\n",
    "        FROM staging_cleaned s\n",
    "        JOIN match_df m ON s.match_id = m.match_id\n",
    "        GROUP BY s.match_id\n",
    "    )\n",
    "    GROUP BY player_count\n",
    "    ORDER BY player_count\n",
    "\"\"\"\n",
    "\n",
    "query2 = \"\"\"\n",
    "    SELECT COUNT(DISTINCT match_id) from match_df;\n",
    "\"\"\"\n",
    "result = raw_con.execute(query).fetchdf()\n",
    "print(result)\n",
    "result2 = raw_con.execute(query2).fetchdf()\n",
    "print(result2)"
   ]
  },
  {
   "cell_type": "code",
   "execution_count": 5,
   "id": "7d3aeb89",
   "metadata": {},
   "outputs": [
    {
     "data": {
      "text/plain": [
       "<duckdb.duckdb.DuckDBPyConnection at 0x2b7c4a06a70>"
      ]
     },
     "execution_count": 5,
     "metadata": {},
     "output_type": "execute_result"
    }
   ],
   "source": [
    "raw_con.execute(\"CREATE OR REPLACE TABLE matches_for_training AS SELECT * FROM match_df\")\n"
   ]
  },
  {
   "cell_type": "code",
   "execution_count": 7,
   "id": "00621480",
   "metadata": {},
   "outputs": [
    {
     "name": "stdout",
     "output_type": "stream",
     "text": [
      "   match_id          start_time game_mode match_mode  duration_s winning_team\n",
      "0  35533788 2025-05-08 21:04:04    Normal   Unranked        2094        Team1\n"
     ]
    }
   ],
   "source": [
    "result = raw_con.execute(\"select * from matches_for_training limit 1\").fetchdf()\n",
    "print(result)"
   ]
  },
  {
   "cell_type": "code",
   "execution_count": 5,
   "id": "f98cc71e",
   "metadata": {},
   "outputs": [
    {
     "ename": "BinderException",
     "evalue": "Binder Error: Referenced column \"account_id\" not found in FROM clause!\nCandidate bindings: \"match_id\", \"duration_s\", \"match_mode\", \"start_time\", \"game_mode\"\n\nLINE 1: SELECT count(distinct account_id) FROM matches\n                              ^",
     "output_type": "error",
     "traceback": [
      "\u001b[31m---------------------------------------------------------------------------\u001b[39m",
      "\u001b[31mBinderException\u001b[39m                           Traceback (most recent call last)",
      "\u001b[36mCell\u001b[39m\u001b[36m \u001b[39m\u001b[32mIn[5]\u001b[39m\u001b[32m, line 1\u001b[39m\n\u001b[32m----> \u001b[39m\u001b[32m1\u001b[39m result = \u001b[43mcon\u001b[49m\u001b[43m.\u001b[49m\u001b[43mexecute\u001b[49m\u001b[43m(\u001b[49m\u001b[33;43m\"\u001b[39;49m\u001b[33;43mSELECT count(distinct account_id) FROM matches\u001b[39;49m\u001b[33;43m\"\u001b[39;49m\u001b[43m)\u001b[49m.fetchdf()\n",
      "\u001b[31mBinderException\u001b[39m: Binder Error: Referenced column \"account_id\" not found in FROM clause!\nCandidate bindings: \"match_id\", \"duration_s\", \"match_mode\", \"start_time\", \"game_mode\"\n\nLINE 1: SELECT count(distinct account_id) FROM matches\n                              ^"
     ]
    }
   ],
   "source": [
    "result = con.execute(\"SELECT count(distinct account_id) FROM matches\").fetchdf()"
   ]
  },
  {
   "cell_type": "code",
   "execution_count": 8,
   "id": "7d14c57e",
   "metadata": {},
   "outputs": [
    {
     "name": "stdout",
     "output_type": "stream",
     "text": [
      "[(0,)]\n"
     ]
    }
   ],
   "source": [
    "result = raw_con.execute(\"\"\"SELECT COUNT(*)\n",
    "FROM staging_cleaned\n",
    "WHERE match_id IN (\n",
    "    SELECT DISTINCT match_id FROM matches_for_training\n",
    ");\"\"\").fetchall()\n",
    "print(result)"
   ]
  },
  {
   "cell_type": "code",
   "execution_count": 38,
   "id": "685e6ddf",
   "metadata": {},
   "outputs": [
    {
     "data": {
      "text/plain": [
       "[(0,)]"
      ]
     },
     "execution_count": 38,
     "metadata": {},
     "output_type": "execute_result"
    }
   ],
   "source": [
    "raw_con.execute(\"\"\"SELECT COUNT(*) AS non_unique_match_ids\n",
    "FROM (\n",
    "    SELECT s.account_id\n",
    "    FROM staging_cleaned s\n",
    "    JOIN matches_for_training m ON s.match_id = m.match_id\n",
    "    GROUP BY s.account_id\n",
    "    HAVING COUNT(*) > 1\n",
    ");\"\"\").fetchall()"
   ]
  },
  {
   "cell_type": "markdown",
   "id": "e49f34c0",
   "metadata": {},
   "source": [
    "*** Creates / replaces filtered_player_matches, completing with data from staginging_cleared, where match_id matches matches_for_Training\n",
    "\n",
    "This should create match history for all players in matches_for_training"
   ]
  },
  {
   "cell_type": "code",
   "execution_count": 33,
   "id": "633242b4",
   "metadata": {},
   "outputs": [
    {
     "data": {
      "text/plain": [
       "<duckdb.duckdb.DuckDBPyConnection at 0x21a95754f70>"
      ]
     },
     "execution_count": 33,
     "metadata": {},
     "output_type": "execute_result"
    }
   ],
   "source": [
    "raw_con.execute(\"\"\"\n",
    "    CREATE OR REPLACE TABLE filtered_player_matches AS\n",
    "    SELECT DISTINCT\n",
    "        s.account_id,\n",
    "        s.match_id,\n",
    "        s.hero_id,\n",
    "        s.team,\n",
    "        s.kills,\n",
    "        s.deaths,\n",
    "        s.assists,\n",
    "        s.denies,\n",
    "        s.net_worth\n",
    "    FROM staging_cleaned s\n",
    "    JOIN matches_for_training m ON s.match_id = m.match_id;\n",
    "                \"\"\")"
   ]
  },
  {
   "cell_type": "code",
   "execution_count": 10,
   "id": "1422cc3a",
   "metadata": {},
   "outputs": [
    {
     "name": "stdout",
     "output_type": "stream",
     "text": [
      "[(13294,)]\n",
      "[(159528,)]\n"
     ]
    }
   ],
   "source": [
    "query1 = raw_con.execute(\"SELECT count(distinct match_id) from filtered_player_matches\").fetchall()\n",
    "query2 = raw_con.execute(\"SELECT count(*) from filtered_player_matches\").fetchall()\n",
    "print(query1)\n",
    "print(query2)"
   ]
  },
  {
   "cell_type": "code",
   "execution_count": 15,
   "id": "b92ac18d",
   "metadata": {},
   "outputs": [
    {
     "data": {
      "text/plain": [
       "[(12, 13294)]"
      ]
     },
     "execution_count": 15,
     "metadata": {},
     "output_type": "execute_result"
    }
   ],
   "source": [
    "raw_con.execute(\"\"\"\n",
    "    SELECT \n",
    "    player_count,\n",
    "    COUNT(*) AS match_count\n",
    "FROM (\n",
    "    SELECT \n",
    "        match_id,\n",
    "        COUNT(account_id) AS player_count\n",
    "    FROM filtered_player_matches\n",
    "    GROUP BY match_id\n",
    ")\n",
    "GROUP BY player_count\n",
    "ORDER BY player_count;                \n",
    "                \"\"\").fetchall()"
   ]
  },
  {
   "cell_type": "code",
   "execution_count": 20,
   "id": "50beb5d5",
   "metadata": {},
   "outputs": [
    {
     "data": {
      "image/png": "[encoded data removed]",
      "text/plain": [
       "<Figure size 1000x600 with 1 Axes>"
      ]
     },
     "metadata": {},
     "output_type": "display_data"
    }
   ],
   "source": [
    "import duckdb\n",
    "import matplotlib.pyplot as plt\n",
    "\n",
    "df = raw_con.execute(\"\"\"\n",
    "    SELECT \n",
    "        account_id,\n",
    "        COUNT(match_id) AS total_matches\n",
    "    FROM filtered_player_matches\n",
    "    GROUP BY account_id\n",
    "\"\"\").fetchdf()\n",
    "\n",
    "# Histogram for total matches\n",
    "plt.figure(figsize=(10, 6))\n",
    "plt.hist(df['total_matches'], bins=50, edgecolor='black')\n",
    "plt.title('Distribution of Total Matches per Account')\n",
    "plt.xlabel('Total Matches')\n",
    "plt.ylabel('Number of Players')\n",
    "plt.grid(True)\n",
    "plt.tight_layout()\n",
    "plt.show()"
   ]
  },
  {
   "cell_type": "code",
   "execution_count": 25,
   "id": "887c1fe6",
   "metadata": {},
   "outputs": [
    {
     "data": {
      "image/png": "[encoded data removed]",
      "text/plain": [
       "<Figure size 1000x500 with 1 Axes>"
      ]
     },
     "metadata": {},
     "output_type": "display_data"
    }
   ],
   "source": [
    "import numpy as np\n",
    "# Fetch total match counts per player\n",
    "df = raw_con.execute(\"\"\"\n",
    "    SELECT account_id, COUNT(*) AS total_matches\n",
    "    FROM filtered_player_matches\n",
    "    GROUP BY account_id\n",
    "\"\"\").fetchdf()\n",
    "\n",
    "# Calculate 95th percentile\n",
    "p95 = np.percentile(df[\"total_matches\"], 95)\n",
    "\n",
    "# Plot\n",
    "plt.figure(figsize=(10, 5))\n",
    "plt.hist(df[df[\"total_matches\"] <= p95][\"total_matches\"], bins=50)\n",
    "plt.title(\"Player Total Matches (≤95th percentile)\")\n",
    "plt.xlabel(\"Total Matches\")\n",
    "plt.ylabel(\"Number of Players\")\n",
    "plt.grid(True)\n",
    "plt.show()"
   ]
  }
 ],
 "metadata": {
  "kernelspec": {
   "display_name": ".venv",
   "language": "python",
   "name": "python3"
  },
  "language_info": {
   "codemirror_mode": {
    "name": "ipython",
    "version": 3
   },
   "file_extension": ".py",
   "mimetype": "text/x-python",
   "name": "python",
   "nbconvert_exporter": "python",
   "pygments_lexer": "ipython3",
   "version": "3.12.6"
  }
 },
 "nbformat": 4,
 "nbformat_minor": 5
}
