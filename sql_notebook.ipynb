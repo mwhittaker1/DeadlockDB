{
 "cells": [
  {
   "cell_type": "code",
   "execution_count": 114,
   "id": "e2cc9111",
   "metadata": {},
   "outputs": [],
   "source": [
    "import duckdb\n",
    "con = duckdb.connect(\"c:/Code/Local Code/deadlock_match_prediction/data/deadlock.db\")\n",
    "raw_con = duckdb.connect(\"c:/Code/Local Code/deadlock_match_prediction/match_player_raw.duckdb\")"
   ]
  },
  {
   "cell_type": "code",
   "execution_count": null,
   "id": "3f51f46b",
   "metadata": {},
   "outputs": [],
   "source": [
    "result = raw_con.execute(\"SELECT count(*) FROM staging_cleaned\").fetchall()\n",
    "print(result)"
   ]
  },
  {
   "cell_type": "code",
   "execution_count": 94,
   "id": "1b0c76cd",
   "metadata": {},
   "outputs": [],
   "source": [
    "con.close()\n",
    "raw_con.close()"
   ]
  },
  {
   "cell_type": "code",
   "execution_count": null,
   "id": "c7b9a0eb",
   "metadata": {},
   "outputs": [],
   "source": [
    "match_df = con.execute(\"SELECT * FROM matches\").fetchdf()\n",
    "match_ids = match_df['match_id'].unique().tolist()\n",
    "\n",
    "# Register match_df as a temporary DuckDB view\n",
    "raw_con.register(\"match_df\", match_df)\n",
    "\n",
    "query = \"\"\"\n",
    "    SELECT \n",
    "        player_count,\n",
    "        COUNT(*) AS match_count\n",
    "    FROM (\n",
    "        SELECT \n",
    "            s.match_id,\n",
    "            COUNT(*) AS player_count\n",
    "        FROM staging_cleaned s\n",
    "        JOIN match_df m ON s.match_id = m.match_id\n",
    "        GROUP BY s.match_id\n",
    "    )\n",
    "    GROUP BY player_count\n",
    "    ORDER BY player_count\n",
    "\"\"\"\n",
    "\n",
    "query2 = \"\"\"\n",
    "    SELECT COUNT(DISTINCT match_id) from match_df;\n",
    "\"\"\"\n",
    "result = raw_con.execute(query).fetchdf()\n",
    "print(result)\n",
    "result2 = raw_con.execute(query2).fetchdf()\n",
    "print(result2)"
   ]
  },
  {
   "cell_type": "code",
   "execution_count": null,
   "id": "aa01a9ff",
   "metadata": {},
   "outputs": [],
   "source": [
    "    \"\"\"Formats raw match_info to be combined with raw_match_players\n",
    "    Combined data will live in deadlock.db.player_matches_history table\n",
    "    \"\"\"\n",
    "raw_con.execute(f\"\"\"\n",
    "        CREATE OR REPLACE TABLE high_quality_matches AS\n",
    "        SELECT match_id, start_time, game_mode, match_mode, won\n",
    "        FROM 'match_info_history'\n",
    "        WHERE (average_badge_team0 + average_badge_team1) / 2 > 75\n",
    "    \"\"\")\n",
    "    result = raw_con.execute(\"Select count(*) from high_quality_matches\").fetchone()[0]\n",
    "    print(f\"High quality matches count: {result}\")"
   ]
  },
  {
   "cell_type": "code",
   "execution_count": null,
   "id": "7d3aeb89",
   "metadata": {},
   "outputs": [],
   "source": [
    "raw_con.execute(\"CREATE OR REPLACE TABLE matches_for_training AS SELECT * FROM match_df\")\n"
   ]
  },
  {
   "cell_type": "code",
   "execution_count": null,
   "id": "00621480",
   "metadata": {},
   "outputs": [],
   "source": [
    "result = raw_con.execute(\"select * from staging_cleaned limit 1\").fetchdf()\n",
    "print(result)"
   ]
  },
  {
   "cell_type": "code",
   "execution_count": null,
   "id": "f98cc71e",
   "metadata": {},
   "outputs": [],
   "source": [
    "result = con.execute(\"SELECT count(distinct account_id) FROM player_matches\").fetchdf()\n",
    "print(result)"
   ]
  },
  {
   "cell_type": "code",
   "execution_count": null,
   "id": "7d14c57e",
   "metadata": {},
   "outputs": [],
   "source": [
    "result = raw_con.execute(\"\"\"SELECT COUNT(*)\n",
    "FROM staging_cleaned\n",
    "WHERE match_id IN (\n",
    "    SELECT DISTINCT match_id FROM matches_for_training\n",
    ");\"\"\").fetchall()\n",
    "print(result)"
   ]
  },
  {
   "cell_type": "code",
   "execution_count": null,
   "id": "685e6ddf",
   "metadata": {},
   "outputs": [],
   "source": [
    "raw_con.execute(\"\"\"SELECT COUNT(*) AS non_unique_match_ids\n",
    "FROM (\n",
    "    SELECT s.account_id\n",
    "    FROM staging_cleaned s\n",
    "    JOIN matches_for_training m ON s.match_id = m.match_id\n",
    "    GROUP BY s.account_id\n",
    "    HAVING COUNT(*) > 1\n",
    ");\"\"\").fetchall()"
   ]
  },
  {
   "cell_type": "markdown",
   "id": "e49f34c0",
   "metadata": {},
   "source": [
    "*** Creates / replaces filtered_player_matches, completing with data from staging_cleared, where match_id matches matches_for_Training\n",
    "\n",
    "This should create match history for all players in matches_for_training"
   ]
  },
  {
   "cell_type": "code",
   "execution_count": null,
   "id": "633242b4",
   "metadata": {},
   "outputs": [],
   "source": [
    "raw_con.execute(\"\"\"\n",
    "    CREATE OR REPLACE TABLE filtered_player_matches AS\n",
    "SELECT\n",
    "    s.account_id,\n",
    "    s.match_id,\n",
    "    s.hero_id,\n",
    "    s.team,\n",
    "    s.kills,\n",
    "    s.deaths,\n",
    "    s.assists,\n",
    "    s.denies,\n",
    "    s.net_worth,\n",
    "    s.won,\n",
    "    s.start_time,\n",
    "FROM staging_cleaned s\n",
    "WHERE s.account_id IN (\n",
    "    SELECT DISTINCT account_id \n",
    "    FROM dup_player_matches\n",
    ");\n",
    "                \"\"\")"
   ]
  },
  {
   "cell_type": "code",
   "execution_count": null,
   "id": "1422cc3a",
   "metadata": {},
   "outputs": [],
   "source": [
    "query1 = raw_con.execute(\"SELECT count(distinct match_id) from filtered_player_matches\").fetchall()\n",
    "query2 = raw_con.execute(\"SELECT count(*) from filtered_player_matches\").fetchall()\n",
    "print(query1)\n",
    "print(query2)"
   ]
  },
  {
   "cell_type": "code",
   "execution_count": 96,
   "id": "50beb5d5",
   "metadata": {},
   "outputs": [
    {
     "data": {
      "image/png": "[encoded data removed]",
      "text/plain": [
       "<Figure size 1000x600 with 1 Axes>"
      ]
     },
     "metadata": {},
     "output_type": "display_data"
    }
   ],
   "source": [
    "import duckdb\n",
    "import matplotlib.pyplot as plt\n",
    "\n",
    "df = raw_con.execute(\"\"\"\n",
    "    SELECT \n",
    "        account_id,\n",
    "        COUNT(match_id) AS total_matches\n",
    "    FROM player_matches\n",
    "    GROUP BY account_id\n",
    "\"\"\").fetchdf()\n",
    "\n",
    "# Histogram for total matches\n",
    "plt.figure(figsize=(10, 6))\n",
    "plt.hist(df['total_matches'], bins=50, edgecolor='black')\n",
    "plt.title('Distribution of Total Matches per Account')\n",
    "plt.xlabel('Total Matches')\n",
    "plt.ylabel('Number of Players')\n",
    "plt.grid(True)\n",
    "plt.tight_layout()\n",
    "plt.show()"
   ]
  },
  {
   "cell_type": "code",
   "execution_count": null,
   "id": "887c1fe6",
   "metadata": {},
   "outputs": [],
   "source": [
    "import numpy as np\n",
    "# Fetch total match counts per player\n",
    "df = raw_con.execute(\"\"\"\n",
    "    SELECT account_id, COUNT(*) AS total_matches\n",
    "    FROM filtered_player_matches\n",
    "    GROUP BY account_id\n",
    "\"\"\").fetchdf()\n",
    "\n",
    "# Calculate 95th percentile\n",
    "p95 = np.percentile(df[\"total_matches\"], 95)\n",
    "\n",
    "# Plot\n",
    "plt.figure(figsize=(10, 5))\n",
    "plt.hist(df[df[\"total_matches\"] <= p95][\"total_matches\"], bins=50)\n",
    "plt.title(\"Player Total Matches (≤95th percentile)\")\n",
    "plt.xlabel(\"Total Matches\")\n",
    "plt.ylabel(\"Number of Players\")\n",
    "plt.grid(True)\n",
    "plt.show()"
   ]
  },
  {
   "cell_type": "code",
   "execution_count": null,
   "id": "6724f5d0",
   "metadata": {},
   "outputs": [],
   "source": [
    "df = raw_con.execute(\"\"\"SELECT COUNT(*) \n",
    "FROM staging_cleaned s\n",
    "INNER JOIN matches_for_training m ON s.match_id = m.match_id;\"\"\").fetchdf()\n",
    "print(f\"{df.columns}\\n\\n {len(df)}\")"
   ]
  },
  {
   "cell_type": "markdown",
   "id": "addc4ee0",
   "metadata": {},
   "source": [
    "Duplicate main.player_matches into raw_data.dup_player_matches"
   ]
  },
  {
   "cell_type": "code",
   "execution_count": null,
   "id": "c6b89bb1",
   "metadata": {},
   "outputs": [],
   "source": [
    "df = con.execute(\"\"\"\n",
    "    select * from player_matches\"\"\").fetchdf()\n",
    "print(f\"{df.columns}\\n\\n {len(df)}\")\n",
    "raw_con.execute(\"\"\"\n",
    "    INSERT into dup_player_matches\n",
    "    SELECT * FROM df\n",
    "                \"\"\")"
   ]
  },
  {
   "cell_type": "code",
   "execution_count": null,
   "id": "179f72ce",
   "metadata": {},
   "outputs": [],
   "source": [
    "result = raw_con.execute(\"SELECT count(*) from dup_player_matches\").fetchdf()\n",
    "print(result)"
   ]
  },
  {
   "cell_type": "code",
   "execution_count": null,
   "id": "17654a95",
   "metadata": {},
   "outputs": [],
   "source": [
    "con.execute(\"\"\"\n",
    "    UPDATE player_matches\n",
    "    SET won = (\n",
    "        SELECT CASE \n",
    "            WHEN player_matches.team = m.winning_team THEN 1 \n",
    "            ELSE 0 \n",
    "            END\n",
    "        FROM matches m\n",
    "        WHERE player_matches.match_id = m.match_id\n",
    ");  \"\"\")"
   ]
  },
  {
   "cell_type": "code",
   "execution_count": null,
   "id": "84cfc82b",
   "metadata": {},
   "outputs": [],
   "source": [
    "oldest_fpm_match_start = raw_con.execute(\"\"\"\n",
    "    SELECT hqm.start_time\n",
    "    FROM match_info_history hqm\n",
    "    WHERE hqm.match_id = (\n",
    "        SELECT MIN(match_id)\n",
    "        FROM filtered_player_matches\n",
    "    )\n",
    "\"\"\").fetchone()\n",
    "\n",
    "oldest_high_quality = raw_con.execute(\"\"\"\n",
    "    SELECT MIN(start_time) FROM high_quality_matches\n",
    "\"\"\").fetchone()\n",
    "\n",
    "print(\"Start time from lowest match_id:\", oldest_fpm_match_start[0])\n",
    "print(\"Oldest start time overall:\", oldest_high_quality[0])"
   ]
  },
  {
   "cell_type": "code",
   "execution_count": null,
   "id": "02087905",
   "metadata": {},
   "outputs": [],
   "source": [
    "result = raw_con.execute(\"SELECT count(*) from dup_player_matches limit 1\").fetchdf()\n",
    "print(result)"
   ]
  },
  {
   "cell_type": "markdown",
   "id": "b4f39aaa",
   "metadata": {},
   "source": [
    "Count and display layout of multiple tables"
   ]
  },
  {
   "cell_type": "code",
   "execution_count": null,
   "id": "c3775532",
   "metadata": {},
   "outputs": [],
   "source": [
    "result = raw_con.execute(\"SELECT COUNT(*) FROM matches_for_training\").fetchdf()\n",
    "print(f\"matches_for_training: {result}\")\n",
    "result = raw_con.execute(\"SELECT * FROM matches_for_training LIMIT 1\").fetchdf()\n",
    "print(f\"matches_for_training: {result}\")\n",
    "\n",
    "result = raw_con.execute(\"SELECT COUNT(*) FROM dup_player_matches\").fetchdf()\n",
    "print(f\"\\n\\ndup_player_matches: {result}\")\n",
    "result = raw_con.execute(\"SELECT * FROM dup_player_matches LIMIT 1\").fetchdf()\n",
    "print(f\"dup_player_matches: {result}\")\n",
    "\n",
    "result = raw_con.execute(\"SELECT COUNT(*) FROM filtered_player_matches\").fetchdf()\n",
    "print(f\"\\n\\nfiltered_player_matches: {result}\")\n",
    "result = raw_con.execute(\"SELECT * FROM filtered_player_matches LIMIT 1\").fetchdf()\n",
    "print(f\"filtered_player_matches: {result}\")\n",
    "\n",
    "result = raw_con.execute(\"SELECT COUNT(*) FROM high_quality_matches\").fetchdf()\n",
    "print(f\"\\n\\nhigh_quality_matches: {result}\")\n",
    "result = raw_con.execute(\"SELECT * FROM high_quality_matches LIMIT 1\").fetchdf()\n",
    "print(f\"high_quality_matches: {result}\")\n",
    "\n",
    "result = raw_con.execute(\"SELECT COUNT(*) FROM staging_cleaned\").fetchdf()\n",
    "print(f\"\\nstaging_cleaned: {result}\")\n",
    "result = raw_con.execute(\"SELECT * FROM staging_cleaned LIMIT 1\").fetchdf()\n",
    "print(f\"staging_cleaned: {result}\")\n",
    "\n",
    "result = raw_con.execute(\"SELECT COUNT(*) FROM match_info_history\").fetchdf()\n",
    "print(f\"\\n match_info_history: {result}\")\n",
    "result = raw_con.execute(\"SELECT * FROM match_info_history LIMIT 1\").fetchdf()\n",
    "print(f\"match_info_history: {result}\")"
   ]
  },
  {
   "cell_type": "markdown",
   "id": "2994ee5d",
   "metadata": {},
   "source": [
    "# What distinct account_ids are in filtered_player_matches but not in dup_player_matches\n",
    "Expectation should be zero."
   ]
  },
  {
   "cell_type": "code",
   "execution_count": null,
   "id": "f310e1ac",
   "metadata": {},
   "outputs": [],
   "source": [
    "unique_count = raw_con.execute(\"\"\"\n",
    "    SELECT COUNT(DISTINCT fpm.account_id) AS unique_count\n",
    "    FROM filtered_player_matches fpm\n",
    "    WHERE fpm.account_id NOT IN (\n",
    "        SELECT account_id FROM dup_player_matches\n",
    "    )\n",
    "\"\"\").fetchone()\n",
    "\n",
    "print(\"Unique account_ids not in dup_player_matches:\", unique_count[0])"
   ]
  },
  {
   "cell_type": "markdown",
   "id": "220cfc60",
   "metadata": {},
   "source": [
    "## How many matches of history for each player in filtered_player_matches\n",
    "count occurance of each account_id in filtered_player_matches\n"
   ]
  },
  {
   "cell_type": "code",
   "execution_count": null,
   "id": "683238ef",
   "metadata": {},
   "outputs": [],
   "source": [
    "import matplotlib.pyplot as plt\n",
    "import pandas as pd\n",
    "\n",
    "# Fetch data\n",
    "result = raw_con.execute(\"\"\"\n",
    "    SELECT account_id, COUNT(*) AS match_count\n",
    "    FROM filtered_player_matches\n",
    "    GROUP BY account_id\n",
    "\"\"\").fetchdf()\n",
    "\n",
    "# Bin match counts into buckets of 50\n",
    "bins = range(0, result['match_count'].max() + 101, 100)\n",
    "result['match_bucket'] = pd.cut(result['match_count'], bins=bins, right=False)\n",
    "\n",
    "# Count players in each bucket\n",
    "bucket_counts = result['match_bucket'].value_counts().sort_index()\n",
    "\n",
    "# Plot\n",
    "plt.figure(figsize=(12, 6))\n",
    "plt.bar(bucket_counts.index.astype(str), bucket_counts.values)\n",
    "plt.xticks(rotation=45, ha='right')\n",
    "plt.xlabel('Match Count Bucket')\n",
    "plt.ylabel('Number of Players')\n",
    "plt.title('Player Distribution by Match Count Buckets (50 per bucket)')\n",
    "plt.tight_layout()\n",
    "plt.show()"
   ]
  },
  {
   "cell_type": "markdown",
   "id": "045821bf",
   "metadata": {},
   "source": [
    "# Combine data and insert into main.player_matches_history\n"
   ]
  },
  {
   "cell_type": "code",
   "execution_count": 76,
   "id": "71bf75e2",
   "metadata": {},
   "outputs": [
    {
     "data": {
      "text/plain": [
       "<duckdb.duckdb.DuckDBPyConnection at 0x2797fcfb770>"
      ]
     },
     "execution_count": 76,
     "metadata": {},
     "output_type": "execute_result"
    }
   ],
   "source": [
    "con.execute(f\"\"\"\n",
    "    drop table if exists player_matches_history;\"\"\")\n"
   ]
  },
  {
   "cell_type": "code",
   "execution_count": 77,
   "id": "87330065",
   "metadata": {},
   "outputs": [],
   "source": [
    "from services import database_functions as dbf\n",
    "\n",
    "dbf.create_player_matches_history(con)"
   ]
  },
  {
   "cell_type": "code",
   "execution_count": 78,
   "id": "1795a0f2",
   "metadata": {},
   "outputs": [
    {
     "ename": "CatalogException",
     "evalue": "Catalog Error: Column with name prior_win_loss_streak already exists!",
     "output_type": "error",
     "traceback": [
      "\u001b[31m---------------------------------------------------------------------------\u001b[39m",
      "\u001b[31mCatalogException\u001b[39m                          Traceback (most recent call last)",
      "\u001b[36mCell\u001b[39m\u001b[36m \u001b[39m\u001b[32mIn[78]\u001b[39m\u001b[32m, line 1\u001b[39m\n\u001b[32m----> \u001b[39m\u001b[32m1\u001b[39m \u001b[43mraw_con\u001b[49m\u001b[43m.\u001b[49m\u001b[43mexecute\u001b[49m\u001b[43m(\u001b[49m\u001b[33;43mf\u001b[39;49m\u001b[33;43m\"\"\"\u001b[39;49m\n\u001b[32m      2\u001b[39m \u001b[33;43m    ALTER TABLE filtered_player_matches ADD COLUMN prior_win_loss_streak VARCHAR;    \u001b[39;49m\n\u001b[32m      3\u001b[39m \u001b[33;43m            \u001b[39;49m\u001b[33;43m\"\"\"\u001b[39;49m\u001b[43m)\u001b[49m\n",
      "\u001b[31mCatalogException\u001b[39m: Catalog Error: Column with name prior_win_loss_streak already exists!"
     ]
    }
   ],
   "source": [
    "raw_con.execute(f\"\"\"\n",
    "    ALTER TABLE filtered_player_matches ADD COLUMN prior_win_loss_streak VARCHAR;    \n",
    "            \"\"\")"
   ]
  },
  {
   "cell_type": "code",
   "execution_count": 54,
   "id": "462e7e4a",
   "metadata": {},
   "outputs": [
    {
     "data": {
      "text/plain": [
       "<duckdb.duckdb.DuckDBPyConnection at 0x2792110f5b0>"
      ]
     },
     "execution_count": 54,
     "metadata": {},
     "output_type": "execute_result"
    }
   ],
   "source": [
    "raw_con.execute(\"\"\"\n",
    "    update filtered_player_matches\n",
    "    set start_time = match_info_history.start_time\n",
    "    from match_info_history\n",
    "    where filtered_player_matches.match_id = match_info_history.match_id    \n",
    "                \"\"\")"
   ]
  },
  {
   "cell_type": "code",
   "execution_count": 85,
   "id": "95d46826",
   "metadata": {},
   "outputs": [
    {
     "name": "stdout",
     "output_type": "stream",
     "text": [
      "   account_id  match_id  hero_id  team  kills  deaths  assists  denies  \\\n",
      "0   974492784  18795645       31     1     14       6       14      28   \n",
      "1    78301955  18795650       31     0      5       8       12      18   \n",
      "2    12185751  18795674        7     0      8      13       26      19   \n",
      "3   127837639  18795674       35     1     15       7       14       9   \n",
      "4   257349079  18795674       17     0     22       6       18      15   \n",
      "\n",
      "   net_worth    won          start_time prior_win_loss_streak  \n",
      "0      46259   True 2024-09-29 23:49:53                  None  \n",
      "1      36871  False 2024-09-29 23:49:53                  None  \n",
      "2      65119  False 2024-09-29 23:50:00                  None  \n",
      "3     106773   True 2024-09-29 23:50:00                  None  \n",
      "4      61024  False 2024-09-29 23:50:00                  None  \n"
     ]
    }
   ],
   "source": [
    "query = raw_con.execute(\"SELECT * from filtered_player_matches LIMIT 5\").fetchdf()\n",
    "print(query)"
   ]
  },
  {
   "cell_type": "markdown",
   "id": "a2b77f37",
   "metadata": {},
   "source": [
    "Copy data from filtered_player_matches to player_matches_history"
   ]
  },
  {
   "cell_type": "code",
   "execution_count": 90,
   "id": "0dcd908a",
   "metadata": {},
   "outputs": [
    {
     "name": "stdout",
     "output_type": "stream",
     "text": [
      "Source table contains 8316105 rows\n",
      "Fetching all data...\n",
      "Fetched 8316105 rows in 0.75 seconds\n",
      "Inserting data...\n",
      "Inserted data in 1.29 seconds\n",
      "Final row count in target table: 8316105\n",
      "Total transfer completed in 2.05 seconds\n"
     ]
    },
    {
     "data": {
      "text/plain": [
       "8316105"
      ]
     },
     "execution_count": 90,
     "metadata": {},
     "output_type": "execute_result"
    }
   ],
   "source": [
    "import pandas as pd\n",
    "import numpy as np\n",
    "from concurrent.futures import ProcessPoolExecutor\n",
    "import os\n",
    "import time\n",
    "def direct_copy(raw_con, con):\n",
    "    \"\"\"\n",
    "    Transfer all data in one operation - requires sufficient memory\n",
    "    \"\"\"\n",
    "    start_time = time.time()\n",
    "    \n",
    "    # Check source\n",
    "    total_count = raw_con.execute(\"SELECT COUNT(*) FROM filtered_player_matches\").fetchone()[0]\n",
    "    print(f\"Source table contains {total_count} rows\")\n",
    "    \n",
    "    if total_count == 0:\n",
    "        print(\"Source table is empty - nothing to transfer\")\n",
    "        return 0\n",
    "    \n",
    "    # Create target table\n",
    "    con.execute(\"DROP TABLE IF EXISTS player_matches_history\")\n",
    "    \n",
    "    try:\n",
    "        print(\"Fetching all data...\")\n",
    "        fetch_start = time.time()\n",
    "        all_data = raw_con.execute(\"SELECT * FROM filtered_player_matches\").fetchdf()\n",
    "        fetch_end = time.time()\n",
    "        print(f\"Fetched {len(all_data)} rows in {fetch_end - fetch_start:.2f} seconds\")\n",
    "        \n",
    "        # Insert all data\n",
    "        print(\"Inserting data...\")\n",
    "        insert_start = time.time()\n",
    "        con.register(\"all_data\", all_data)\n",
    "        con.execute(\"\"\"\n",
    "            CREATE TABLE player_matches_history AS\n",
    "            SELECT * FROM all_data\n",
    "        \"\"\")\n",
    "        insert_end = time.time()\n",
    "        print(f\"Inserted data in {insert_end - insert_start:.2f} seconds\")\n",
    "        \n",
    "        # Verify\n",
    "        final_count = con.execute(\"SELECT COUNT(*) FROM player_matches_history\").fetchone()[0]\n",
    "        print(f\"Final row count in target table: {final_count}\")\n",
    "    except Exception as e:\n",
    "        print(f\"Error during transfer: {e}\")\n",
    "        import traceback\n",
    "        traceback.print_exc()\n",
    "    \n",
    "    end_time = time.time()\n",
    "    print(f\"Total transfer completed in {end_time - start_time:.2f} seconds\")\n",
    "    \n",
    "    return final_count\n",
    "direct_copy(raw_con, con)"
   ]
  },
  {
   "cell_type": "code",
   "execution_count": 89,
   "id": "57f542f1",
   "metadata": {},
   "outputs": [
    {
     "name": "stdout",
     "output_type": "stream",
     "text": [
      "   count(account_id)\n",
      "0            8316105\n"
     ]
    }
   ],
   "source": [
    "df = raw_con.execute(\"\"\"\n",
    "    select count(account_id) from filtered_player_matches\"\"\").fetchdf()\n",
    "print(df)"
   ]
  },
  {
   "cell_type": "code",
   "execution_count": 91,
   "id": "d7fac778",
   "metadata": {},
   "outputs": [
    {
     "name": "stdout",
     "output_type": "stream",
     "text": [
      "   account_id  match_id  hero_id  team  kills  deaths  assists  denies  \\\n",
      "0   974492784  18795645       31     1     14       6       14      28   \n",
      "\n",
      "   net_worth   won          start_time  prior_win_loss_streak  \n",
      "0      46259  True 2024-09-29 23:49:53                   <NA>  \n"
     ]
    }
   ],
   "source": [
    "df = con.execute(\"\"\"\n",
    "    select * from player_matches_history LIMIT 1\"\"\").fetchdf()\n",
    "print(df)"
   ]
  },
  {
   "cell_type": "code",
   "execution_count": 93,
   "id": "4dd929af",
   "metadata": {},
   "outputs": [
    {
     "name": "stdout",
     "output_type": "stream",
     "text": [
      "   count(start_time)\n",
      "0            8316105\n"
     ]
    }
   ],
   "source": [
    "df = con.execute(\"\"\"\n",
    "    select count(start_time) from player_matches_history\"\"\").fetchdf()\n",
    "print(df)"
   ]
  },
  {
   "cell_type": "code",
   "execution_count": null,
   "id": "0019c88c",
   "metadata": {},
   "outputs": [],
   "source": [
    "con.execute(\"ALTER TABLE player_matches_history ADD COLUMN start_time TIMESTAMP\")"
   ]
  },
  {
   "cell_type": "code",
   "execution_count": null,
   "id": "79217736",
   "metadata": {},
   "outputs": [],
   "source": [
    "query = f\"\"\"\n",
    "    UPDATE player_matches_history\n",
    "    SET start_time = match_info_history.start_time\n",
    "    FROM match_info_history\n",
    "    WHERE player_matches_history.match_id = match_info_history.match_id\n",
    "    \"\"\"\n"
   ]
  },
  {
   "cell_type": "code",
   "execution_count": null,
   "id": "ec730b02",
   "metadata": {},
   "outputs": [],
   "source": [
    "query = raw_con.execute(f\"\"\"\n",
    "    select start_time from match_info_history\n",
    "    order by start_time asc\n",
    "    limit 20\n",
    "    \"\"\").fetchdf()\n",
    "print(query)"
   ]
  },
  {
   "cell_type": "code",
   "execution_count": null,
   "id": "81ab8afc",
   "metadata": {},
   "outputs": [],
   "source": [
    "query = raw_con.execute(\"\"\"\n",
    "    SELECT count(*)\n",
    "    FROM match_info_history\n",
    "    WHERE start_time = ''\n",
    "    \"\"\").fetchdf()\n",
    "print(query)"
   ]
  },
  {
   "cell_type": "code",
   "execution_count": 109,
   "id": "8dad444f",
   "metadata": {},
   "outputs": [
    {
     "name": "stdout",
     "output_type": "stream",
     "text": [
      "player_matches_history count:  (8316105,)\n",
      "player_rolling_stats count:  (6187631,)\n",
      "difference:  2128474\n"
     ]
    }
   ],
   "source": [
    "query2 = con.execute(\"\"\"\n",
    "        select count(*) from player_matches_history\"\"\").fetchone()\n",
    "print(\"player_matches_history count: \", query2)\n",
    "query = con.execute(\"\"\"\n",
    "        select count(*) from player_rolling_stats\"\"\").fetchone()\n",
    "print(\"player_rolling_stats count: \", query)\n",
    "\n",
    "print(\"difference: \", query2[0] - query[0])"
   ]
  },
  {
   "cell_type": "code",
   "execution_count": 112,
   "id": "ad2724c8",
   "metadata": {},
   "outputs": [
    {
     "name": "stdout",
     "output_type": "stream",
     "text": [
      "player_matches_history count:     account_id  match_id  hero_id  team  kills  deaths  assists  denies  \\\n",
      "0   974492784  18795645       31     1     14       6       14      28   \n",
      "\n",
      "   net_worth   won          start_time  prior_win_loss_streak  \n",
      "0      46259  True 2024-09-29 23:49:53                   <NA>  \n"
     ]
    }
   ],
   "source": [
    "query3 = con.execute(\"\"\"\n",
    "        select * from player_matches_history limit 1\"\"\").fetchdf()\n",
    "print(\"player_matches_history count: \", query3)"
   ]
  },
  {
   "cell_type": "code",
   "execution_count": 117,
   "id": "76224471",
   "metadata": {},
   "outputs": [
    {
     "data": {
      "text/plain": [
       "<duckdb.duckdb.DuckDBPyConnection at 0x279550fed70>"
      ]
     },
     "execution_count": 117,
     "metadata": {},
     "output_type": "execute_result"
    }
   ],
   "source": [
    "con.execute(\"ALTER TABLE player_rolling_stats ADD COLUMN prior_win_loss_streak VARCHAR\")"
   ]
  },
  {
   "cell_type": "code",
   "execution_count": 118,
   "id": "3cc55c6d",
   "metadata": {},
   "outputs": [],
   "source": [
    "con.close()\n",
    "raw_con.close()"
   ]
  }
 ],
 "metadata": {
  "kernelspec": {
   "display_name": ".venv",
   "language": "python",
   "name": "python3"
  },
  "language_info": {
   "codemirror_mode": {
    "name": "ipython",
    "version": 3
   },
   "file_extension": ".py",
   "mimetype": "text/x-python",
   "name": "python",
   "nbconvert_exporter": "python",
   "pygments_lexer": "ipython3",
   "version": "3.12.6"
  }
 },
 "nbformat": 4,
 "nbformat_minor": 5
}
