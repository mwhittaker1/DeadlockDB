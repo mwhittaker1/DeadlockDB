{
 "cells": [
  {
   "cell_type": "code",
   "execution_count": 141,
   "id": "e2cc9111",
   "metadata": {},
   "outputs": [],
   "source": [
    "import duckdb\n",
    "con = duckdb.connect(\"c:/Code/Local Code/deadlock_match_prediction/data/deadlock.db\")\n",
    "raw_con = duckdb.connect(\"c:/Code/Local Code/deadlock_match_prediction/match_player_raw.duckdb\")"
   ]
  },
  {
   "cell_type": "code",
   "execution_count": 110,
   "id": "3f51f46b",
   "metadata": {},
   "outputs": [
    {
     "name": "stdout",
     "output_type": "stream",
     "text": [
      "[(85901845,)]\n"
     ]
    }
   ],
   "source": [
    "result = raw_con.execute(\"SELECT count(*) FROM staging_cleaned\").fetchall()\n",
    "print(result)"
   ]
  },
  {
   "cell_type": "code",
   "execution_count": 143,
   "id": "1b0c76cd",
   "metadata": {},
   "outputs": [],
   "source": [
    "con.close()\n",
    "raw_con.close()"
   ]
  },
  {
   "cell_type": "code",
   "execution_count": null,
   "id": "c7b9a0eb",
   "metadata": {},
   "outputs": [],
   "source": [
    "match_df = con.execute(\"SELECT * FROM matches\").fetchdf()\n",
    "match_ids = match_df['match_id'].unique().tolist()\n",
    "\n",
    "# Register match_df as a temporary DuckDB view\n",
    "raw_con.register(\"match_df\", match_df)\n",
    "\n",
    "query = \"\"\"\n",
    "    SELECT \n",
    "        player_count,\n",
    "        COUNT(*) AS match_count\n",
    "    FROM (\n",
    "        SELECT \n",
    "            s.match_id,\n",
    "            COUNT(*) AS player_count\n",
    "        FROM staging_cleaned s\n",
    "        JOIN match_df m ON s.match_id = m.match_id\n",
    "        GROUP BY s.match_id\n",
    "    )\n",
    "    GROUP BY player_count\n",
    "    ORDER BY player_count\n",
    "\"\"\"\n",
    "\n",
    "query2 = \"\"\"\n",
    "    SELECT COUNT(DISTINCT match_id) from match_df;\n",
    "\"\"\"\n",
    "result = raw_con.execute(query).fetchdf()\n",
    "print(result)\n",
    "result2 = raw_con.execute(query2).fetchdf()\n",
    "print(result2)"
   ]
  },
  {
   "cell_type": "code",
   "execution_count": null,
   "id": "aa01a9ff",
   "metadata": {},
   "outputs": [],
   "source": [
    "    \"\"\"Formats raw match_info to be combined with raw_match_players\n",
    "    Combined data will live in deadlock.db.player_matches_history table\n",
    "    \"\"\"\n",
    "raw_con.execute(f\"\"\"\n",
    "        CREATE OR REPLACE TABLE high_quality_matches AS\n",
    "        SELECT match_id, start_time, game_mode, match_mode, won\n",
    "        FROM 'match_info_history'\n",
    "        WHERE (average_badge_team0 + average_badge_team1) / 2 > 75\n",
    "    \"\"\")\n",
    "    result = raw_con.execute(\"Select count(*) from high_quality_matches\").fetchone()[0]\n",
    "    print(f\"High quality matches count: {result}\")"
   ]
  },
  {
   "cell_type": "code",
   "execution_count": null,
   "id": "7d3aeb89",
   "metadata": {},
   "outputs": [],
   "source": [
    "raw_con.execute(\"CREATE OR REPLACE TABLE matches_for_training AS SELECT * FROM match_df\")\n"
   ]
  },
  {
   "cell_type": "code",
   "execution_count": 111,
   "id": "00621480",
   "metadata": {},
   "outputs": [
    {
     "name": "stdout",
     "output_type": "stream",
     "text": [
      "   match_id  account_id  player_slot  team  kills  deaths  assists  net_worth  \\\n",
      "0   1020422   130174860            9     1      9       8        9      25619   \n",
      "\n",
      "   hero_id  last_hits  denies  ability_points  party  assigned_lane  \\\n",
      "0        4        143       1              21      1              6   \n",
      "\n",
      "   player_level  abandon_match_time_s ability_stats  \\\n",
      "0            21                     0            {}   \n",
      "\n",
      "                                     stats_type_stat    won  \n",
      "0  [309.0158, 0.0, 2307.56, 22.0, 7.5, 0.0, 7.5, ...  False  \n"
     ]
    }
   ],
   "source": [
    "result = raw_con.execute(\"select * from staging_cleaned limit 1\").fetchdf()\n",
    "print(result)"
   ]
  },
  {
   "cell_type": "code",
   "execution_count": null,
   "id": "f98cc71e",
   "metadata": {},
   "outputs": [],
   "source": [
    "result = con.execute(\"SELECT count(distinct account_id) FROM player_matches\").fetchdf()\n",
    "print(result)"
   ]
  },
  {
   "cell_type": "code",
   "execution_count": 112,
   "id": "7d14c57e",
   "metadata": {},
   "outputs": [
    {
     "name": "stdout",
     "output_type": "stream",
     "text": [
      "[(104172,)]\n"
     ]
    }
   ],
   "source": [
    "result = raw_con.execute(\"\"\"SELECT COUNT(*)\n",
    "FROM staging_cleaned\n",
    "WHERE match_id IN (\n",
    "    SELECT DISTINCT match_id FROM matches_for_training\n",
    ");\"\"\").fetchall()\n",
    "print(result)"
   ]
  },
  {
   "cell_type": "code",
   "execution_count": 113,
   "id": "685e6ddf",
   "metadata": {},
   "outputs": [
    {
     "data": {
      "text/plain": [
       "[(6449,)]"
      ]
     },
     "execution_count": 113,
     "metadata": {},
     "output_type": "execute_result"
    }
   ],
   "source": [
    "raw_con.execute(\"\"\"SELECT COUNT(*) AS non_unique_match_ids\n",
    "FROM (\n",
    "    SELECT s.account_id\n",
    "    FROM staging_cleaned s\n",
    "    JOIN matches_for_training m ON s.match_id = m.match_id\n",
    "    GROUP BY s.account_id\n",
    "    HAVING COUNT(*) > 1\n",
    ");\"\"\").fetchall()"
   ]
  },
  {
   "cell_type": "markdown",
   "id": "e49f34c0",
   "metadata": {},
   "source": [
    "*** Creates / replaces filtered_player_matches, completing with data from staging_cleared, where match_id matches matches_for_Training\n",
    "\n",
    "This should create match history for all players in matches_for_training"
   ]
  },
  {
   "cell_type": "code",
   "execution_count": 114,
   "id": "633242b4",
   "metadata": {},
   "outputs": [
    {
     "data": {
      "text/plain": [
       "<duckdb.duckdb.DuckDBPyConnection at 0x1f0fe2a63b0>"
      ]
     },
     "execution_count": 114,
     "metadata": {},
     "output_type": "execute_result"
    }
   ],
   "source": [
    "raw_con.execute(\"\"\"\n",
    "    CREATE OR REPLACE TABLE filtered_player_matches AS\n",
    "SELECT\n",
    "    s.account_id,\n",
    "    s.match_id,\n",
    "    s.hero_id,\n",
    "    s.team,\n",
    "    s.kills,\n",
    "    s.deaths,\n",
    "    s.assists,\n",
    "    s.denies,\n",
    "    s.net_worth,\n",
    "    s.won\n",
    "FROM staging_cleaned s\n",
    "WHERE s.account_id IN (\n",
    "    SELECT DISTINCT account_id \n",
    "    FROM dup_player_matches\n",
    ");\n",
    "                \"\"\")"
   ]
  },
  {
   "cell_type": "code",
   "execution_count": 115,
   "id": "1422cc3a",
   "metadata": {},
   "outputs": [
    {
     "name": "stdout",
     "output_type": "stream",
     "text": [
      "[(3356348,)]\n",
      "[(8316105,)]\n"
     ]
    }
   ],
   "source": [
    "query1 = raw_con.execute(\"SELECT count(distinct match_id) from filtered_player_matches\").fetchall()\n",
    "query2 = raw_con.execute(\"SELECT count(*) from filtered_player_matches\").fetchall()\n",
    "print(query1)\n",
    "print(query2)"
   ]
  },
  {
   "cell_type": "markdown",
   "id": "21a585b2",
   "metadata": {},
   "source": [
    "Not sure the below is doing what I think it should. ignore output or review critically"
   ]
  },
  {
   "cell_type": "code",
   "execution_count": 116,
   "id": "b92ac18d",
   "metadata": {},
   "outputs": [
    {
     "data": {
      "text/plain": [
       "[(1, 1556710),\n",
       " (2, 753457),\n",
       " (3, 372722),\n",
       " (4, 213209),\n",
       " (5, 134999),\n",
       " (6, 93199),\n",
       " (7, 67647),\n",
       " (8, 50630),\n",
       " (9, 38669),\n",
       " (10, 29404),\n",
       " (11, 21764),\n",
       " (12, 23938)]"
      ]
     },
     "execution_count": 116,
     "metadata": {},
     "output_type": "execute_result"
    }
   ],
   "source": [
    "raw_con.execute(\"\"\"\n",
    "    SELECT \n",
    "    player_count,\n",
    "    COUNT(*) AS match_count\n",
    "    FROM (\n",
    "    SELECT \n",
    "        match_id,\n",
    "        COUNT(account_id) AS player_count\n",
    "    FROM filtered_player_matches\n",
    "    GROUP BY match_id\n",
    ")\n",
    "GROUP BY player_count\n",
    "ORDER BY player_count;                \n",
    "                \"\"\").fetchall()"
   ]
  },
  {
   "cell_type": "code",
   "execution_count": 119,
   "id": "50beb5d5",
   "metadata": {},
   "outputs": [
    {
     "data": {
      "image/png": "[encoded data removed]",
      "text/plain": [
       "<Figure size 1000x600 with 1 Axes>"
      ]
     },
     "metadata": {},
     "output_type": "display_data"
    }
   ],
   "source": [
    "import duckdb\n",
    "import matplotlib.pyplot as plt\n",
    "\n",
    "df = raw_con.execute(\"\"\"\n",
    "    SELECT \n",
    "        account_id,\n",
    "        COUNT(match_id) AS total_matches\n",
    "    FROM filtered_player_matches\n",
    "    GROUP BY account_id\n",
    "\"\"\").fetchdf()\n",
    "\n",
    "# Histogram for total matches\n",
    "plt.figure(figsize=(10, 6))\n",
    "plt.hist(df['total_matches'], bins=50, edgecolor='black')\n",
    "plt.title('Distribution of Total Matches per Account')\n",
    "plt.xlabel('Total Matches')\n",
    "plt.ylabel('Number of Players')\n",
    "plt.grid(True)\n",
    "plt.tight_layout()\n",
    "plt.show()"
   ]
  },
  {
   "cell_type": "code",
   "execution_count": 120,
   "id": "887c1fe6",
   "metadata": {},
   "outputs": [
    {
     "data": {
      "image/png": "[encoded data removed]",
      "text/plain": [
       "<Figure size 1000x500 with 1 Axes>"
      ]
     },
     "metadata": {},
     "output_type": "display_data"
    }
   ],
   "source": [
    "import numpy as np\n",
    "# Fetch total match counts per player\n",
    "df = raw_con.execute(\"\"\"\n",
    "    SELECT account_id, COUNT(*) AS total_matches\n",
    "    FROM filtered_player_matches\n",
    "    GROUP BY account_id\n",
    "\"\"\").fetchdf()\n",
    "\n",
    "# Calculate 95th percentile\n",
    "p95 = np.percentile(df[\"total_matches\"], 95)\n",
    "\n",
    "# Plot\n",
    "plt.figure(figsize=(10, 5))\n",
    "plt.hist(df[df[\"total_matches\"] <= p95][\"total_matches\"], bins=50)\n",
    "plt.title(\"Player Total Matches (≤95th percentile)\")\n",
    "plt.xlabel(\"Total Matches\")\n",
    "plt.ylabel(\"Number of Players\")\n",
    "plt.grid(True)\n",
    "plt.show()"
   ]
  },
  {
   "cell_type": "code",
   "execution_count": null,
   "id": "6724f5d0",
   "metadata": {},
   "outputs": [],
   "source": [
    "df = raw_con.execute(\"\"\"SELECT COUNT(*) \n",
    "FROM staging_cleaned s\n",
    "INNER JOIN matches_for_training m ON s.match_id = m.match_id;\"\"\").fetchdf()\n",
    "print(f\"{df.columns}\\n\\n {len(df)}\")"
   ]
  },
  {
   "cell_type": "markdown",
   "id": "addc4ee0",
   "metadata": {},
   "source": [
    "Duplicate main.player_matches into raw_data.dup_player_matches"
   ]
  },
  {
   "cell_type": "code",
   "execution_count": null,
   "id": "c6b89bb1",
   "metadata": {},
   "outputs": [],
   "source": [
    "df = con.execute(\"\"\"\n",
    "    select * from player_matches\"\"\").fetchdf()\n",
    "print(f\"{df.columns}\\n\\n {len(df)}\")\n",
    "raw_con.execute(\"\"\"\n",
    "    INSERT into dup_player_matches\n",
    "    SELECT * FROM df\n",
    "                \"\"\")"
   ]
  },
  {
   "cell_type": "code",
   "execution_count": null,
   "id": "179f72ce",
   "metadata": {},
   "outputs": [],
   "source": [
    "result = raw_con.execute(\"SELECT count(*) from dup_player_matches\").fetchdf()\n",
    "print(result)"
   ]
  },
  {
   "cell_type": "code",
   "execution_count": null,
   "id": "17654a95",
   "metadata": {},
   "outputs": [],
   "source": [
    "con.execute(\"\"\"\n",
    "    UPDATE player_matches\n",
    "    SET won = (\n",
    "        SELECT CASE \n",
    "            WHEN player_matches.team = m.winning_team THEN 1 \n",
    "            ELSE 0 \n",
    "            END\n",
    "        FROM matches m\n",
    "        WHERE player_matches.match_id = m.match_id\n",
    ");  \"\"\")"
   ]
  },
  {
   "cell_type": "code",
   "execution_count": null,
   "id": "84cfc82b",
   "metadata": {},
   "outputs": [],
   "source": [
    "oldest_fpm_match_start = raw_con.execute(\"\"\"\n",
    "    SELECT hqm.start_time\n",
    "    FROM match_info_history hqm\n",
    "    WHERE hqm.match_id = (\n",
    "        SELECT MIN(match_id)\n",
    "        FROM filtered_player_matches\n",
    "    )\n",
    "\"\"\").fetchone()\n",
    "\n",
    "oldest_high_quality = raw_con.execute(\"\"\"\n",
    "    SELECT MIN(start_time) FROM high_quality_matches\n",
    "\"\"\").fetchone()\n",
    "\n",
    "print(\"Start time from lowest match_id:\", oldest_fpm_match_start[0])\n",
    "print(\"Oldest start time overall:\", oldest_high_quality[0])"
   ]
  },
  {
   "cell_type": "code",
   "execution_count": null,
   "id": "02087905",
   "metadata": {},
   "outputs": [],
   "source": [
    "result = raw_con.execute(\"SELECT count(*) from dup_player_matches limit 1\").fetchdf()\n",
    "print(result)"
   ]
  },
  {
   "cell_type": "markdown",
   "id": "b4f39aaa",
   "metadata": {},
   "source": [
    "Count and display layout of multiple tables"
   ]
  },
  {
   "cell_type": "code",
   "execution_count": 121,
   "id": "c3775532",
   "metadata": {},
   "outputs": [
    {
     "name": "stdout",
     "output_type": "stream",
     "text": [
      "matches_for_training:    count_star()\n",
      "0         13407\n",
      "matches_for_training:    match_id          start_time game_mode match_mode  duration_s winning_team\n",
      "0  35533788 2025-05-08 21:04:04    Normal   Unranked        2094        Team1\n",
      "\n",
      "\n",
      "dup_player_matches:    count_star()\n",
      "0        160884\n",
      "dup_player_matches:    account_id  match_id  hero_id   team  kills  deaths  assists  denies  \\\n",
      "0  1699896029  35533788       19  Team0      6       9        7       1   \n",
      "\n",
      "   net_worth    won  \n",
      "0      34332  False  \n",
      "\n",
      "\n",
      "filtered_player_matches:    count_star()\n",
      "0       8316105\n",
      "filtered_player_matches:    account_id  match_id  hero_id  team  kills  deaths  assists  denies  \\\n",
      "0   974492784  18795645       31     1     14       6       14      28   \n",
      "\n",
      "   net_worth   won  \n",
      "0      46259  True  \n",
      "\n",
      "\n",
      "high_quality_matches:    count_star()\n",
      "0        639719\n",
      "high_quality_matches:    match_id                start_time  game_mode  match_mode\n",
      "0  28724382 2024-11-22 16:40:20-05:00          1           1\n",
      "\n",
      "staging_cleaned:    count_star()\n",
      "0      85901845\n",
      "staging_cleaned:    match_id  account_id  player_slot  team  kills  deaths  assists  net_worth  \\\n",
      "0   1020422   130174860            9     1      9       8        9      25619   \n",
      "\n",
      "   hero_id  last_hits  denies  ability_points  party  assigned_lane  \\\n",
      "0        4        143       1              21      1              6   \n",
      "\n",
      "   player_level  abandon_match_time_s ability_stats  \\\n",
      "0            21                     0            {}   \n",
      "\n",
      "                                     stats_type_stat    won  \n",
      "0  [309.0158, 0.0, 2307.56, 22.0, 7.5, 0.0, 7.5, ...  False  \n"
     ]
    }
   ],
   "source": [
    "result = raw_con.execute(\"SELECT COUNT(*) FROM matches_for_training\").fetchdf()\n",
    "print(f\"matches_for_training: {result}\")\n",
    "result = raw_con.execute(\"SELECT * FROM matches_for_training LIMIT 1\").fetchdf()\n",
    "print(f\"matches_for_training: {result}\")\n",
    "\n",
    "result = raw_con.execute(\"SELECT COUNT(*) FROM dup_player_matches\").fetchdf()\n",
    "print(f\"\\n\\ndup_player_matches: {result}\")\n",
    "result = raw_con.execute(\"SELECT * FROM dup_player_matches LIMIT 1\").fetchdf()\n",
    "print(f\"dup_player_matches: {result}\")\n",
    "\n",
    "result = raw_con.execute(\"SELECT COUNT(*) FROM filtered_player_matches\").fetchdf()\n",
    "print(f\"\\n\\nfiltered_player_matches: {result}\")\n",
    "result = raw_con.execute(\"SELECT * FROM filtered_player_matches LIMIT 1\").fetchdf()\n",
    "print(f\"filtered_player_matches: {result}\")\n",
    "\n",
    "result = raw_con.execute(\"SELECT COUNT(*) FROM high_quality_matches\").fetchdf()\n",
    "print(f\"\\n\\nhigh_quality_matches: {result}\")\n",
    "result = raw_con.execute(\"SELECT * FROM high_quality_matches LIMIT 1\").fetchdf()\n",
    "print(f\"high_quality_matches: {result}\")\n",
    "\n",
    "result = raw_con.execute(\"SELECT COUNT(*) FROM staging_cleaned\").fetchdf()\n",
    "print(f\"\\nstaging_cleaned: {result}\")\n",
    "result = raw_con.execute(\"SELECT * FROM staging_cleaned LIMIT 1\").fetchdf()\n",
    "print(f\"staging_cleaned: {result}\")"
   ]
  },
  {
   "cell_type": "markdown",
   "id": "2994ee5d",
   "metadata": {},
   "source": [
    "# What distinct account_ids are in filtered_player_matches but not in dup_player_matches\n",
    "Expectation should be zero."
   ]
  },
  {
   "cell_type": "code",
   "execution_count": 125,
   "id": "f310e1ac",
   "metadata": {},
   "outputs": [
    {
     "name": "stdout",
     "output_type": "stream",
     "text": [
      "Unique account_ids not in dup_player_matches: 0\n"
     ]
    }
   ],
   "source": [
    "unique_count = raw_con.execute(\"\"\"\n",
    "    SELECT COUNT(DISTINCT fpm.account_id) AS unique_count\n",
    "    FROM filtered_player_matches fpm\n",
    "    WHERE fpm.account_id NOT IN (\n",
    "        SELECT account_id FROM dup_player_matches\n",
    "    )\n",
    "\"\"\").fetchone()\n",
    "\n",
    "print(\"Unique account_ids not in dup_player_matches:\", unique_count[0])"
   ]
  },
  {
   "cell_type": "markdown",
   "id": "220cfc60",
   "metadata": {},
   "source": [
    "## How many matches of history for each player in filtered_player_matches\n",
    "count occurance of each account_id in filtered_player_matches\n"
   ]
  },
  {
   "cell_type": "code",
   "execution_count": 124,
   "id": "683238ef",
   "metadata": {},
   "outputs": [
    {
     "data": {
      "image/png": "[encoded data removed]",
      "text/plain": [
       "<Figure size 1200x600 with 1 Axes>"
      ]
     },
     "metadata": {},
     "output_type": "display_data"
    }
   ],
   "source": [
    "import matplotlib.pyplot as plt\n",
    "import pandas as pd\n",
    "\n",
    "# Fetch data\n",
    "result = raw_con.execute(\"\"\"\n",
    "    SELECT account_id, COUNT(*) AS match_count\n",
    "    FROM filtered_player_matches\n",
    "    GROUP BY account_id\n",
    "\"\"\").fetchdf()\n",
    "\n",
    "# Bin match counts into buckets of 50\n",
    "bins = range(0, result['match_count'].max() + 101, 100)\n",
    "result['match_bucket'] = pd.cut(result['match_count'], bins=bins, right=False)\n",
    "\n",
    "# Count players in each bucket\n",
    "bucket_counts = result['match_bucket'].value_counts().sort_index()\n",
    "\n",
    "# Plot\n",
    "plt.figure(figsize=(12, 6))\n",
    "plt.bar(bucket_counts.index.astype(str), bucket_counts.values)\n",
    "plt.xticks(rotation=45, ha='right')\n",
    "plt.xlabel('Match Count Bucket')\n",
    "plt.ylabel('Number of Players')\n",
    "plt.title('Player Distribution by Match Count Buckets (50 per bucket)')\n",
    "plt.tight_layout()\n",
    "plt.show()"
   ]
  },
  {
   "cell_type": "markdown",
   "id": "045821bf",
   "metadata": {},
   "source": [
    "# Combine data and insert into main.player_matches_history\n"
   ]
  },
  {
   "cell_type": "code",
   "execution_count": 128,
   "id": "0dcd908a",
   "metadata": {},
   "outputs": [
    {
     "name": "stdout",
     "output_type": "stream",
     "text": [
      "Index(['account_id', 'match_id', 'hero_id', 'team', 'kills', 'deaths',\n",
      "       'assists', 'denies', 'net_worth', 'won'],\n",
      "      dtype='object')\n",
      "\n",
      " 8316105\n"
     ]
    },
    {
     "data": {
      "application/vnd.jupyter.widget-view+json": {
       "model_id": "48a970740e0b482093c0f1b89009b3f1",
       "version_major": 2,
       "version_minor": 0
      },
      "text/plain": [
       "FloatProgress(value=0.0, layout=Layout(width='auto'), style=ProgressStyle(bar_color='black'))"
      ]
     },
     "metadata": {},
     "output_type": "display_data"
    },
    {
     "data": {
      "text/plain": [
       "<duckdb.duckdb.DuckDBPyConnection at 0x1f070de4b30>"
      ]
     },
     "execution_count": 128,
     "metadata": {},
     "output_type": "execute_result"
    }
   ],
   "source": [
    "df = raw_con.execute(\"\"\"\n",
    "    select * from filtered_player_matches\"\"\").fetchdf()\n",
    "print(f\"{df.columns}\\n\\n {len(df)}\")\n",
    "con.execute(\"\"\"\n",
    "    INSERT into player_matches_history\n",
    "    SELECT * FROM df\n",
    "                \"\"\")"
   ]
  },
  {
   "cell_type": "code",
   "execution_count": 130,
   "id": "d7fac778",
   "metadata": {},
   "outputs": [
    {
     "name": "stdout",
     "output_type": "stream",
     "text": [
      "   count_star()\n",
      "0       8316105\n"
     ]
    }
   ],
   "source": [
    "df = con.execute(\"\"\"\n",
    "    select count(*) from player_matches_history LIMIT 1\"\"\").fetchdf()\n",
    "print(df)"
   ]
  },
  {
   "cell_type": "code",
   "execution_count": 142,
   "id": "4dd929af",
   "metadata": {},
   "outputs": [
    {
     "name": "stdout",
     "output_type": "stream",
     "text": [
      "   count_star()\n",
      "0           117\n"
     ]
    }
   ],
   "source": [
    "df = con.execute(\"\"\"\n",
    "    select count(*) from player_matches_history WHERE account_id =1699896029\"\"\").fetchdf()\n",
    "print(df)"
   ]
  }
 ],
 "metadata": {
  "kernelspec": {
   "display_name": ".venv",
   "language": "python",
   "name": "python3"
  },
  "language_info": {
   "codemirror_mode": {
    "name": "ipython",
    "version": 3
   },
   "file_extension": ".py",
   "mimetype": "text/x-python",
   "name": "python",
   "nbconvert_exporter": "python",
   "pygments_lexer": "ipython3",
   "version": "3.12.6"
  }
 },
 "nbformat": 4,
 "nbformat_minor": 5
}
