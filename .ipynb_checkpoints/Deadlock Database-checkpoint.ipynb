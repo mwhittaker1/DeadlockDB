{
 "cells": [
  {
   "cell_type": "code",
   "execution_count": null,
   "id": "c0c37ac7-bce8-4d49-9e42-e3f1ed2c9f86",
   "metadata": {},
   "outputs": [],
   "source": [
    "import sqlite3\n",
    "\n",
    "#create or connect to database file\n",
    "conn = sqlite3.connect(\"Deadlock.db\")\n",
    "cursor = conn.cursor()\n",
    "\n",
    "#test\n",
    "cursor.execute(\"SELECT sqlite_version();\")\n",
    "print(\"SQLite Version:\", cursor.fetchone()[0])"
   ]
  },
  {
   "cell_type": "code",
   "execution_count": null,
   "id": "5e5a0eb9-7ba2-4be6-9bee-89f52ce46b07",
   "metadata": {},
   "outputs": [],
   "source": [
    "cursor.execute(\"\"\"\n",
    "CREATE TABLE hero_traits (\n",
    "    hero_id INTEGER,\n",
    "    trait_id INTEGER,\n",
    "    trait_value INTEGER CHECK(trait_value BETWEEN 0 AND 100),\n",
    "    PRIMARY KEY (hero_id, trait_id),\n",
    "    FOREIGN KEY (hero_id) REFERENCES heroes(hero_id),\n",
    "    FOREIGN KEY (trait_id) REFERENCES traits(trait_id)\n",
    "    );\n",
    "\"\"\")\n",
    "conn.commit()"
   ]
  },
  {
   "cell_type": "code",
   "execution_count": null,
   "id": "70552152-1db8-436d-9cde-5420340e8095",
   "metadata": {},
   "outputs": [],
   "source": [
    "# Insert heroes\n",
    "cursor.executemany(\"\"\"\n",
    "INSERT INTO heroes (name, role) VALUES (?, ?)\n",
    "\"\"\", [\n",
    "    (\"Volt\", \"Assassin\"),\n",
    "    (\"Gravitas\", \"Tank\"),\n",
    "    (\"Echo\", \"Support\")\n",
    "])\n",
    "\n",
    "# Insert traits\n",
    "cursor.executemany(\"\"\"\n",
    "INSERT INTO traits (trait_name, description) VALUES (?, ?)\n",
    "\"\"\", [\n",
    "    (\"Mobility\", \"Speed and movement ability\"),\n",
    "    (\"Sustain\", \"Healing or damage resistance\"),\n",
    "    (\"Burst\", \"Short-term high damage\"),\n",
    "    (\"Crowd Control\", \"Disables, slows, etc.\"),\n",
    "    (\"Range\", \"Attack or ability distance\")\n",
    "])\n",
    "\n",
    "# Insert trait values\n",
    "cursor.executemany(\"\"\"\n",
    "INSERT INTO hero_traits (hero_id, trait_id, trait_value) VALUES (?, ?, ?)\n",
    "\"\"\", [\n",
    "    (1, 1, 90),  # Volt - Mobility\n",
    "    (1, 3, 85),  # Volt - Burst\n",
    "    (2, 2, 80),  # Gravitas - Sustain\n",
    "    (2, 4, 70),  # Gravitas - Crowd Control\n",
    "    (3, 2, 75),  # Echo - Sustain\n",
    "    (3, 5, 60)   # Echo - Range\n",
    "])\n",
    "\n",
    "conn.commit()\n"
   ]
  },
  {
   "cell_type": "code",
   "execution_count": null,
   "id": "c7ef95d4-bb08-4f0e-855c-36b6bf20880a",
   "metadata": {},
   "outputs": [],
   "source": [
    "for row in cursor.execute(\"\"\"\n",
    "SELECT h.name, t.trait_name, ht.trait_value\n",
    "FROM hero_traits ht\n",
    "JOIN heroes h ON ht.hero_id = h.hero_id\n",
    "JOIN traits t ON ht.trait_id = t.trait_id\n",
    "ORDER BY h.name;\n",
    "\"\"\"):\n",
    "    print(row)"
   ]
  },
  {
   "cell_type": "code",
   "execution_count": null,
   "id": "ae4213f9-a873-4ebe-95c3-1ae731af0836",
   "metadata": {},
   "outputs": [],
   "source": [
    "cursor.execute(\"\"\"\n",
    "CREATE TABLE patch_notes(\n",
    "    patch_id INTEGER PRIMARY KEY AUTOINCREMENT,\n",
    "    patch_date TEXT,\n",
    "    description TEXT\n",
    ");\n",
    "\"\"\")\n",
    "    "
   ]
  },
  {
   "cell_type": "code",
   "execution_count": null,
   "id": "521b7ce1-50f1-4d29-8825-aed368ad8822",
   "metadata": {},
   "outputs": [],
   "source": [
    "cursor.execute(\"\"\"\n",
    "CREATE TABLE patch_changes(\n",
    "    patch_id INTEGER,\n",
    "    hero_id INTEGER,\n",
    "    trait_id INTEGER,\n",
    "    change_type TEXT CHECK (change_type IN ('buff', 'nerf', 'rework')),\n",
    "    magintude INTEGER\n",
    "    raw_note_text TEXT,\n",
    "    FOREIGN KEY (patch_id) REFERENCES patch_notes(patch_id),\n",
    "    FOREIGN KEY (hero_id) REFERENCES heroes(hero_id),\n",
    "    FOREIGN KEY (trait_id) REFERENCES traits(trait_id)\n",
    ");\n",
    "\"\"\")"
   ]
  },
  {
   "cell_type": "code",
   "execution_count": null,
   "id": "979db587-0345-41f6-970a-27b1519c654e",
   "metadata": {},
   "outputs": [],
   "source": [
    "conn.commit()"
   ]
  },
  {
   "cell_type": "code",
   "execution_count": null,
   "id": "f48b726f-6afc-4eae-9a9c-ccb7ce713bd1",
   "metadata": {},
   "outputs": [],
   "source": [
    "cursor.execute(\"\"\"\n",
    "ALTER TABLE patch_changes RENAME COLUMN magintude TO magnitude\n",
    "\"\"\")"
   ]
  },
  {
   "cell_type": "code",
   "execution_count": null,
   "id": "98f876d2-3519-4250-87f4-5b60a5ef1d7b",
   "metadata": {},
   "outputs": [],
   "source": [
    "conn.commit()"
   ]
  },
  {
   "cell_type": "code",
   "execution_count": null,
   "id": "c68f768c-6a37-4ee1-b4e1-53cf31316032",
   "metadata": {},
   "outputs": [],
   "source": [
    "# Insert trait changes from that patch\n",
    "cursor.executemany(\"\"\"\n",
    "INSERT INTO patch_changes (patch_id, hero_id, trait_id, change_type, magnitude, raw_note_text)\n",
    "VALUES (?, ?, ?, ?, ?, ?)\n",
    "\"\"\", [\n",
    "    (1, 1, 3, 'nerf', -10, 'Volt’s burst damage reduced by 10%'),\n",
    "    (1, 3, 2, 'buff', 15, 'Echo’s sustain healing increased by 15%')\n",
    "])\n"
   ]
  },
  {
   "cell_type": "code",
   "execution_count": null,
   "id": "7acf5fda-be73-446a-b83d-9e5e794125ba",
   "metadata": {},
   "outputs": [],
   "source": [
    "for row in cursor.execute(\"SELECT * FROM patch_changes\"):\n",
    "    print(row)"
   ]
  },
  {
   "cell_type": "code",
   "execution_count": null,
   "id": "4e016ee4-705c-41a1-a37a-d7adb24f26dd",
   "metadata": {},
   "outputs": [],
   "source": [
    "import pandas as pd\n",
    "\n",
    "df = pd.read_sql_query(\"SELECT * FROM patch_changes\", conn)\n",
    "df"
   ]
  },
  {
   "cell_type": "code",
   "execution_count": null,
   "id": "c423e4cf-bab8-4a96-a361-e8cea13d40e2",
   "metadata": {},
   "outputs": [],
   "source": [
    "cursor.execute(\"\"\"\n",
    "ALTER TABLE patch_changes ADD COLUMN raw_note_text TEXT\n",
    "\"\"\")\n",
    "conn.commit()"
   ]
  },
  {
   "cell_type": "code",
   "execution_count": null,
   "id": "b80149f9-7631-4895-8be9-b061ee04a6f8",
   "metadata": {},
   "outputs": [],
   "source": []
  },
  {
   "cell_type": "code",
   "execution_count": null,
   "id": "5a4811ae-d6ba-488f-80eb-74552fb8e56b",
   "metadata": {},
   "outputs": [],
   "source": [
    "# Insert a sample patch\n",
    "cursor.execute(\"\"\"\n",
    "INSERT INTO patch_notes (patch_date, description)\n",
    "VALUES ('2025-03-01', 'Patch 1.1: Balance updates for Volt and Echo')\n",
    "\"\"\")\n",
    "\n",
    "# Insert trait changes from that patch\n",
    "cursor.executemany(\"\"\"\n",
    "INSERT INTO patch_changes (patch_id, hero_id, trait_id, change_type, magnitude, raw_note_text)\n",
    "VALUES (?, ?, ?, ?, ?, ?)\n",
    "\"\"\", [\n",
    "    (1, 1, 3, 'nerf', -10, 'Volt’s burst damage reduced by 10%'),\n",
    "    (1, 3, 2, 'buff', 15, 'Echo’s sustain healing increased by 15%')\n",
    "])\n",
    "\n",
    "conn.commit()"
   ]
  },
  {
   "cell_type": "code",
   "execution_count": null,
   "id": "2c40c009-9f7a-4629-a172-70ecd4dc65cd",
   "metadata": {},
   "outputs": [],
   "source": [
    "cursor.execute(\"\"\"\n",
    "SELECT h.name, t.trait_name, pc.change_type, pc.magnitude, pc.raw_note_text\n",
    "FROM patch_changes pc\n",
    "JOIN heroes h ON pc.hero_id = h.hero_id\n",
    "JOIN traits t ON pc.trait_id = t.trait_id\n",
    "WHERE pc.patch_id = 1\n",
    "\"\"\")\n",
    "\n",
    "for row in cursor.fetchall():\n",
    "    print(row)"
   ]
  },
  {
   "cell_type": "code",
   "execution_count": null,
   "id": "86825190-17e1-4ce2-acaa-12d68d8a1a14",
   "metadata": {},
   "outputs": [],
   "source": [
    "cursor.execute(\"\"\"\n",
    "SELECT patch_id, patch_date, description\n",
    "FROM patch_notes\n",
    "ORDER BY patch_date DESC\n",
    "\"\"\")\n",
    "\n",
    "for row in cursor.fetchall():\n",
    "    print(row)"
   ]
  },
  {
   "cell_type": "code",
   "execution_count": null,
   "id": "be3438c0-949c-438f-9ee2-008a8ba24fd6",
   "metadata": {},
   "outputs": [],
   "source": [
    "cursor.execute(\"SELECT * FROM patch_notes\")\n",
    "for row in cursor.fetchall():\n",
    "    print(row)"
   ]
  },
  {
   "cell_type": "code",
   "execution_count": null,
   "id": "c84b0fa0-ef98-4ffb-a4e5-4f8edd0773c4",
   "metadata": {},
   "outputs": [],
   "source": [
    "cursor.execute(\"SELECT patch_id FROM patch_notes\")\n",
    "for row in cursor.fetchall():\n",
    "    print(row)"
   ]
  },
  {
   "cell_type": "code",
   "execution_count": null,
   "id": "5dacab81-a791-484f-807e-01f30fa56c49",
   "metadata": {},
   "outputs": [],
   "source": [
    "cursor.execute(\"DELETE FROM patch_notes WHERE patch_id = 2\")\n",
    "cursor.execute(\"DELETE FROM patch_changes WHERE patch_id = 2\")\n",
    "cursor.execute(\"DELETE FROM patch_notes WHERE patch_id = 1\")\n",
    "cursor.execute(\"DELETE FROM patch_changes WHERE patch_id = 1\")\n",
    "\n",
    "conn.commit()"
   ]
  },
  {
   "cell_type": "code",
   "execution_count": null,
   "id": "9628a838-47ef-49e9-b58b-a79996c18695",
   "metadata": {},
   "outputs": [],
   "source": [
    "import pandas as pd\n",
    "df = pd.read_parquet(\"/Users/MWOfficeDesktop/OneDrive/Documents/Code/Deadlock Database/heroes.parquet\")\n",
    "\n",
    "# Display all columns\n",
    "pd.set_option('display.max_columns', None)\n",
    "df.info()"
   ]
  },
  {
   "cell_type": "code",
   "execution_count": null,
   "id": "c669f0af-0c05-4cab-9006-910aba0fbc02",
   "metadata": {},
   "outputs": [],
   "source": [
    "pip install pyarrow"
   ]
  },
  {
   "cell_type": "code",
   "execution_count": 1,
   "id": "7c5d83b1-bca4-4687-bd0d-7c49034364cb",
   "metadata": {},
   "outputs": [
    {
     "name": "stdout",
     "output_type": "stream",
     "text": [
      "SQLite Version: 3.45.3\n"
     ]
    }
   ],
   "source": [
    "import sqlite3\n",
    "\n",
    "#create or connect to database file\n",
    "conn = sqlite3.connect(\"Deadlock.db\")\n",
    "cursor = conn.cursor()\n",
    "\n",
    "#test\n",
    "cursor.execute(\"SELECT sqlite_version();\")\n",
    "print(\"SQLite Version:\", cursor.fetchone()[0])"
   ]
  },
  {
   "cell_type": "code",
   "execution_count": 2,
   "id": "75003f74-30d7-4c8c-9b85-80e77fc1dc56",
   "metadata": {},
   "outputs": [
    {
     "data": {
      "text/plain": [
       "<sqlite3.Cursor at 0x2380ba07640>"
      ]
     },
     "execution_count": 2,
     "metadata": {},
     "output_type": "execute_result"
    }
   ],
   "source": [
    "cursor.execute(\"\"\"\n",
    "CREATE TABLE matches(\n",
    "    start_time INTEGER,\n",
    "    match_id INTEGER,\n",
    "    game_mode INTEGER,\n",
    "    PRIMARY KEY (match_id)\n",
    "    \n",
    ");\n",
    "\"\"\")"
   ]
  },
  {
   "cell_type": "code",
   "execution_count": 4,
   "id": "4c2cc6a7-fee2-4580-aea1-db89c987210b",
   "metadata": {},
   "outputs": [
    {
     "data": {
      "text/plain": [
       "<sqlite3.Cursor at 0x2380ba07640>"
      ]
     },
     "execution_count": 4,
     "metadata": {},
     "output_type": "execute_result"
    }
   ],
   "source": [
    "cursor.execute(\"\"\"\n",
    "CREATE TABLE match_player(\n",
    "    match_id INTEGER,\n",
    "    account_id INTEGER,\n",
    "    hero_id INTEGER,\n",
    "    PRIMARY KEY (match_id, account_id),\n",
    "    FOREIGN  KEY (account_id) REFERENCES account(account_id)\n",
    "    FOREIGN  KEY (hero_id) REFERENCES heroes(heroes_id)\n",
    "    \n",
    ");\n",
    "\"\"\")"
   ]
  },
  {
   "cell_type": "code",
   "execution_count": null,
   "id": "6a3cdfeb-debf-47fe-bfae-a5ca64190178",
   "metadata": {},
   "outputs": [],
   "source": []
  }
 ],
 "metadata": {
  "kernelspec": {
   "display_name": "Python 3 (ipykernel)",
   "language": "python",
   "name": "python3"
  },
  "language_info": {
   "codemirror_mode": {
    "name": "ipython",
    "version": 3
   },
   "file_extension": ".py",
   "mimetype": "text/x-python",
   "name": "python",
   "nbconvert_exporter": "python",
   "pygments_lexer": "ipython3",
   "version": "3.12.9"
  }
 },
 "nbformat": 4,
 "nbformat_minor": 5
}
