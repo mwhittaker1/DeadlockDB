{
 "cells": [
  {
   "cell_type": "markdown",
   "id": "2c72162d-04f4-4e82-b377-f2734f6ba50c",
   "metadata": {},
   "source": [
    "#Scratch for queries"
   ]
  },
  {
   "cell_type": "code",
   "execution_count": 2,
   "id": "fc59f12d-d9ca-45c8-9981-34ef353e1b60",
   "metadata": {},
   "outputs": [],
   "source": [
    "import sqlite3\n",
    "\n",
    "def run_query(query, db):\n",
    "    # Connect to the SQLite database\n",
    "    conn = sqlite3.connect(db)\n",
    "    cursor = conn.cursor()\n",
    "    \n",
    "    # Execute the query\n",
    "    cursor.execute(query)\n",
    "    \n",
    "    # Fetch all results (or just the column names, depending on the query)\n",
    "    result = cursor.fetchall()\n",
    "    \n",
    "    # Close the connection\n",
    "    conn.close()\n",
    "    \n",
    "    return result"
   ]
  },
  {
   "cell_type": "markdown",
   "id": "77eb20f9-53ae-4f94-bf94-9498a147625f",
   "metadata": {},
   "source": [
    "#setting to deadlock.db"
   ]
  },
  {
   "cell_type": "code",
   "execution_count": 3,
   "id": "48275fb4-6362-4c69-9627-e028f282619c",
   "metadata": {},
   "outputs": [],
   "source": [
    "db = \"deadlock.db\""
   ]
  },
  {
   "cell_type": "markdown",
   "id": "95ab8adc-6747-4159-bfde-1c778040d882",
   "metadata": {},
   "source": [
    "#queries"
   ]
  },
  {
   "cell_type": "code",
   "execution_count": 5,
   "id": "f2ce3bfc-a584-4350-836f-4acd55b68b16",
   "metadata": {},
   "outputs": [
    {
     "name": "stdout",
     "output_type": "stream",
     "text": [
      "[(1, 'Infernus'), (2, 'Seven'), (3, 'Vindicta'), (4, 'Lady Geist'), (6, 'Abrams'), (7, 'Wraith'), (8, 'McGinnis'), (10, 'Paradox'), (11, 'Dynamo'), (12, 'Kelvin'), (13, 'Haze'), (14, 'Holliday'), (15, 'Bebop'), (16, 'Calico'), (17, 'Grey Talon'), (18, 'Mo & Krill'), (19, 'Shiv'), (20, 'Ivy'), (21, 'Kali'), (25, 'Warden'), (27, 'Yamato'), (31, 'Lash'), (35, 'Viscous'), (38, 'Gunslinger'), (39, 'The Boss'), (47, 'Tokamak'), (48, 'Wrecker'), (49, 'Rutger'), (50, 'Pocket'), (51, 'Thumper'), (52, 'Mirage'), (53, 'Fathom'), (54, 'Cadence'), (56, 'Bomber'), (57, 'Shield Guy'), (58, 'Vyper'), (59, 'Vandal'), (60, 'Sinclair'), (61, 'Trapper'), (62, 'Raven')]\n"
     ]
    }
   ],
   "source": [
    "query = \"select * from heroes limit(5)\"\n",
    "data = run_query(query,db)\n",
    "print(data)"
   ]
  },
  {
   "cell_type": "code",
   "execution_count": null,
   "id": "888d8f0b-27a4-4cfb-8b5e-399faaaf176b",
   "metadata": {},
   "outputs": [],
   "source": []
  }
 ],
 "metadata": {
  "kernelspec": {
   "display_name": "Python 3 (ipykernel)",
   "language": "python",
   "name": "python3"
  },
  "language_info": {
   "codemirror_mode": {
    "name": "ipython",
    "version": 3
   },
   "file_extension": ".py",
   "mimetype": "text/x-python",
   "name": "python",
   "nbconvert_exporter": "python",
   "pygments_lexer": "ipython3",
   "version": "3.12.6"
  }
 },
 "nbformat": 4,
 "nbformat_minor": 5
}
