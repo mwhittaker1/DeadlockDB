{
 "cells": [
  {
   "cell_type": "code",
   "execution_count": 1,
   "id": "3ddb0c40",
   "metadata": {},
   "outputs": [
    {
     "ename": "NameError",
     "evalue": "name 'con' is not defined",
     "output_type": "error",
     "traceback": [
      "\u001b[31m---------------------------------------------------------------------------\u001b[39m",
      "\u001b[31mNameError\u001b[39m                                 Traceback (most recent call last)",
      "\u001b[36mCell\u001b[39m\u001b[36m \u001b[39m\u001b[32mIn[1]\u001b[39m\u001b[32m, line 1\u001b[39m\n\u001b[32m----> \u001b[39m\u001b[32m1\u001b[39m \u001b[43mcon\u001b[49m.close()\n",
      "\u001b[31mNameError\u001b[39m: name 'con' is not defined"
     ]
    }
   ],
   "source": [
    "con.close()"
   ]
  },
  {
   "cell_type": "code",
   "execution_count": 7,
   "id": "722e971f",
   "metadata": {},
   "outputs": [
    {
     "ename": "AttributeError",
     "evalue": "module 'ai_functions.model_queries' has no attribute 'fetch_training_data'",
     "output_type": "error",
     "traceback": [
      "\u001b[31m---------------------------------------------------------------------------\u001b[39m",
      "\u001b[31mAttributeError\u001b[39m                            Traceback (most recent call last)",
      "\u001b[36mCell\u001b[39m\u001b[36m \u001b[39m\u001b[32mIn[7]\u001b[39m\u001b[32m, line 13\u001b[39m\n\u001b[32m     10\u001b[39m con = duckdb.connect(\u001b[33m\"\u001b[39m\u001b[33mdata/deadlock.db\u001b[39m\u001b[33m\"\u001b[39m)\n\u001b[32m     12\u001b[39m \u001b[38;5;66;03m# Execute your SQL query to get the structured data\u001b[39;00m\n\u001b[32m---> \u001b[39m\u001b[32m13\u001b[39m df = \u001b[43mmq\u001b[49m\u001b[43m.\u001b[49m\u001b[43mfetch_training_data\u001b[49m(con)\n\u001b[32m     15\u001b[39m \u001b[38;5;28;01mif\u001b[39;00m df \u001b[38;5;129;01mis\u001b[39;00m \u001b[38;5;28;01mNone\u001b[39;00m \u001b[38;5;129;01mor\u001b[39;00m \u001b[38;5;28mlen\u001b[39m(df) == \u001b[32m0\u001b[39m:\n\u001b[32m     16\u001b[39m     \u001b[38;5;28mprint\u001b[39m(\u001b[33m\"\u001b[39m\u001b[33mFailed to retrieve training data\u001b[39m\u001b[33m\"\u001b[39m)\n",
      "\u001b[31mAttributeError\u001b[39m: module 'ai_functions.model_queries' has no attribute 'fetch_training_data'"
     ]
    }
   ],
   "source": [
    "import pandas as pd\n",
    "import duckdb\n",
    "from sklearn.model_selection import train_test_split\n",
    "from fastai.tabular.all import *\n",
    "import matplotlib.pyplot as plt\n",
    "import numpy as np\n",
    "from ai_functions import model_queries as mq\n",
    "\n",
    "# Connect to database\n",
    "con = duckdb.connect(\"data/deadlock.db\")\n",
    "\n",
    "# Execute your SQL query to get the structured data\n",
    "df = mq.fetch_training_data(con)\n",
    "\n",
    "if df is None or len(df) == 0:\n",
    "    print(\"Failed to retrieve training data\")\n",
    "    sys.exit()\n",
    "\n",
    "# Check the data\n",
    "print(f\"Dataset shape: {df.shape}\")\n",
    "print(f\"Sample of data:\\n{df.head()}\")\n",
    "\n",
    "#check balance of the target variable\n",
    "print(f\"Target distribution:\\n{df['team0_won'].value_counts(normalize=True)}\")"
   ]
  },
  {
   "cell_type": "code",
   "execution_count": null,
   "id": "d65b3e94",
   "metadata": {},
   "outputs": [],
   "source": [
    "# Remove non-feature columns\n",
    "feature_df = training_data.drop(['match_id', 'start_time', 'winning_team'], axis=1)\n",
    "\n",
    "# Define target variable\n",
    "target = 'team0_won'\n",
    "\n",
    "# Split into features and target\n",
    "X = feature_df.drop(target, axis=1)\n",
    "y = feature_df[target]\n",
    "\n",
    "# Split into training and validation sets\n",
    "X_train, X_valid, y_train, y_valid = train_test_split(X, y, test_size=0.2, random_state=42)\n",
    "\n",
    "# Create FastAI TabularPandas object\n",
    "procs = [Categorify, FillMissing, Normalize]\n",
    "splits = (list(range(len(X_train))), list(range(len(X_train), len(X_train) + len(X_valid))))\n",
    "to = TabularPandas(pd.concat([X_train, X_valid]), procs, \n",
    "                   cat_names=[], \n",
    "                   cont_names=list(X_train.columns),\n",
    "                   y_names=target, \n",
    "                   splits=splits)\n",
    "\n",
    "# Create DataLoaders\n",
    "dls = to.dataloaders(bs=64)"
   ]
  },
  {
   "cell_type": "code",
   "execution_count": null,
   "id": "d751cf44",
   "metadata": {},
   "outputs": [],
   "source": [
    "# Create and train the random forest model\n",
    "learn = tabular_learner(dls, metrics=accuracy)\n",
    "\n",
    "# Find optimal learning rate\n",
    "learn.lr_find()\n",
    "\n",
    "# Train the model\n",
    "learn.fit_one_cycle(5, 1e-2)\n",
    "\n",
    "# Save the model\n",
    "learn.export('deadlock_match_prediction_model.pkl')"
   ]
  },
  {
   "cell_type": "code",
   "execution_count": null,
   "id": "a78e5a92",
   "metadata": {},
   "outputs": [],
   "source": [
    "# Evaluate model performance\n",
    "interp = ClassificationInterpretation.from_learner(learn)\n",
    "\n",
    "# Confusion matrix\n",
    "interp.plot_confusion_matrix()\n",
    "\n",
    "# Feature importance\n",
    "importance = interp.feature_importance()\n",
    "plt.figure(figsize=(12, 8))\n",
    "plt.barh(X.columns[importance[1]], importance[0])\n",
    "plt.xlabel('Importance')\n",
    "plt.title('Feature Importance')\n",
    "plt.tight_layout()\n",
    "plt.show()\n",
    "\n",
    "# Top losses (most incorrect predictions)\n",
    "interp.plot_top_losses(10)"
   ]
  }
 ],
 "metadata": {
  "kernelspec": {
   "display_name": ".venv",
   "language": "python",
   "name": "python3"
  },
  "language_info": {
   "codemirror_mode": {
    "name": "ipython",
    "version": 3
   },
   "file_extension": ".py",
   "mimetype": "text/x-python",
   "name": "python",
   "nbconvert_exporter": "python",
   "pygments_lexer": "ipython3",
   "version": "3.12.6"
  }
 },
 "nbformat": 4,
 "nbformat_minor": 5
}
