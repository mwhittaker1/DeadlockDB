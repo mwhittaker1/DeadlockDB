{
 "cells": [
  {
   "cell_type": "code",
   "execution_count": null,
   "id": "357f7d01-7634-41f9-a928-cb8f1f2c753e",
   "metadata": {},
   "outputs": [],
   "source": [
    "import requests\n",
    "import pandas as pd\n",
    "import numpy as np\n",
    "\n",
    "\n",
    "#Fetches data and returns DF\n",
    "def fetch_match_data():\n",
    "    \n",
    "    site = \"https://api.deadlock-api.com\"\n",
    "    endpoint = \"/v1/matches/active\"\n",
    "    url = site+endpoint\n",
    "\n",
    "    response = requests.get(url)\n",
    "    \n",
    "    # Check if the request was successful\n",
    "    if response.status_code == 200:\n",
    "        active_matches_data = response.json()  # Converts the JSON response to a Python dictionary\n",
    "        print(\"Found matches!\")\n",
    "    else:\n",
    "        print(f\"Failed to retrieve data: {response.status_code}\")\n",
    "    \n",
    "    df = pd.DataFrame(active_matches_data)\n",
    "    return df\n",
    "\n",
    "active_matches_df = fetch_match_data()\n",
    "print(active_matches_df)"
   ]
  },
  {
   "cell_type": "code",
   "execution_count": null,
   "id": "30919031-4fcd-4dce-9f05-c9bd8e038a22",
   "metadata": {},
   "outputs": [],
   "source": []
  }
 ],
 "metadata": {
  "kernelspec": {
   "display_name": "Python 3 (ipykernel)",
   "language": "python",
   "name": "python3"
  },
  "language_info": {
   "codemirror_mode": {
    "name": "ipython",
    "version": 3
   },
   "file_extension": ".py",
   "mimetype": "text/x-python",
   "name": "python",
   "nbconvert_exporter": "python",
   "pygments_lexer": "ipython3",
   "version": "3.12.9"
  }
 },
 "nbformat": 4,
 "nbformat_minor": 5
}
