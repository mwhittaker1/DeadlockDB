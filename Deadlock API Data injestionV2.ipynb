{
 "cells": [
  {
   "cell_type": "markdown",
   "id": "a1b70bd4-025e-4ec0-a387-e31e77de687f",
   "metadata": {},
   "source": [
    "#Collect API Data from Deadlock-API Project, filter, format, and insert into Deadlock.db\n",
    "\n",
    "#Requirements import from .txt\n",
    "#Fetch data based on URL (site+endpoint)\n",
    "##Fetch hero data\n",
    "#Filter fetched data based on filters\n",
    "##Filter hero data\n",
    "#prints or formatting"
   ]
  },
  {
   "cell_type": "markdown",
   "id": "ff830c01-4d0b-44f4-9f03-6478003fac4e",
   "metadata": {},
   "source": [
    "#Requirements import from .txt"
   ]
  },
  {
   "cell_type": "code",
   "execution_count": 1,
   "id": "704f5f7d-99ec-48c1-a1a5-89160a8eade3",
   "metadata": {
    "scrolled": true
   },
   "outputs": [
    {
     "name": "stdout",
     "output_type": "stream",
     "text": [
      "Requirement already satisfied: anyio==4.9.0 in c:\\users\\mwofficedesktop\\onedrive\\documents\\code\\deadlock database\\.venv\\lib\\site-packages (from -r requirements.txt (line 1)) (4.9.0)\n",
      "Requirement already satisfied: argon2-cffi==23.1.0 in c:\\users\\mwofficedesktop\\onedrive\\documents\\code\\deadlock database\\.venv\\lib\\site-packages (from -r requirements.txt (line 2)) (23.1.0)\n",
      "Requirement already satisfied: argon2-cffi-bindings==21.2.0 in c:\\users\\mwofficedesktop\\onedrive\\documents\\code\\deadlock database\\.venv\\lib\\site-packages (from -r requirements.txt (line 3)) (21.2.0)\n",
      "Requirement already satisfied: arrow==1.3.0 in c:\\users\\mwofficedesktop\\onedrive\\documents\\code\\deadlock database\\.venv\\lib\\site-packages (from -r requirements.txt (line 4)) (1.3.0)\n",
      "Requirement already satisfied: asttokens==3.0.0 in c:\\users\\mwofficedesktop\\onedrive\\documents\\code\\deadlock database\\.venv\\lib\\site-packages (from -r requirements.txt (line 5)) (3.0.0)\n",
      "Requirement already satisfied: async-lru==2.0.5 in c:\\users\\mwofficedesktop\\onedrive\\documents\\code\\deadlock database\\.venv\\lib\\site-packages (from -r requirements.txt (line 6)) (2.0.5)\n",
      "Requirement already satisfied: attrs==25.3.0 in c:\\users\\mwofficedesktop\\onedrive\\documents\\code\\deadlock database\\.venv\\lib\\site-packages (from -r requirements.txt (line 7)) (25.3.0)\n",
      "Requirement already satisfied: babel==2.17.0 in c:\\users\\mwofficedesktop\\onedrive\\documents\\code\\deadlock database\\.venv\\lib\\site-packages (from -r requirements.txt (line 8)) (2.17.0)\n",
      "Requirement already satisfied: beautifulsoup4==4.13.3 in c:\\users\\mwofficedesktop\\onedrive\\documents\\code\\deadlock database\\.venv\\lib\\site-packages (from -r requirements.txt (line 9)) (4.13.3)\n",
      "Requirement already satisfied: bleach==6.2.0 in c:\\users\\mwofficedesktop\\onedrive\\documents\\code\\deadlock database\\.venv\\lib\\site-packages (from -r requirements.txt (line 10)) (6.2.0)\n",
      "Requirement already satisfied: certifi==2025.1.31 in c:\\users\\mwofficedesktop\\onedrive\\documents\\code\\deadlock database\\.venv\\lib\\site-packages (from -r requirements.txt (line 11)) (2025.1.31)\n",
      "Requirement already satisfied: cffi==1.17.1 in c:\\users\\mwofficedesktop\\onedrive\\documents\\code\\deadlock database\\.venv\\lib\\site-packages (from -r requirements.txt (line 12)) (1.17.1)\n",
      "Requirement already satisfied: charset-normalizer==3.4.1 in c:\\users\\mwofficedesktop\\onedrive\\documents\\code\\deadlock database\\.venv\\lib\\site-packages (from -r requirements.txt (line 13)) (3.4.1)\n",
      "Requirement already satisfied: colorama==0.4.6 in c:\\users\\mwofficedesktop\\onedrive\\documents\\code\\deadlock database\\.venv\\lib\\site-packages (from -r requirements.txt (line 14)) (0.4.6)\n",
      "Requirement already satisfied: comm==0.2.2 in c:\\users\\mwofficedesktop\\onedrive\\documents\\code\\deadlock database\\.venv\\lib\\site-packages (from -r requirements.txt (line 15)) (0.2.2)\n",
      "Requirement already satisfied: debugpy==1.8.13 in c:\\users\\mwofficedesktop\\onedrive\\documents\\code\\deadlock database\\.venv\\lib\\site-packages (from -r requirements.txt (line 16)) (1.8.13)\n",
      "Requirement already satisfied: decorator==5.2.1 in c:\\users\\mwofficedesktop\\onedrive\\documents\\code\\deadlock database\\.venv\\lib\\site-packages (from -r requirements.txt (line 17)) (5.2.1)\n",
      "Requirement already satisfied: defusedxml==0.7.1 in c:\\users\\mwofficedesktop\\onedrive\\documents\\code\\deadlock database\\.venv\\lib\\site-packages (from -r requirements.txt (line 18)) (0.7.1)\n",
      "Requirement already satisfied: executing==2.2.0 in c:\\users\\mwofficedesktop\\onedrive\\documents\\code\\deadlock database\\.venv\\lib\\site-packages (from -r requirements.txt (line 19)) (2.2.0)\n",
      "Requirement already satisfied: fastjsonschema==2.21.1 in c:\\users\\mwofficedesktop\\onedrive\\documents\\code\\deadlock database\\.venv\\lib\\site-packages (from -r requirements.txt (line 20)) (2.21.1)\n",
      "Requirement already satisfied: fqdn==1.5.1 in c:\\users\\mwofficedesktop\\onedrive\\documents\\code\\deadlock database\\.venv\\lib\\site-packages (from -r requirements.txt (line 21)) (1.5.1)\n",
      "Requirement already satisfied: h11==0.14.0 in c:\\users\\mwofficedesktop\\onedrive\\documents\\code\\deadlock database\\.venv\\lib\\site-packages (from -r requirements.txt (line 22)) (0.14.0)\n",
      "Requirement already satisfied: httpcore==1.0.7 in c:\\users\\mwofficedesktop\\onedrive\\documents\\code\\deadlock database\\.venv\\lib\\site-packages (from -r requirements.txt (line 23)) (1.0.7)\n",
      "Requirement already satisfied: httpx==0.28.1 in c:\\users\\mwofficedesktop\\onedrive\\documents\\code\\deadlock database\\.venv\\lib\\site-packages (from -r requirements.txt (line 24)) (0.28.1)\n",
      "Requirement already satisfied: idna==3.10 in c:\\users\\mwofficedesktop\\onedrive\\documents\\code\\deadlock database\\.venv\\lib\\site-packages (from -r requirements.txt (line 25)) (3.10)\n",
      "Requirement already satisfied: ipykernel==6.29.5 in c:\\users\\mwofficedesktop\\onedrive\\documents\\code\\deadlock database\\.venv\\lib\\site-packages (from -r requirements.txt (line 26)) (6.29.5)\n",
      "Requirement already satisfied: ipython==9.0.2 in c:\\users\\mwofficedesktop\\onedrive\\documents\\code\\deadlock database\\.venv\\lib\\site-packages (from -r requirements.txt (line 27)) (9.0.2)\n",
      "Requirement already satisfied: ipython_pygments_lexers==1.1.1 in c:\\users\\mwofficedesktop\\onedrive\\documents\\code\\deadlock database\\.venv\\lib\\site-packages (from -r requirements.txt (line 28)) (1.1.1)\n",
      "Requirement already satisfied: isoduration==20.11.0 in c:\\users\\mwofficedesktop\\onedrive\\documents\\code\\deadlock database\\.venv\\lib\\site-packages (from -r requirements.txt (line 29)) (20.11.0)\n",
      "Requirement already satisfied: jedi==0.19.2 in c:\\users\\mwofficedesktop\\onedrive\\documents\\code\\deadlock database\\.venv\\lib\\site-packages (from -r requirements.txt (line 30)) (0.19.2)\n",
      "Requirement already satisfied: Jinja2==3.1.6 in c:\\users\\mwofficedesktop\\onedrive\\documents\\code\\deadlock database\\.venv\\lib\\site-packages (from -r requirements.txt (line 31)) (3.1.6)\n",
      "Requirement already satisfied: json5==0.10.0 in c:\\users\\mwofficedesktop\\onedrive\\documents\\code\\deadlock database\\.venv\\lib\\site-packages (from -r requirements.txt (line 32)) (0.10.0)\n",
      "Requirement already satisfied: jsonpointer==3.0.0 in c:\\users\\mwofficedesktop\\onedrive\\documents\\code\\deadlock database\\.venv\\lib\\site-packages (from -r requirements.txt (line 33)) (3.0.0)\n",
      "Requirement already satisfied: jsonschema==4.23.0 in c:\\users\\mwofficedesktop\\onedrive\\documents\\code\\deadlock database\\.venv\\lib\\site-packages (from -r requirements.txt (line 34)) (4.23.0)\n",
      "Requirement already satisfied: jsonschema-specifications==2024.10.1 in c:\\users\\mwofficedesktop\\onedrive\\documents\\code\\deadlock database\\.venv\\lib\\site-packages (from -r requirements.txt (line 35)) (2024.10.1)\n",
      "Requirement already satisfied: jupyter-events==0.12.0 in c:\\users\\mwofficedesktop\\onedrive\\documents\\code\\deadlock database\\.venv\\lib\\site-packages (from -r requirements.txt (line 36)) (0.12.0)\n",
      "Requirement already satisfied: jupyter-lsp==2.2.5 in c:\\users\\mwofficedesktop\\onedrive\\documents\\code\\deadlock database\\.venv\\lib\\site-packages (from -r requirements.txt (line 37)) (2.2.5)\n",
      "Requirement already satisfied: jupyter_client==8.6.3 in c:\\users\\mwofficedesktop\\onedrive\\documents\\code\\deadlock database\\.venv\\lib\\site-packages (from -r requirements.txt (line 38)) (8.6.3)\n",
      "Requirement already satisfied: jupyter_core==5.7.2 in c:\\users\\mwofficedesktop\\onedrive\\documents\\code\\deadlock database\\.venv\\lib\\site-packages (from -r requirements.txt (line 39)) (5.7.2)\n",
      "Requirement already satisfied: jupyter_server==2.15.0 in c:\\users\\mwofficedesktop\\onedrive\\documents\\code\\deadlock database\\.venv\\lib\\site-packages (from -r requirements.txt (line 40)) (2.15.0)\n",
      "Requirement already satisfied: jupyter_server_terminals==0.5.3 in c:\\users\\mwofficedesktop\\onedrive\\documents\\code\\deadlock database\\.venv\\lib\\site-packages (from -r requirements.txt (line 41)) (0.5.3)\n",
      "Requirement already satisfied: jupyterlab==4.3.6 in c:\\users\\mwofficedesktop\\onedrive\\documents\\code\\deadlock database\\.venv\\lib\\site-packages (from -r requirements.txt (line 42)) (4.3.6)\n",
      "Requirement already satisfied: jupyterlab_pygments==0.3.0 in c:\\users\\mwofficedesktop\\onedrive\\documents\\code\\deadlock database\\.venv\\lib\\site-packages (from -r requirements.txt (line 43)) (0.3.0)\n",
      "Requirement already satisfied: jupyterlab_server==2.27.3 in c:\\users\\mwofficedesktop\\onedrive\\documents\\code\\deadlock database\\.venv\\lib\\site-packages (from -r requirements.txt (line 44)) (2.27.3)\n",
      "Requirement already satisfied: MarkupSafe==3.0.2 in c:\\users\\mwofficedesktop\\onedrive\\documents\\code\\deadlock database\\.venv\\lib\\site-packages (from -r requirements.txt (line 45)) (3.0.2)\n",
      "Requirement already satisfied: matplotlib-inline==0.1.7 in c:\\users\\mwofficedesktop\\onedrive\\documents\\code\\deadlock database\\.venv\\lib\\site-packages (from -r requirements.txt (line 46)) (0.1.7)\n",
      "Requirement already satisfied: mistune==3.1.3 in c:\\users\\mwofficedesktop\\onedrive\\documents\\code\\deadlock database\\.venv\\lib\\site-packages (from -r requirements.txt (line 47)) (3.1.3)\n",
      "Requirement already satisfied: nbclient==0.10.2 in c:\\users\\mwofficedesktop\\onedrive\\documents\\code\\deadlock database\\.venv\\lib\\site-packages (from -r requirements.txt (line 48)) (0.10.2)\n",
      "Requirement already satisfied: nbconvert==7.16.6 in c:\\users\\mwofficedesktop\\onedrive\\documents\\code\\deadlock database\\.venv\\lib\\site-packages (from -r requirements.txt (line 49)) (7.16.6)\n",
      "Requirement already satisfied: nbformat==5.10.4 in c:\\users\\mwofficedesktop\\onedrive\\documents\\code\\deadlock database\\.venv\\lib\\site-packages (from -r requirements.txt (line 50)) (5.10.4)\n",
      "Requirement already satisfied: nest-asyncio==1.6.0 in c:\\users\\mwofficedesktop\\onedrive\\documents\\code\\deadlock database\\.venv\\lib\\site-packages (from -r requirements.txt (line 51)) (1.6.0)\n",
      "Requirement already satisfied: notebook==7.3.3 in c:\\users\\mwofficedesktop\\onedrive\\documents\\code\\deadlock database\\.venv\\lib\\site-packages (from -r requirements.txt (line 52)) (7.3.3)\n",
      "Requirement already satisfied: notebook_shim==0.2.4 in c:\\users\\mwofficedesktop\\onedrive\\documents\\code\\deadlock database\\.venv\\lib\\site-packages (from -r requirements.txt (line 53)) (0.2.4)\n",
      "Requirement already satisfied: numpy==2.2.4 in c:\\users\\mwofficedesktop\\onedrive\\documents\\code\\deadlock database\\.venv\\lib\\site-packages (from -r requirements.txt (line 54)) (2.2.4)\n",
      "Requirement already satisfied: overrides==7.7.0 in c:\\users\\mwofficedesktop\\onedrive\\documents\\code\\deadlock database\\.venv\\lib\\site-packages (from -r requirements.txt (line 55)) (7.7.0)\n",
      "Requirement already satisfied: packaging==24.2 in c:\\users\\mwofficedesktop\\onedrive\\documents\\code\\deadlock database\\.venv\\lib\\site-packages (from -r requirements.txt (line 56)) (24.2)\n",
      "Requirement already satisfied: pandas==2.2.3 in c:\\users\\mwofficedesktop\\onedrive\\documents\\code\\deadlock database\\.venv\\lib\\site-packages (from -r requirements.txt (line 57)) (2.2.3)\n",
      "Requirement already satisfied: pandocfilters==1.5.1 in c:\\users\\mwofficedesktop\\onedrive\\documents\\code\\deadlock database\\.venv\\lib\\site-packages (from -r requirements.txt (line 58)) (1.5.1)\n",
      "Requirement already satisfied: parso==0.8.4 in c:\\users\\mwofficedesktop\\onedrive\\documents\\code\\deadlock database\\.venv\\lib\\site-packages (from -r requirements.txt (line 59)) (0.8.4)\n",
      "Requirement already satisfied: platformdirs==4.3.7 in c:\\users\\mwofficedesktop\\onedrive\\documents\\code\\deadlock database\\.venv\\lib\\site-packages (from -r requirements.txt (line 60)) (4.3.7)\n",
      "Requirement already satisfied: prometheus_client==0.21.1 in c:\\users\\mwofficedesktop\\onedrive\\documents\\code\\deadlock database\\.venv\\lib\\site-packages (from -r requirements.txt (line 61)) (0.21.1)\n",
      "Requirement already satisfied: prompt_toolkit==3.0.50 in c:\\users\\mwofficedesktop\\onedrive\\documents\\code\\deadlock database\\.venv\\lib\\site-packages (from -r requirements.txt (line 62)) (3.0.50)\n",
      "Requirement already satisfied: psutil==7.0.0 in c:\\users\\mwofficedesktop\\onedrive\\documents\\code\\deadlock database\\.venv\\lib\\site-packages (from -r requirements.txt (line 63)) (7.0.0)\n",
      "Requirement already satisfied: pure_eval==0.2.3 in c:\\users\\mwofficedesktop\\onedrive\\documents\\code\\deadlock database\\.venv\\lib\\site-packages (from -r requirements.txt (line 64)) (0.2.3)\n",
      "Requirement already satisfied: pycparser==2.22 in c:\\users\\mwofficedesktop\\onedrive\\documents\\code\\deadlock database\\.venv\\lib\\site-packages (from -r requirements.txt (line 65)) (2.22)\n",
      "Requirement already satisfied: Pygments==2.19.1 in c:\\users\\mwofficedesktop\\onedrive\\documents\\code\\deadlock database\\.venv\\lib\\site-packages (from -r requirements.txt (line 66)) (2.19.1)\n",
      "Requirement already satisfied: python-dateutil==2.9.0.post0 in c:\\users\\mwofficedesktop\\onedrive\\documents\\code\\deadlock database\\.venv\\lib\\site-packages (from -r requirements.txt (line 67)) (2.9.0.post0)\n",
      "Requirement already satisfied: python-json-logger==3.3.0 in c:\\users\\mwofficedesktop\\onedrive\\documents\\code\\deadlock database\\.venv\\lib\\site-packages (from -r requirements.txt (line 68)) (3.3.0)\n",
      "Requirement already satisfied: pytz==2025.2 in c:\\users\\mwofficedesktop\\onedrive\\documents\\code\\deadlock database\\.venv\\lib\\site-packages (from -r requirements.txt (line 69)) (2025.2)\n",
      "Requirement already satisfied: pywin32==310 in c:\\users\\mwofficedesktop\\onedrive\\documents\\code\\deadlock database\\.venv\\lib\\site-packages (from -r requirements.txt (line 70)) (310)\n",
      "Requirement already satisfied: pywinpty==2.0.15 in c:\\users\\mwofficedesktop\\onedrive\\documents\\code\\deadlock database\\.venv\\lib\\site-packages (from -r requirements.txt (line 71)) (2.0.15)\n",
      "Requirement already satisfied: PyYAML==6.0.2 in c:\\users\\mwofficedesktop\\onedrive\\documents\\code\\deadlock database\\.venv\\lib\\site-packages (from -r requirements.txt (line 72)) (6.0.2)\n",
      "Requirement already satisfied: pyzmq==26.3.0 in c:\\users\\mwofficedesktop\\onedrive\\documents\\code\\deadlock database\\.venv\\lib\\site-packages (from -r requirements.txt (line 73)) (26.3.0)\n",
      "Requirement already satisfied: referencing==0.36.2 in c:\\users\\mwofficedesktop\\onedrive\\documents\\code\\deadlock database\\.venv\\lib\\site-packages (from -r requirements.txt (line 74)) (0.36.2)\n",
      "Requirement already satisfied: requests==2.32.3 in c:\\users\\mwofficedesktop\\onedrive\\documents\\code\\deadlock database\\.venv\\lib\\site-packages (from -r requirements.txt (line 75)) (2.32.3)\n",
      "Requirement already satisfied: rfc3339-validator==0.1.4 in c:\\users\\mwofficedesktop\\onedrive\\documents\\code\\deadlock database\\.venv\\lib\\site-packages (from -r requirements.txt (line 76)) (0.1.4)\n",
      "Requirement already satisfied: rfc3986-validator==0.1.1 in c:\\users\\mwofficedesktop\\onedrive\\documents\\code\\deadlock database\\.venv\\lib\\site-packages (from -r requirements.txt (line 77)) (0.1.1)\n",
      "Requirement already satisfied: rpds-py==0.24.0 in c:\\users\\mwofficedesktop\\onedrive\\documents\\code\\deadlock database\\.venv\\lib\\site-packages (from -r requirements.txt (line 78)) (0.24.0)\n",
      "Requirement already satisfied: Send2Trash==1.8.3 in c:\\users\\mwofficedesktop\\onedrive\\documents\\code\\deadlock database\\.venv\\lib\\site-packages (from -r requirements.txt (line 79)) (1.8.3)\n",
      "Requirement already satisfied: setuptools==78.1.0 in c:\\users\\mwofficedesktop\\onedrive\\documents\\code\\deadlock database\\.venv\\lib\\site-packages (from -r requirements.txt (line 80)) (78.1.0)\n",
      "Requirement already satisfied: six==1.17.0 in c:\\users\\mwofficedesktop\\onedrive\\documents\\code\\deadlock database\\.venv\\lib\\site-packages (from -r requirements.txt (line 81)) (1.17.0)\n",
      "Requirement already satisfied: sniffio==1.3.1 in c:\\users\\mwofficedesktop\\onedrive\\documents\\code\\deadlock database\\.venv\\lib\\site-packages (from -r requirements.txt (line 82)) (1.3.1)\n",
      "Requirement already satisfied: soupsieve==2.6 in c:\\users\\mwofficedesktop\\onedrive\\documents\\code\\deadlock database\\.venv\\lib\\site-packages (from -r requirements.txt (line 83)) (2.6)\n",
      "Requirement already satisfied: stack-data==0.6.3 in c:\\users\\mwofficedesktop\\onedrive\\documents\\code\\deadlock database\\.venv\\lib\\site-packages (from -r requirements.txt (line 84)) (0.6.3)\n",
      "Requirement already satisfied: terminado==0.18.1 in c:\\users\\mwofficedesktop\\onedrive\\documents\\code\\deadlock database\\.venv\\lib\\site-packages (from -r requirements.txt (line 85)) (0.18.1)\n",
      "Requirement already satisfied: tinycss2==1.4.0 in c:\\users\\mwofficedesktop\\onedrive\\documents\\code\\deadlock database\\.venv\\lib\\site-packages (from -r requirements.txt (line 86)) (1.4.0)\n",
      "Requirement already satisfied: tornado==6.4.2 in c:\\users\\mwofficedesktop\\onedrive\\documents\\code\\deadlock database\\.venv\\lib\\site-packages (from -r requirements.txt (line 87)) (6.4.2)\n",
      "Requirement already satisfied: traitlets==5.14.3 in c:\\users\\mwofficedesktop\\onedrive\\documents\\code\\deadlock database\\.venv\\lib\\site-packages (from -r requirements.txt (line 88)) (5.14.3)\n",
      "Requirement already satisfied: types-python-dateutil==2.9.0.20241206 in c:\\users\\mwofficedesktop\\onedrive\\documents\\code\\deadlock database\\.venv\\lib\\site-packages (from -r requirements.txt (line 89)) (2.9.0.20241206)\n",
      "Requirement already satisfied: typing_extensions==4.13.0 in c:\\users\\mwofficedesktop\\onedrive\\documents\\code\\deadlock database\\.venv\\lib\\site-packages (from -r requirements.txt (line 90)) (4.13.0)\n",
      "Requirement already satisfied: tzdata==2025.2 in c:\\users\\mwofficedesktop\\onedrive\\documents\\code\\deadlock database\\.venv\\lib\\site-packages (from -r requirements.txt (line 91)) (2025.2)\n",
      "Requirement already satisfied: uri-template==1.3.0 in c:\\users\\mwofficedesktop\\onedrive\\documents\\code\\deadlock database\\.venv\\lib\\site-packages (from -r requirements.txt (line 92)) (1.3.0)\n",
      "Requirement already satisfied: urllib3==2.3.0 in c:\\users\\mwofficedesktop\\onedrive\\documents\\code\\deadlock database\\.venv\\lib\\site-packages (from -r requirements.txt (line 93)) (2.3.0)\n",
      "Requirement already satisfied: wcwidth==0.2.13 in c:\\users\\mwofficedesktop\\onedrive\\documents\\code\\deadlock database\\.venv\\lib\\site-packages (from -r requirements.txt (line 94)) (0.2.13)\n",
      "Requirement already satisfied: webcolors==24.11.1 in c:\\users\\mwofficedesktop\\onedrive\\documents\\code\\deadlock database\\.venv\\lib\\site-packages (from -r requirements.txt (line 95)) (24.11.1)\n",
      "Requirement already satisfied: webencodings==0.5.1 in c:\\users\\mwofficedesktop\\onedrive\\documents\\code\\deadlock database\\.venv\\lib\\site-packages (from -r requirements.txt (line 96)) (0.5.1)\n",
      "Requirement already satisfied: websocket-client==1.8.0 in c:\\users\\mwofficedesktop\\onedrive\\documents\\code\\deadlock database\\.venv\\lib\\site-packages (from -r requirements.txt (line 97)) (1.8.0)\n"
     ]
    }
   ],
   "source": [
    "!pip install -r requirements.txt"
   ]
  },
  {
   "cell_type": "code",
   "execution_count": 2,
   "id": "3ffc971d-7e15-488c-98b1-cb70a8becad6",
   "metadata": {},
   "outputs": [],
   "source": [
    "import requests\n",
    "import pandas as pd\n",
    "import numpy as np"
   ]
  },
  {
   "cell_type": "markdown",
   "id": "a1aa1b06-4e12-48ac-8025-a5e66357c3bf",
   "metadata": {},
   "source": [
    "#Fetch data based on URL (site+endpoint), outputs DF"
   ]
  },
  {
   "cell_type": "code",
   "execution_count": 6,
   "id": "592847d0-0074-4024-8241-ae6a57725ddf",
   "metadata": {},
   "outputs": [],
   "source": [
    "#Fetches data and returns DF\n",
    "def fetch_data(url):\n",
    "    response = requests.get(url)\n",
    "    \n",
    "    # Check if the request was successful\n",
    "    if response.status_code == 200:\n",
    "       heroes_data = response.json()  # Converts the JSON response to a Python dictionary\n",
    "    else:\n",
    "        print(f\"Failed to retrieve data: {response.status_code}\")\n",
    "    \n",
    "    df = pd.DataFrame([heroes_data])\n",
    "    return df"
   ]
  },
  {
   "cell_type": "markdown",
   "id": "86a7653b-7c47-43f7-be9b-fd31e7bbf63d",
   "metadata": {},
   "source": [
    "##Fetch Hero data"
   ]
  },
  {
   "cell_type": "code",
   "execution_count": 7,
   "id": "70861af2-50c2-4ef5-87af-3b79b4263008",
   "metadata": {
    "scrolled": true
   },
   "outputs": [],
   "source": [
    "\n",
    "site = \"https://assets.deadlock-api.com\"\n",
    "endpoint = \"/v2/heroes/by-name\"\n",
    "hero = \"/Lash\"\n",
    "url = site+endpoint+hero\n",
    "\n",
    "heroes_df = fetch_data(url)\n",
    "\n"
   ]
  },
  {
   "cell_type": "markdown",
   "id": "e9fd8ff0-53a3-42df-a000-10a9581810d4",
   "metadata": {},
   "source": [
    "##Filter Data"
   ]
  },
  {
   "cell_type": "code",
   "execution_count": 8,
   "id": "425aa43b-1cd3-451f-9905-7364dbbea59f",
   "metadata": {},
   "outputs": [],
   "source": [
    "def filter_data(filters, df):\n",
    "    filtered_data = []\n",
    "    for _, item in df.iterrows():\n",
    "        filtered_item = {key: item[key] for key in filters if key in item}\n",
    "        filtered_data.append(filtered_item)\n",
    "    \n",
    "    return pd.DataFrame(filtered_data)\n"
   ]
  },
  {
   "cell_type": "markdown",
   "id": "53735a8c-686c-41d9-b673-47c4fbcb01eb",
   "metadata": {},
   "source": [
    "##Format Data"
   ]
  },
  {
   "cell_type": "code",
   "execution_count": 9,
   "id": "ff91374c-bdec-46c2-b144-482752cc7e8d",
   "metadata": {},
   "outputs": [],
   "source": [
    "def format_data(df):\n",
    "    df.rename(columns={'id' : 'hero_id'}, inplace=True)\n",
    "    return df"
   ]
  },
  {
   "cell_type": "markdown",
   "id": "0ae1bb3b-84dc-4b3d-bdd9-1313f18ca2c6",
   "metadata": {},
   "source": [
    "##Filter and format Hero Data"
   ]
  },
  {
   "cell_type": "code",
   "execution_count": 10,
   "id": "5a408c70-92c8-49d4-97b9-b6a3d70d1a2c",
   "metadata": {},
   "outputs": [],
   "source": [
    "\n",
    "#columns to fetch\n",
    "#filters = [\"\"]\n",
    "\n",
    "#heroes_df = filter_data(filters, heroes_df)\n",
    "#heroes_df = format_data(heroes_df)"
   ]
  },
  {
   "cell_type": "markdown",
   "id": "75a17ffe-9612-45ab-a45a-694c57ae3f7a",
   "metadata": {},
   "source": [
    "###Dispaly column headers."
   ]
  },
  {
   "cell_type": "code",
   "execution_count": 11,
   "id": "dda8e78e-3cb0-4ed2-8d79-64042e07d658",
   "metadata": {
    "scrolled": true
   },
   "outputs": [
    {
     "data": {
      "text/html": [
       "<div>\n",
       "<style scoped>\n",
       "    .dataframe tbody tr th:only-of-type {\n",
       "        vertical-align: middle;\n",
       "    }\n",
       "\n",
       "    .dataframe tbody tr th {\n",
       "        vertical-align: top;\n",
       "    }\n",
       "\n",
       "    .dataframe thead th {\n",
       "        text-align: right;\n",
       "    }\n",
       "</style>\n",
       "<table border=\"1\" class=\"dataframe\">\n",
       "  <thead>\n",
       "    <tr style=\"text-align: right;\">\n",
       "      <th></th>\n",
       "      <th>id</th>\n",
       "      <th>class_name</th>\n",
       "      <th>name</th>\n",
       "      <th>description</th>\n",
       "      <th>recommended_upgrades</th>\n",
       "      <th>player_selectable</th>\n",
       "      <th>disabled</th>\n",
       "      <th>in_development</th>\n",
       "      <th>needs_testing</th>\n",
       "      <th>assigned_players_only</th>\n",
       "      <th>limited_testing</th>\n",
       "      <th>complexity</th>\n",
       "      <th>skin</th>\n",
       "      <th>images</th>\n",
       "      <th>items</th>\n",
       "      <th>starting_stats</th>\n",
       "      <th>item_slot_info</th>\n",
       "      <th>physics</th>\n",
       "      <th>colors</th>\n",
       "      <th>shop_stat_display</th>\n",
       "      <th>stats_display</th>\n",
       "      <th>hero_stats_ui</th>\n",
       "      <th>level_info</th>\n",
       "      <th>scaling_stats</th>\n",
       "      <th>purchase_bonuses</th>\n",
       "      <th>standard_level_up_upgrades</th>\n",
       "    </tr>\n",
       "  </thead>\n",
       "  <tbody>\n",
       "    <tr>\n",
       "      <th>0</th>\n",
       "      <td>31</td>\n",
       "      <td>hero_lash</td>\n",
       "      <td>Lash</td>\n",
       "      <td>{'lore': 'Jacob Lash is an asshole.', 'role': ...</td>\n",
       "      <td>[upgrade_headshot_booster, upgrade_hollow_poin...</td>\n",
       "      <td>True</td>\n",
       "      <td>False</td>\n",
       "      <td>False</td>\n",
       "      <td>False</td>\n",
       "      <td>False</td>\n",
       "      <td>False</td>\n",
       "      <td>3</td>\n",
       "      <td>0</td>\n",
       "      <td>{'icon_hero_card': 'https://assets.deadlock-ap...</td>\n",
       "      <td>{'ability_climb_rope': 'citadel_ability_climb_...</td>\n",
       "      <td>{'max_move_speed': {'value': 7.3, 'display_sta...</td>\n",
       "      <td>{'spirit': {'max_purchases_for_tier': [6, 6, 6...</td>\n",
       "      <td>{'collision_height': 80.0, 'collision_radius':...</td>\n",
       "      <td>{'glow_enemy': [255, 0, 0], 'glow_friendly': [...</td>\n",
       "      <td>{'spirit_stats_display': {'display_stats': ['E...</td>\n",
       "      <td>{'health_header_stats': ['EMaxHealth', 'EBaseH...</td>\n",
       "      <td>{'weapon_stat_display': 'EMeleeDamage_DEPRECAT...</td>\n",
       "      <td>{'1': {'bonus_currencies': ['EAbilityUnlocks']...</td>\n",
       "      <td>{}</td>\n",
       "      <td>{'spirit': [{'value_type': 'MODIFIER_VALUE_TEC...</td>\n",
       "      <td>{'MODIFIER_VALUE_BASE_BULLET_DAMAGE_FROM_LEVEL...</td>\n",
       "    </tr>\n",
       "  </tbody>\n",
       "</table>\n",
       "</div>"
      ],
      "text/plain": [
       "   id class_name  name                                        description  \\\n",
       "0  31  hero_lash  Lash  {'lore': 'Jacob Lash is an asshole.', 'role': ...   \n",
       "\n",
       "                                recommended_upgrades  player_selectable  \\\n",
       "0  [upgrade_headshot_booster, upgrade_hollow_poin...               True   \n",
       "\n",
       "   disabled  in_development  needs_testing  assigned_players_only  \\\n",
       "0     False           False          False                  False   \n",
       "\n",
       "   limited_testing  complexity  skin  \\\n",
       "0            False           3     0   \n",
       "\n",
       "                                              images  \\\n",
       "0  {'icon_hero_card': 'https://assets.deadlock-ap...   \n",
       "\n",
       "                                               items  \\\n",
       "0  {'ability_climb_rope': 'citadel_ability_climb_...   \n",
       "\n",
       "                                      starting_stats  \\\n",
       "0  {'max_move_speed': {'value': 7.3, 'display_sta...   \n",
       "\n",
       "                                      item_slot_info  \\\n",
       "0  {'spirit': {'max_purchases_for_tier': [6, 6, 6...   \n",
       "\n",
       "                                             physics  \\\n",
       "0  {'collision_height': 80.0, 'collision_radius':...   \n",
       "\n",
       "                                              colors  \\\n",
       "0  {'glow_enemy': [255, 0, 0], 'glow_friendly': [...   \n",
       "\n",
       "                                   shop_stat_display  \\\n",
       "0  {'spirit_stats_display': {'display_stats': ['E...   \n",
       "\n",
       "                                       stats_display  \\\n",
       "0  {'health_header_stats': ['EMaxHealth', 'EBaseH...   \n",
       "\n",
       "                                       hero_stats_ui  \\\n",
       "0  {'weapon_stat_display': 'EMeleeDamage_DEPRECAT...   \n",
       "\n",
       "                                          level_info scaling_stats  \\\n",
       "0  {'1': {'bonus_currencies': ['EAbilityUnlocks']...            {}   \n",
       "\n",
       "                                    purchase_bonuses  \\\n",
       "0  {'spirit': [{'value_type': 'MODIFIER_VALUE_TEC...   \n",
       "\n",
       "                          standard_level_up_upgrades  \n",
       "0  {'MODIFIER_VALUE_BASE_BULLET_DAMAGE_FROM_LEVEL...  "
      ]
     },
     "execution_count": 11,
     "metadata": {},
     "output_type": "execute_result"
    }
   ],
   "source": [
    "# Display all columns\n",
    "pd.set_option('display.max_columns', None)\n",
    "heroes_df.head() "
   ]
  },
  {
   "cell_type": "markdown",
   "id": "d9ba50ff-c66b-42ff-adf2-ad231a42768d",
   "metadata": {},
   "source": [
    "###print header"
   ]
  },
  {
   "cell_type": "code",
   "execution_count": 10,
   "id": "8d250873-2368-4260-bb14-68f5765dec40",
   "metadata": {
    "scrolled": true
   },
   "outputs": [],
   "source": [
    "#print(heroes_df.head(1))"
   ]
  },
  {
   "cell_type": "markdown",
   "id": "667eaf3b-d900-45cf-8226-e112f619786f",
   "metadata": {},
   "source": [
    "### Convert fitlered hero data to json"
   ]
  },
  {
   "cell_type": "code",
   "execution_count": 11,
   "id": "24dc93a1-553c-4308-9574-0af3dcfce104",
   "metadata": {},
   "outputs": [],
   "source": [
    "heroes_json = heroes_df.to_dict(orient='records')"
   ]
  },
  {
   "cell_type": "markdown",
   "id": "5f475d13-06bf-4e98-8f45-6e4f7ad29f70",
   "metadata": {},
   "source": [
    "### insert into database"
   ]
  },
  {
   "cell_type": "code",
   "execution_count": 14,
   "id": "ff56da0e-dfc5-4f74-b379-8acb98c057e3",
   "metadata": {},
   "outputs": [
    {
     "name": "stdout",
     "output_type": "stream",
     "text": [
      "Data was successfully loaded\n"
     ]
    }
   ],
   "source": [
    "import sqlite3\n",
    "\n",
    "db = \"Deadlock.db\"\n",
    "\n",
    "#create or connect to database file\n",
    "conn = sqlite3.connect(db)\n",
    "cursor = conn.cursor()\n",
    "\n",
    "def export_to_db(df,db):\n",
    "    \n",
    "    for hero in df:\n",
    "        cursor.execute(\"\"\"\n",
    "            INSERT INTO heroes (hero_id, name, player_selectable, disabled)\n",
    "            VALUES (?, ?, ?, ?)\n",
    "        \"\"\", (\n",
    "                 hero['hero_id'], \n",
    "            hero['name'],\n",
    "            hero['player_selectable'], \n",
    "            hero['disabled'], \n",
    "        ))\n",
    "    print(\"Data was successfully loaded\")\n",
    "\n",
    "export_to_db(heroes_json, db)"
   ]
  },
  {
   "cell_type": "code",
   "execution_count": 15,
   "id": "95f62718-f083-4005-bf27-e9730b0ecae3",
   "metadata": {},
   "outputs": [],
   "source": [
    "conn.commit()"
   ]
  },
  {
   "cell_type": "code",
   "execution_count": null,
   "id": "fde26eac-351f-4fd9-94be-909475973361",
   "metadata": {},
   "outputs": [],
   "source": []
  }
 ],
 "metadata": {
  "kernelspec": {
   "display_name": "Python 3 (ipykernel)",
   "language": "python",
   "name": "python3"
  },
  "language_info": {
   "codemirror_mode": {
    "name": "ipython",
    "version": 3
   },
   "file_extension": ".py",
   "mimetype": "text/x-python",
   "name": "python",
   "nbconvert_exporter": "python",
   "pygments_lexer": "ipython3",
   "version": "3.12.6"
  }
 },
 "nbformat": 4,
 "nbformat_minor": 5
}
