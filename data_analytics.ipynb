{
 "cells": [
  {
   "cell_type": "code",
   "execution_count": 1,
   "id": "4c99ec83",
   "metadata": {},
   "outputs": [],
   "source": [
    "import duckdb\n",
    "con = duckdb.connect(\"c:/Code/Local Code/deadlock_match_prediction/data/deadlock.db\")\n",
    "\n"
   ]
  },
  {
   "cell_type": "code",
   "execution_count": null,
   "id": "3c627a4d",
   "metadata": {},
   "outputs": [],
   "source": [
    "df = con.execute(\"SELECT * FROM player_matches LIMIT 10\").fetchdf()\n",
    "df"
   ]
  },
  {
   "cell_type": "code",
   "execution_count": 3,
   "id": "72e55b6b",
   "metadata": {},
   "outputs": [
    {
     "name": "stdout",
     "output_type": "stream",
     "text": [
      "      account_id  match_count\n",
      "0      483770846           34\n",
      "1      130174860           31\n",
      "2      204288555           22\n",
      "3      136898005           22\n",
      "4      356216207           21\n",
      "...          ...          ...\n",
      "1646   119080791            1\n",
      "1647    87286231            1\n",
      "1648  1234476567            1\n",
      "1649   119356613            1\n",
      "1650   294981454            1\n",
      "\n",
      "[1651 rows x 2 columns]\n"
     ]
    }
   ],
   "source": [
    "response = con.execute(\"\"\"SELECT \n",
    "    account_id,\n",
    "    COUNT(DISTINCT match_id) AS match_count\n",
    "FROM \n",
    "    player_matches\n",
    "GROUP BY \n",
    "    account_id\n",
    "ORDER BY \n",
    "    match_count DESC;\"\"\").fetchdf()\n",
    "print(response)"
   ]
  },
  {
   "cell_type": "code",
   "execution_count": 14,
   "id": "7b17b78d",
   "metadata": {},
   "outputs": [
    {
     "name": "stdout",
     "output_type": "stream",
     "text": [
      "    match_count  player_count\n",
      "0             1           880\n",
      "1             2           311\n",
      "2             3           129\n",
      "3             4            95\n",
      "4             5            60\n",
      "5             6            41\n",
      "6             7            31\n",
      "7             8            25\n",
      "8             9            16\n",
      "9            10            12\n",
      "10           11             9\n",
      "11           12            11\n",
      "12           13             5\n",
      "13           14             6\n",
      "14           15             4\n",
      "15           16             3\n",
      "16           17             3\n",
      "17           18             2\n",
      "18           19             1\n",
      "19           20             2\n",
      "20           21             1\n",
      "21           22             2\n",
      "22           31             1\n",
      "23           34             1\n"
     ]
    }
   ],
   "source": [
    "response = con.execute(\"\"\"SELECT \n",
    "    match_count,\n",
    "    COUNT(*) AS player_count\n",
    "FROM (\n",
    "    SELECT \n",
    "        account_id,\n",
    "        COUNT(DISTINCT match_id) AS match_count\n",
    "    FROM \n",
    "        player_matches\n",
    "    GROUP BY \n",
    "        account_id\n",
    ") t\n",
    "GROUP BY \n",
    "    match_count\n",
    "ORDER BY \n",
    "    match_count;\"\"\").fetchdf()\n",
    "print(response)"
   ]
  },
  {
   "cell_type": "code",
   "execution_count": 19,
   "id": "82ab9900",
   "metadata": {},
   "outputs": [
    {
     "name": "stdout",
     "output_type": "stream",
     "text": [
      "   account_id  match_count          match_time\n",
      "0   165560339           14 2025-05-05 23:55:31\n",
      "1    97506421           19 2025-05-05 23:55:31\n",
      "2   472792201           11 2025-05-05 23:55:31\n",
      "3   924812291           15 2025-05-05 23:52:42\n",
      "4   291902996           20 2025-05-05 23:50:05\n"
     ]
    }
   ],
   "source": [
    "response = con.execute(\"\"\"\n",
    "        SELECT \n",
    "            pm.account_id,\n",
    "            COUNT(DISTINCT pm.match_id) AS match_count,\n",
    "            MAX(m.start_time) AS match_time\n",
    "        FROM \n",
    "            player_matches pm\n",
    "        JOIN\n",
    "            matches m ON pm.match_id = m.match_id\n",
    "        GROUP BY \n",
    "            pm.account_id\n",
    "        HAVING \n",
    "            match_count > 10\n",
    "        ORDER BY\n",
    "            match_time DESC\n",
    "        LIMIT 5\n",
    "        \"\"\").fetchdf()\n",
    "print(response)"
   ]
  },
  {
   "cell_type": "code",
   "execution_count": null,
   "id": "cc3e0f76",
   "metadata": {},
   "outputs": [],
   "source": []
  }
 ],
 "metadata": {
  "kernelspec": {
   "display_name": ".venv",
   "language": "python",
   "name": "python3"
  },
  "language_info": {
   "codemirror_mode": {
    "name": "ipython",
    "version": 3
   },
   "file_extension": ".py",
   "mimetype": "text/x-python",
   "name": "python",
   "nbconvert_exporter": "python",
   "pygments_lexer": "ipython3",
   "version": "3.12.6"
  }
 },
 "nbformat": 4,
 "nbformat_minor": 5
}
