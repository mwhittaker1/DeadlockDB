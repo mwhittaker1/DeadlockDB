{
 "cells": [
  {
   "cell_type": "code",
   "execution_count": null,
   "id": "4c99ec83",
   "metadata": {},
   "outputs": [],
   "source": [
    "import duckdb\n",
    "con = duckdb.connect(\"c:/Code/Local Code/deadlock_match_prediction/data/deadlock.db\")\n",
    "\n"
   ]
  },
  {
   "cell_type": "code",
   "execution_count": null,
   "id": "3c627a4d",
   "metadata": {},
   "outputs": [],
   "source": [
    "df = con.execute(\"SELECT * FROM player_matches LIMIT 10\").fetchdf()\n",
    "df"
   ]
  },
  {
   "cell_type": "code",
   "execution_count": null,
   "id": "72e55b6b",
   "metadata": {},
   "outputs": [],
   "source": [
    "response = con.execute(\"\"\"SELECT \n",
    "    account_id,\n",
    "    COUNT(DISTINCT match_id) AS match_count\n",
    "FROM \n",
    "    player_matches\n",
    "GROUP BY \n",
    "    account_id\n",
    "ORDER BY \n",
    "    match_count DESC\n",
    "LIMIT 25;\"\"\").fetchdf()\n",
    "print(response)"
   ]
  },
  {
   "cell_type": "code",
   "execution_count": null,
   "id": "7b17b78d",
   "metadata": {},
   "outputs": [],
   "source": [
    "response = con.execute(\"\"\"SELECT \n",
    "    match_count,\n",
    "    COUNT(*) AS player_count\n",
    "FROM (\n",
    "    SELECT \n",
    "        account_id,\n",
    "        COUNT(DISTINCT match_id) AS match_count\n",
    "    FROM \n",
    "        player_matches\n",
    "    GROUP BY \n",
    "        account_id\n",
    ") t\n",
    "GROUP BY \n",
    "    match_count\n",
    "ORDER BY \n",
    "    match_count;\"\"\").fetchdf()\n",
    "print(response)"
   ]
  },
  {
   "cell_type": "code",
   "execution_count": null,
   "id": "82ab9900",
   "metadata": {},
   "outputs": [],
   "source": [
    "response = con.execute(\"\"\"\n",
    "        SELECT \n",
    "            pm.account_id,\n",
    "            COUNT(DISTINCT pm.match_id) AS match_count,\n",
    "            MAX(m.start_time) AS match_time\n",
    "        FROM \n",
    "            player_matches pm\n",
    "        JOIN\n",
    "            matches m ON pm.match_id = m.match_id\n",
    "        GROUP BY \n",
    "            pm.account_id\n",
    "        HAVING \n",
    "            match_count > 10\n",
    "        ORDER BY\n",
    "            match_time DESC\n",
    "        LIMIT 5\n",
    "        \"\"\").fetchdf()\n",
    "print(response)"
   ]
  },
  {
   "cell_type": "code",
   "execution_count": null,
   "id": "cc3e0f76",
   "metadata": {},
   "outputs": [],
   "source": []
  }
 ],
 "metadata": {
  "kernelspec": {
   "display_name": ".venv",
   "language": "python",
   "name": "python3"
  },
  "language_info": {
   "codemirror_mode": {
    "name": "ipython",
    "version": 3
   },
   "file_extension": ".py",
   "mimetype": "text/x-python",
   "name": "python",
   "nbconvert_exporter": "python",
   "pygments_lexer": "ipython3",
   "version": "3.12.6"
  }
 },
 "nbformat": 4,
 "nbformat_minor": 5
}
