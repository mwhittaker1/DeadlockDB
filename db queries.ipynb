{
 "cells": [
  {
   "cell_type": "markdown",
   "id": "2c72162d-04f4-4e82-b377-f2734f6ba50c",
   "metadata": {},
   "source": [
    "#Scratch for queries"
   ]
  },
  {
   "cell_type": "code",
   "execution_count": 2,
   "id": "fc59f12d-d9ca-45c8-9981-34ef353e1b60",
   "metadata": {},
   "outputs": [],
   "source": [
    "import sqlite3\n",
    "\n",
    "def run_query(query, db):\n",
    "    # Connect to the SQLite database\n",
    "    conn = sqlite3.connect(db)\n",
    "    cursor = conn.cursor()\n",
    "    \n",
    "    # Execute the query\n",
    "    cursor.execute(query)\n",
    "    \n",
    "    # Fetch all results (or just the column names, depending on the query)\n",
    "    result = cursor.fetchall()\n",
    "    \n",
    "    # Close the connection\n",
    "    conn.close()\n",
    "    \n",
    "    return result"
   ]
  },
  {
   "cell_type": "markdown",
   "id": "77eb20f9-53ae-4f94-bf94-9498a147625f",
   "metadata": {},
   "source": [
    "#setting to deadlock.db"
   ]
  },
  {
   "cell_type": "code",
   "execution_count": 3,
   "id": "48275fb4-6362-4c69-9627-e028f282619c",
   "metadata": {},
   "outputs": [],
   "source": [
    "db = \"deadlock.db\""
   ]
  },
  {
   "cell_type": "markdown",
   "id": "95ab8adc-6747-4159-bfde-1c778040d882",
   "metadata": {},
   "source": [
    "#queries"
   ]
  },
  {
   "cell_type": "code",
   "execution_count": 9,
   "id": "f2ce3bfc-a584-4350-836f-4acd55b68b16",
   "metadata": {},
   "outputs": [
    {
     "name": "stdout",
     "output_type": "stream",
     "text": [
      "[(1, 'Infernus', 1, 0), (2, 'Seven', 1, 0), (3, 'Vindicta', 1, 0), (4, 'Lady Geist', 1, 0), (6, 'Abrams', 1, 0)]\n"
     ]
    }
   ],
   "source": [
    "query = \"select * from heroes limit(5)\"\n",
    "data = run_query(query,db)\n",
    "print(data)"
   ]
  },
  {
   "cell_type": "code",
   "execution_count": 11,
   "id": "888d8f0b-27a4-4cfb-8b5e-399faaaf176b",
   "metadata": {},
   "outputs": [
    {
     "name": "stdout",
     "output_type": "stream",
     "text": [
      "Note: you may need to restart the kernel to use updated packages.\n"
     ]
    },
    {
     "name": "stderr",
     "output_type": "stream",
     "text": [
      "ERROR: Could not find a version that satisfies the requirement git (from versions: none)\n",
      "ERROR: No matching distribution found for git\n"
     ]
    }
   ],
   "source": [
    "pip install git"
   ]
  },
  {
   "cell_type": "code",
   "execution_count": null,
   "id": "55abaf06-6a01-4bb3-8e51-7a842d2a7034",
   "metadata": {},
   "outputs": [],
   "source": []
  }
 ],
 "metadata": {
  "kernelspec": {
   "display_name": "Python 3 (ipykernel)",
   "language": "python",
   "name": "python3"
  },
  "language_info": {
   "codemirror_mode": {
    "name": "ipython",
    "version": 3
   },
   "file_extension": ".py",
   "mimetype": "text/x-python",
   "name": "python",
   "nbconvert_exporter": "python",
   "pygments_lexer": "ipython3",
   "version": "3.12.6"
  }
 },
 "nbformat": 4,
 "nbformat_minor": 5
}
