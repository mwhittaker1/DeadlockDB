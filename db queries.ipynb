{
 "cells": [
  {
   "cell_type": "markdown",
   "id": "2c72162d-04f4-4e82-b377-f2734f6ba50c",
   "metadata": {},
   "source": [
    "#Scratch for queries"
   ]
  },
  {
   "cell_type": "code",
   "execution_count": 2,
   "id": "fc59f12d-d9ca-45c8-9981-34ef353e1b60",
   "metadata": {},
   "outputs": [],
   "source": [
    "import sqlite3\n",
    "\n",
    "def run_query(query, db):\n",
    "    # Connect to the SQLite database\n",
    "    conn = sqlite3.connect(db)\n",
    "    cursor = conn.cursor()\n",
    "    \n",
    "    # Execute the query\n",
    "    cursor.execute(query)\n",
    "    \n",
    "    # Fetch all results (or just the column names, depending on the query)\n",
    "    result = cursor.fetchall()\n",
    "    \n",
    "    # Close the connection\n",
    "    conn.close()\n",
    "    \n",
    "    return result"
   ]
  },
  {
   "cell_type": "markdown",
   "id": "77eb20f9-53ae-4f94-bf94-9498a147625f",
   "metadata": {},
   "source": [
    "#setting to deadlock.db"
   ]
  },
  {
   "cell_type": "code",
   "execution_count": 3,
   "id": "48275fb4-6362-4c69-9627-e028f282619c",
   "metadata": {},
   "outputs": [],
   "source": [
    "db = \"deadlock.db\""
   ]
  },
  {
   "cell_type": "markdown",
   "id": "95ab8adc-6747-4159-bfde-1c778040d882",
   "metadata": {},
   "source": [
    "#queries"
   ]
  },
  {
   "cell_type": "code",
   "execution_count": 6,
   "id": "f2ce3bfc-a584-4350-836f-4acd55b68b16",
   "metadata": {},
   "outputs": [
    {
     "name": "stdout",
     "output_type": "stream",
     "text": [
      "[(1, 'max_move_speed', 6.8), (1, 'sprint_speed', 1.5), (1, 'crouch_speed', 4.75), (1, 'move_acceleration', 4.0), (1, 'light_melee_damage', 63.0), (1, 'heavy_melee_damage', 116.0), (1, 'max_health', 600.0), (1, 'weapon_power', 0.0), (1, 'reload_speed', 1.0), (1, 'weapon_power_scale', 1.0)]\n"
     ]
    }
   ],
   "source": [
    "query = \"select * from hero_stats limit(10);\"\n",
    "\n",
    "data = run_query(query,db)\n",
    "print(data)"
   ]
  },
  {
   "cell_type": "code",
   "execution_count": 5,
   "id": "55abaf06-6a01-4bb3-8e51-7a842d2a7034",
   "metadata": {},
   "outputs": [
    {
     "name": "stdout",
     "output_type": "stream",
     "text": [
      "[('Infernus', 'max_move_speed', 6.8), ('Infernus', 'sprint_speed', 1.5), ('Infernus', 'crouch_speed', 4.75), ('Infernus', 'move_acceleration', 4.0), ('Infernus', 'light_melee_damage', 63.0), ('Infernus', 'heavy_melee_damage', 116.0), ('Infernus', 'max_health', 600.0), ('Infernus', 'weapon_power', 0.0), ('Infernus', 'reload_speed', 1.0), ('Infernus', 'weapon_power_scale', 1.0), ('Infernus', 'proc_build_up_rate_scale', 1.0), ('Infernus', 'stamina', 3.0), ('Infernus', 'base_health_regen', 2.0), ('Infernus', 'stamina_regen_per_second', 0.2), ('Infernus', 'ability_resource_max', 0.0), ('Infernus', 'ability_resource_regen_per_second', 0.0), ('Infernus', 'crit_damage_received_scale', 1.0), ('Infernus', 'tech_duration', 1.0), ('Infernus', 'tech_range', 1.0), ('Seven', 'max_move_speed', 7.1), ('Seven', 'sprint_speed', 1.5), ('Seven', 'crouch_speed', 4.75), ('Seven', 'move_acceleration', 4.0), ('Seven', 'light_melee_damage', 63.0), ('Seven', 'heavy_melee_damage', 116.0), ('Seven', 'max_health', 550.0), ('Seven', 'weapon_power', 0.0), ('Seven', 'reload_speed', 1.0), ('Seven', 'weapon_power_scale', 1.0), ('Seven', 'proc_build_up_rate_scale', 1.0), ('Seven', 'stamina', 3.0), ('Seven', 'base_health_regen', 3.0), ('Seven', 'stamina_regen_per_second', 0.2), ('Seven', 'ability_resource_max', 0.0), ('Seven', 'ability_resource_regen_per_second', 0.0), ('Seven', 'crit_damage_received_scale', 0.65), ('Seven', 'tech_duration', 1.0), ('Seven', 'tech_range', 1.0), ('Vindicta', 'max_move_speed', 8.0), ('Vindicta', 'sprint_speed', 1.5), ('Vindicta', 'crouch_speed', 4.75), ('Vindicta', 'move_acceleration', 4.0), ('Vindicta', 'light_melee_damage', 63.0), ('Vindicta', 'heavy_melee_damage', 116.0), ('Vindicta', 'max_health', 525.0), ('Vindicta', 'weapon_power', 0.0), ('Vindicta', 'reload_speed', 1.0), ('Vindicta', 'weapon_power_scale', 1.0), ('Vindicta', 'proc_build_up_rate_scale', 1.0), ('Vindicta', 'stamina', 2.0)]\n"
     ]
    }
   ],
   "source": [
    "db = \"deadlock.db\"\n",
    "query = \"\"\"\n",
    "SELECT heroes.name, hero_stats.stat_name, hero_stats.base_value from heroes\n",
    "join hero_stats\n",
    "on heroes.hero_id = hero_stats.hero_id\n",
    "limit(50);\n",
    "\"\"\"\n",
    "\n",
    "data = run_query(query, db)\n",
    "print(data)\n"
   ]
  },
  {
   "cell_type": "code",
   "execution_count": null,
   "id": "ebe35877-75fb-4371-b3ce-14a2bfaf5863",
   "metadata": {},
   "outputs": [],
   "source": []
  },
  {
   "cell_type": "code",
   "execution_count": null,
   "id": "a76b2c0d-c3ec-4547-a548-06cef525fa3f",
   "metadata": {},
   "outputs": [],
   "source": []
  }
 ],
 "metadata": {
  "kernelspec": {
   "display_name": "Python 3 (ipykernel)",
   "language": "python",
   "name": "python3"
  },
  "language_info": {
   "codemirror_mode": {
    "name": "ipython",
    "version": 3
   },
   "file_extension": ".py",
   "mimetype": "text/x-python",
   "name": "python",
   "nbconvert_exporter": "python",
   "pygments_lexer": "ipython3",
   "version": "3.12.9"
  }
 },
 "nbformat": 4,
 "nbformat_minor": 5
}
