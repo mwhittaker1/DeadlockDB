{
 "cells": [
  {
   "cell_type": "code",
   "execution_count": 1,
   "id": "02455c5f",
   "metadata": {},
   "outputs": [],
   "source": [
    "import duckdb\n",
    "con = duckdb.connect(\"c:/Code/Local Code/deadlock_match_prediction/data/deadlock.db\")\n",
    "raw_con = duckdb.connect(\"c:/Code/Local Code/deadlock_match_prediction/match_player_raw.duckdb\")"
   ]
  },
  {
   "cell_type": "code",
   "execution_count": 2,
   "id": "e440239b",
   "metadata": {},
   "outputs": [
    {
     "data": {
      "text/plain": [
       "<duckdb.duckdb.DuckDBPyConnection at 0x1e568e03cf0>"
      ]
     },
     "execution_count": 2,
     "metadata": {},
     "output_type": "execute_result"
    }
   ],
   "source": [
    "con.execute(\"DROP TABLE IF EXISTS hero_synergy_trends\")"
   ]
  },
  {
   "cell_type": "code",
   "execution_count": 3,
   "id": "dc19ee83",
   "metadata": {},
   "outputs": [
    {
     "name": "stdout",
     "output_type": "stream",
     "text": [
      "None\n",
      "[(0, 'hero_id1', 'INTEGER', True, None, True), (1, 'hero_id2', 'INTEGER', True, None, True), (2, 'wins', 'INTEGER', False, None, False), (3, 'matches_played', 'INTEGER', False, None, False), (4, 'kills1', 'INTEGER', False, None, False), (5, 'kills2', 'INTEGER', False, None, False), (6, 'deaths1', 'INTEGER', False, None, False), (7, 'deaths2', 'INTEGER', False, None, False), (8, 'assists1', 'INTEGER', False, None, False), (9, 'assists2', 'INTEGER', False, None, False), (10, 'denies1', 'INTEGER', False, None, False), (11, 'denies2', 'INTEGER', False, None, False), (12, 'last_hits1', 'INTEGER', False, None, False), (13, 'last_hits2', 'INTEGER', False, None, False), (14, 'networth1', 'INTEGER', False, None, False), (15, 'networth2', 'INTEGER', False, None, False), (16, 'obj_damage1', 'INTEGER', False, None, False), (17, 'obj_damage2', 'INTEGER', False, None, False), (18, 'creeps1', 'INTEGER', False, None, False), (19, 'creeps2', 'INTEGER', False, None, False)]\n"
     ]
    }
   ],
   "source": [
    "from services import database_functions as dbf\n",
    "\n",
    "dbf.create_hero_synergy_trends(con)\n",
    "query = con.execute(\"SELECT * FROM hero_synergy_trends LIMIT 1\").fetchone()\n",
    "print(query)\n",
    "hero_synergy_trends_col = con.execute(\"\"\"\n",
    "        PRAGMA table_info('hero_synergy_trends');\n",
    "        \"\"\").fetchall()\n",
    "print(hero_synergy_trends_col)"
   ]
  },
  {
   "cell_type": "code",
   "execution_count": 4,
   "id": "6392723c",
   "metadata": {},
   "outputs": [
    {
     "name": "stdout",
     "output_type": "stream",
     "text": [
      "   hero_id1  hero_id2  wins  matches_played  kills1  kills2  deaths1  deaths2  \\\n",
      "0         1         3    26              53     374     364      327      330   \n",
      "1         1         4    38              79     540     479      574      550   \n",
      "2         1         6    26              62     391     420      433      489   \n",
      "3         1        10    43              95     775     513      652      653   \n",
      "4         1        17    26              51     347     371      399      312   \n",
      "5         1        18    23              51     393     218      373      322   \n",
      "6         1        19    36              80     560     685      604      582   \n",
      "7         1        31    41              71     470     459      495      446   \n",
      "8         1        35    25              52     397     286      374      285   \n",
      "9         1        52    31              54     373     308      324      327   \n",
      "\n",
      "   assists1  assists2  denies1  denies2  last_hits1  last_hits2  networth1  \\\n",
      "0       548       624      304      336        8725        5674    1931282   \n",
      "1       819       919      473      346       11812       12232    2793797   \n",
      "2       661       694      354      313        9307        7978    2182900   \n",
      "3       907      1313      493      536       14777       11084    3341456   \n",
      "4       536       584      341      246        7933        6546    1837560   \n",
      "5       498       774      312      276        8117        6206    1904705   \n",
      "6       855       803      433      438       12907       11512    3045164   \n",
      "7       789       981      387      345       11023        9160    2559536   \n",
      "8       566       724      274      217        8448        6882    1972939   \n",
      "9       536       587      272      318        8203        7123    1826653   \n",
      "\n",
      "   networth2  obj_damage1  obj_damage2  creeps1  creeps2  \n",
      "0    1748509      1719185       471641     4731     3857  \n",
      "1    2823621      2190574      1943992     6642     7487  \n",
      "2    2094337      1671145      1156075     5276     4824  \n",
      "3    3127520      2877280      1210786     8185     7212  \n",
      "4    1753892      1699991       799268     4275     4260  \n",
      "5    1774852      1608760       744976     4594     3841  \n",
      "6    2869459      2400476      1806104     7468     6585  \n",
      "7    2461840      2219477      1224607     6182     5523  \n",
      "8    1869065      1725504       732134     4691     4469  \n",
      "9    1769472      1687427      1009410     4333     4439  \n"
     ]
    }
   ],
   "source": [
    "query = con.execute(f\"\"\"\n",
    "        SELECT * FROM hero_synergy_trends\n",
    "        limit 10\"\"\").fetchdf()\n",
    "print(query)"
   ]
  },
  {
   "cell_type": "code",
   "execution_count": 5,
   "id": "eb2c48be",
   "metadata": {},
   "outputs": [],
   "source": [
    "con.close()\n",
    "raw_con.close()"
   ]
  },
  {
   "cell_type": "markdown",
   "id": "d9a894e2",
   "metadata": {},
   "source": [
    "Claude SQL to count matches in matches where all 12 players exist in player_matches_history with at least 5 matches per player."
   ]
  },
  {
   "cell_type": "code",
   "execution_count": 38,
   "id": "6099d293",
   "metadata": {},
   "outputs": [
    {
     "name": "stdout",
     "output_type": "stream",
     "text": [
      "Matches where all 12 players have trends and 5+ history entries: 12690 out of 13407 total matches\n"
     ]
    },
    {
     "data": {
      "application/vnd.jupyter.widget-view+json": {
       "model_id": "51d28c67b2864a8bbdcfe2edcc756e62",
       "version_major": 2,
       "version_minor": 0
      },
      "text/plain": [
       "FloatProgress(value=0.0, layout=Layout(width='auto'), style=ProgressStyle(bar_color='black'))"
      ]
     },
     "metadata": {},
     "output_type": "display_data"
    },
    {
     "name": "stdout",
     "output_type": "stream",
     "text": [
      "\n",
      "Sample of matches meeting criteria:\n",
      "   match_id          start_time game_mode match_mode\n",
      "0  35659956 2025-05-11 05:50:38    Normal   Unranked\n",
      "1  35659817 2025-05-11 05:45:43    Normal   Unranked\n",
      "2  35659653 2025-05-11 05:39:20    Normal   Unranked\n",
      "3  35659402 2025-05-11 05:28:31    Normal   Unranked\n",
      "4  35659009 2025-05-11 05:15:59    Normal   Unranked\n",
      "5  35658812 2025-05-11 05:08:51    Normal   Unranked\n",
      "6  35658760 2025-05-11 05:06:48    Normal   Unranked\n",
      "7  35658665 2025-05-11 05:03:33    Normal   Unranked\n",
      "8  35658327 2025-05-11 04:52:25    Normal   Unranked\n",
      "9  35658119 2025-05-11 04:45:02    Normal   Unranked\n"
     ]
    }
   ],
   "source": [
    "import duckdb\n",
    "import pandas as pd\n",
    "\n",
    "# Connect to the database\n",
    "con = duckdb.connect(\"data/deadlock.db\")\n",
    "\n",
    "# Query to find matches where all 12 players have player trends \n",
    "# and at least 5 references in player_matches_history\n",
    "query = \"\"\"\n",
    "WITH match_player_counts AS (\n",
    "    -- Count players per match\n",
    "    SELECT \n",
    "        m.match_id,\n",
    "        COUNT(DISTINCT pm.account_id) AS player_count\n",
    "    FROM \n",
    "        matches m\n",
    "    JOIN \n",
    "        player_matches pm ON m.match_id = pm.match_id\n",
    "    GROUP BY \n",
    "        m.match_id\n",
    "),\n",
    "players_with_trends AS (\n",
    "    -- Find players who have trends\n",
    "    SELECT \n",
    "        pm.match_id,\n",
    "        pm.account_id,\n",
    "        CASE WHEN pt.account_id IS NOT NULL THEN 1 ELSE 0 END AS has_trend\n",
    "    FROM \n",
    "        player_matches pm\n",
    "    LEFT JOIN \n",
    "        player_trends pt ON pm.account_id = pt.account_id\n",
    "),\n",
    "players_with_history AS (\n",
    "    -- Count history entries per player\n",
    "    SELECT \n",
    "        pm.match_id,\n",
    "        pm.account_id,\n",
    "        COUNT(pmh.match_id) AS history_count\n",
    "    FROM \n",
    "        player_matches pm\n",
    "    LEFT JOIN \n",
    "        player_matches_history pmh ON pm.account_id = pmh.account_id\n",
    "    GROUP BY \n",
    "        pm.match_id, pm.account_id\n",
    "),\n",
    "match_trend_stats AS (\n",
    "    -- Aggregate player trend stats by match\n",
    "    SELECT \n",
    "        pwt.match_id,\n",
    "        SUM(pwt.has_trend) AS players_with_trends,\n",
    "        COUNT(*) AS total_players\n",
    "    FROM \n",
    "        players_with_trends pwt\n",
    "    GROUP BY \n",
    "        pwt.match_id\n",
    "),\n",
    "match_history_stats AS (\n",
    "    -- Aggregate player history stats by match\n",
    "    SELECT \n",
    "        pwh.match_id,\n",
    "        COUNT(CASE WHEN pwh.history_count >= 5 THEN 1 END) AS players_with_5plus_history,\n",
    "        COUNT(*) AS total_players  \n",
    "    FROM \n",
    "        players_with_history pwh\n",
    "    GROUP BY \n",
    "        pwh.match_id\n",
    ")\n",
    "-- Final results with matches meeting all criteria\n",
    "SELECT \n",
    "    COUNT(*) AS matching_matches_count,\n",
    "    (SELECT COUNT(*) FROM matches) AS total_matches_count\n",
    "FROM \n",
    "    match_player_counts mpc\n",
    "JOIN \n",
    "    match_trend_stats mts ON mpc.match_id = mts.match_id\n",
    "JOIN \n",
    "    match_history_stats mhs ON mpc.match_id = mhs.match_id\n",
    "WHERE \n",
    "    mpc.player_count = 12 -- Ensure match has exactly 12 players\n",
    "    AND mts.players_with_trends = 12 -- All 12 players have trends\n",
    "    AND mhs.players_with_5plus_history = 12; -- All 12 players have 5+ history entries\n",
    "\"\"\"\n",
    "\n",
    "# Execute the query and get results\n",
    "result = con.execute(query).fetchdf()\n",
    "print(f\"Matches where all 12 players have trends and 5+ history entries: {result.iloc[0, 0]} out of {result.iloc[0, 1]} total matches\")\n",
    "\n",
    "# Get a sample of these matches (first 10)\n",
    "sample_query = \"\"\"\n",
    "WITH match_player_counts AS (\n",
    "    SELECT \n",
    "        m.match_id,\n",
    "        COUNT(DISTINCT pm.account_id) AS player_count\n",
    "    FROM \n",
    "        matches m\n",
    "    JOIN \n",
    "        player_matches pm ON m.match_id = pm.match_id\n",
    "    GROUP BY \n",
    "        m.match_id\n",
    "),\n",
    "players_with_trends AS (\n",
    "    SELECT \n",
    "        pm.match_id,\n",
    "        pm.account_id,\n",
    "        CASE WHEN pt.account_id IS NOT NULL THEN 1 ELSE 0 END AS has_trend\n",
    "    FROM \n",
    "        player_matches pm\n",
    "    LEFT JOIN \n",
    "        player_trends pt ON pm.account_id = pt.account_id\n",
    "),\n",
    "players_with_history AS (\n",
    "    SELECT \n",
    "        pm.match_id,\n",
    "        pm.account_id,\n",
    "        COUNT(pmh.match_id) AS history_count\n",
    "    FROM \n",
    "        player_matches pm\n",
    "    LEFT JOIN \n",
    "        player_matches_history pmh ON pm.account_id = pmh.account_id\n",
    "    GROUP BY \n",
    "        pm.match_id, pm.account_id\n",
    "),\n",
    "match_trend_stats AS (\n",
    "    SELECT \n",
    "        pwt.match_id,\n",
    "        SUM(pwt.has_trend) AS players_with_trends,\n",
    "        COUNT(*) AS total_players\n",
    "    FROM \n",
    "        players_with_trends pwt\n",
    "    GROUP BY \n",
    "        pwt.match_id\n",
    "),\n",
    "match_history_stats AS (\n",
    "    SELECT \n",
    "        pwh.match_id,\n",
    "        COUNT(CASE WHEN pwh.history_count >= 5 THEN 1 END) AS players_with_5plus_history,\n",
    "        COUNT(*) AS total_players  \n",
    "    FROM \n",
    "        players_with_history pwh\n",
    "    GROUP BY \n",
    "        pwh.match_id\n",
    "),\n",
    "qualifying_matches AS (\n",
    "    SELECT \n",
    "        mpc.match_id\n",
    "    FROM \n",
    "        match_player_counts mpc\n",
    "    JOIN \n",
    "        match_trend_stats mts ON mpc.match_id = mts.match_id\n",
    "    JOIN \n",
    "        match_history_stats mhs ON mpc.match_id = mhs.match_id\n",
    "    WHERE \n",
    "        mpc.player_count = 12\n",
    "        AND mts.players_with_trends = 12\n",
    "        AND mhs.players_with_5plus_history = 12\n",
    ")\n",
    "SELECT \n",
    "    m.match_id,\n",
    "    m.start_time,\n",
    "    m.game_mode,\n",
    "    m.match_mode\n",
    "FROM \n",
    "    matches m\n",
    "JOIN \n",
    "    qualifying_matches qm ON m.match_id = qm.match_id\n",
    "ORDER BY \n",
    "    m.start_time DESC\n",
    "LIMIT 10;\n",
    "\"\"\"\n",
    "\n",
    "# Print sample of qualifying matches\n",
    "sample_matches = con.execute(sample_query).fetchdf()\n",
    "if not sample_matches.empty:\n",
    "    print(\"\\nSample of matches meeting criteria:\")\n",
    "    print(sample_matches)\n",
    "else:\n",
    "    print(\"\\nNo matches found meeting all criteria\")\n",
    "\n",
    "# Close the connection\n",
    "con.close()"
   ]
  }
 ],
 "metadata": {
  "kernelspec": {
   "display_name": ".venv",
   "language": "python",
   "name": "python3"
  },
  "language_info": {
   "codemirror_mode": {
    "name": "ipython",
    "version": 3
   },
   "file_extension": ".py",
   "mimetype": "text/x-python",
   "name": "python",
   "nbconvert_exporter": "python",
   "pygments_lexer": "ipython3",
   "version": "3.12.6"
  }
 },
 "nbformat": 4,
 "nbformat_minor": 5
}
