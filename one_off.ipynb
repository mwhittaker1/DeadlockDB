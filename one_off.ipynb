{
 "cells": [
  {
   "cell_type": "code",
   "execution_count": 3,
   "id": "02455c5f",
   "metadata": {},
   "outputs": [],
   "source": [
    "import duckdb\n",
    "con = duckdb.connect(\"c:/Code/Local Code/deadlock_match_prediction/data/deadlock.db\")\n",
    "raw_con = duckdb.connect(\"c:/Code/Local Code/deadlock_match_prediction/match_player_raw.duckdb\")"
   ]
  },
  {
   "cell_type": "code",
   "execution_count": 30,
   "id": "9612f98d",
   "metadata": {},
   "outputs": [
    {
     "name": "stdout",
     "output_type": "stream",
     "text": [
      "tables: [('hero_trends',), ('matches',), ('player_hero_trends',), ('player_matches',), ('player_matches_history',)]\n",
      "\n"
     ]
    }
   ],
   "source": [
    "con.execute(\"DROP TABLE IF EXISTS player_trends\")\n",
    "con.execute(\"DROP TABLE IF EXISTS player_rolling_stats\")\n",
    "tables = con.execute(\"\"\"\n",
    "    SELECT name FROM sqlite_master WHERE type='table';\n",
    "    \"\"\").fetchall()\n",
    "print(f\"tables: {tables}\\n\")"
   ]
  },
  {
   "cell_type": "code",
   "execution_count": 31,
   "id": "f495edde",
   "metadata": {},
   "outputs": [
    {
     "name": "stdout",
     "output_type": "stream",
     "text": [
      "tables: [('hero_trends',), ('matches',), ('player_hero_trends',), ('player_matches',), ('player_matches_history',), ('player_rolling_stats',), ('player_trends',)]\n",
      "\n"
     ]
    }
   ],
   "source": [
    "import services.database_functions as dbf\n",
    "\n",
    "dbf.create_player_trends_table(con)\n",
    "dbf.create_player_rolling_stats(con)\n",
    "tables = con.execute(\"\"\"\n",
    "    SELECT name FROM sqlite_master WHERE type='table';\n",
    "    \"\"\").fetchall()\n",
    "print(f\"tables: {tables}\\n\")"
   ]
  },
  {
   "cell_type": "code",
   "execution_count": 14,
   "id": "eb2c48be",
   "metadata": {},
   "outputs": [],
   "source": [
    "con.close()\n",
    "raw_con.close()"
   ]
  },
  {
   "cell_type": "code",
   "execution_count": 7,
   "id": "68d40cc7",
   "metadata": {},
   "outputs": [
    {
     "data": {
      "text/plain": [
       "<duckdb.duckdb.DuckDBPyConnection at 0x2161ff1da30>"
      ]
     },
     "execution_count": 7,
     "metadata": {},
     "output_type": "execute_result"
    }
   ],
   "source": [
    "con = duckdb.connect(\"c:/Code/Local Code/deadlock_match_prediction/data/deadlock.db\")\n",
    "con.execute(\"ATTACH DATABASE 'match_player_raw.duckdb' AS staging\")"
   ]
  },
  {
   "cell_type": "code",
   "execution_count": 8,
   "id": "d8c51c0c",
   "metadata": {},
   "outputs": [
    {
     "data": {
      "text/plain": [
       "<duckdb.duckdb.DuckDBPyConnection at 0x2161ff1da30>"
      ]
     },
     "execution_count": 8,
     "metadata": {},
     "output_type": "execute_result"
    }
   ],
   "source": [
    "# 2. Ensure the team column exists\n",
    "con.execute(\"\"\"\n",
    "ALTER TABLE player_matches_history\n",
    "ADD COLUMN IF NOT EXISTS team INTEGER\n",
    "\"\"\")\n",
    "\n",
    "# 3. Populate team via an UPDATE…JOIN\n",
    "con.execute(\"\"\"\n",
    "UPDATE player_matches_history AS pmh\n",
    "SET team = sc.team\n",
    "FROM staging.staging_cleaned AS sc\n",
    "WHERE pmh.account_id = sc.account_id\n",
    "  AND pmh.match_id   = sc.match_id\n",
    "  AND pmh.team IS NULL\n",
    "\"\"\")\n",
    "\n",
    "# 4. Detach the staging DB\n",
    "con.execute(\"DETACH DATABASE staging\")"
   ]
  },
  {
   "cell_type": "code",
   "execution_count": 12,
   "id": "82b77ee7",
   "metadata": {},
   "outputs": [
    {
     "data": {
      "text/plain": [
       "<duckdb.duckdb.DuckDBPyConnection at 0x2161ff1da30>"
      ]
     },
     "execution_count": 12,
     "metadata": {},
     "output_type": "execute_result"
    }
   ],
   "source": [
    "con.execute(\"\"\"\n",
    "UPDATE player_matches_history\n",
    "SET team = CAST(\n",
    "    REGEXP_REPLACE(CAST(team AS VARCHAR), '[^0-9]+', '', 'g')\n",
    "  AS INTEGER)\n",
    "WHERE team::VARCHAR LIKE '(%'\n",
    "\"\"\")"
   ]
  },
  {
   "cell_type": "code",
   "execution_count": 13,
   "id": "26ffc8c2",
   "metadata": {},
   "outputs": [
    {
     "name": "stdout",
     "output_type": "stream",
     "text": [
      "[(1,), (0,), (0,), (1,), (0,), (1,), (0,), (0,), (0,), (0,), (1,), (1,), (1,), (0,), (1,), (1,), (0,), (0,), (0,), (0,), (0,), (0,), (1,), (0,), (1,)]\n"
     ]
    }
   ],
   "source": [
    "query = con.execute(\"\"\"\n",
    "    SELECT team FROM player_matches_history\n",
    "        limit 25;\n",
    "    \"\"\").fetchall()\n",
    "print(query)"
   ]
  },
  {
   "cell_type": "markdown",
   "id": "d9a894e2",
   "metadata": {},
   "source": [
    "Claude SQL to count matches in matches where all 12 players exist in player_matches_history with at least 5 matches per player."
   ]
  },
  {
   "cell_type": "code",
   "execution_count": 38,
   "id": "6099d293",
   "metadata": {},
   "outputs": [
    {
     "name": "stdout",
     "output_type": "stream",
     "text": [
      "Matches where all 12 players have trends and 5+ history entries: 12690 out of 13407 total matches\n"
     ]
    },
    {
     "data": {
      "application/vnd.jupyter.widget-view+json": {
       "model_id": "51d28c67b2864a8bbdcfe2edcc756e62",
       "version_major": 2,
       "version_minor": 0
      },
      "text/plain": [
       "FloatProgress(value=0.0, layout=Layout(width='auto'), style=ProgressStyle(bar_color='black'))"
      ]
     },
     "metadata": {},
     "output_type": "display_data"
    },
    {
     "name": "stdout",
     "output_type": "stream",
     "text": [
      "\n",
      "Sample of matches meeting criteria:\n",
      "   match_id          start_time game_mode match_mode\n",
      "0  35659956 2025-05-11 05:50:38    Normal   Unranked\n",
      "1  35659817 2025-05-11 05:45:43    Normal   Unranked\n",
      "2  35659653 2025-05-11 05:39:20    Normal   Unranked\n",
      "3  35659402 2025-05-11 05:28:31    Normal   Unranked\n",
      "4  35659009 2025-05-11 05:15:59    Normal   Unranked\n",
      "5  35658812 2025-05-11 05:08:51    Normal   Unranked\n",
      "6  35658760 2025-05-11 05:06:48    Normal   Unranked\n",
      "7  35658665 2025-05-11 05:03:33    Normal   Unranked\n",
      "8  35658327 2025-05-11 04:52:25    Normal   Unranked\n",
      "9  35658119 2025-05-11 04:45:02    Normal   Unranked\n"
     ]
    }
   ],
   "source": [
    "import duckdb\n",
    "import pandas as pd\n",
    "\n",
    "# Connect to the database\n",
    "con = duckdb.connect(\"data/deadlock.db\")\n",
    "\n",
    "# Query to find matches where all 12 players have player trends \n",
    "# and at least 5 references in player_matches_history\n",
    "query = \"\"\"\n",
    "WITH match_player_counts AS (\n",
    "    -- Count players per match\n",
    "    SELECT \n",
    "        m.match_id,\n",
    "        COUNT(DISTINCT pm.account_id) AS player_count\n",
    "    FROM \n",
    "        matches m\n",
    "    JOIN \n",
    "        player_matches pm ON m.match_id = pm.match_id\n",
    "    GROUP BY \n",
    "        m.match_id\n",
    "),\n",
    "players_with_trends AS (\n",
    "    -- Find players who have trends\n",
    "    SELECT \n",
    "        pm.match_id,\n",
    "        pm.account_id,\n",
    "        CASE WHEN pt.account_id IS NOT NULL THEN 1 ELSE 0 END AS has_trend\n",
    "    FROM \n",
    "        player_matches pm\n",
    "    LEFT JOIN \n",
    "        player_trends pt ON pm.account_id = pt.account_id\n",
    "),\n",
    "players_with_history AS (\n",
    "    -- Count history entries per player\n",
    "    SELECT \n",
    "        pm.match_id,\n",
    "        pm.account_id,\n",
    "        COUNT(pmh.match_id) AS history_count\n",
    "    FROM \n",
    "        player_matches pm\n",
    "    LEFT JOIN \n",
    "        player_matches_history pmh ON pm.account_id = pmh.account_id\n",
    "    GROUP BY \n",
    "        pm.match_id, pm.account_id\n",
    "),\n",
    "match_trend_stats AS (\n",
    "    -- Aggregate player trend stats by match\n",
    "    SELECT \n",
    "        pwt.match_id,\n",
    "        SUM(pwt.has_trend) AS players_with_trends,\n",
    "        COUNT(*) AS total_players\n",
    "    FROM \n",
    "        players_with_trends pwt\n",
    "    GROUP BY \n",
    "        pwt.match_id\n",
    "),\n",
    "match_history_stats AS (\n",
    "    -- Aggregate player history stats by match\n",
    "    SELECT \n",
    "        pwh.match_id,\n",
    "        COUNT(CASE WHEN pwh.history_count >= 5 THEN 1 END) AS players_with_5plus_history,\n",
    "        COUNT(*) AS total_players  \n",
    "    FROM \n",
    "        players_with_history pwh\n",
    "    GROUP BY \n",
    "        pwh.match_id\n",
    ")\n",
    "-- Final results with matches meeting all criteria\n",
    "SELECT \n",
    "    COUNT(*) AS matching_matches_count,\n",
    "    (SELECT COUNT(*) FROM matches) AS total_matches_count\n",
    "FROM \n",
    "    match_player_counts mpc\n",
    "JOIN \n",
    "    match_trend_stats mts ON mpc.match_id = mts.match_id\n",
    "JOIN \n",
    "    match_history_stats mhs ON mpc.match_id = mhs.match_id\n",
    "WHERE \n",
    "    mpc.player_count = 12 -- Ensure match has exactly 12 players\n",
    "    AND mts.players_with_trends = 12 -- All 12 players have trends\n",
    "    AND mhs.players_with_5plus_history = 12; -- All 12 players have 5+ history entries\n",
    "\"\"\"\n",
    "\n",
    "# Execute the query and get results\n",
    "result = con.execute(query).fetchdf()\n",
    "print(f\"Matches where all 12 players have trends and 5+ history entries: {result.iloc[0, 0]} out of {result.iloc[0, 1]} total matches\")\n",
    "\n",
    "# Get a sample of these matches (first 10)\n",
    "sample_query = \"\"\"\n",
    "WITH match_player_counts AS (\n",
    "    SELECT \n",
    "        m.match_id,\n",
    "        COUNT(DISTINCT pm.account_id) AS player_count\n",
    "    FROM \n",
    "        matches m\n",
    "    JOIN \n",
    "        player_matches pm ON m.match_id = pm.match_id\n",
    "    GROUP BY \n",
    "        m.match_id\n",
    "),\n",
    "players_with_trends AS (\n",
    "    SELECT \n",
    "        pm.match_id,\n",
    "        pm.account_id,\n",
    "        CASE WHEN pt.account_id IS NOT NULL THEN 1 ELSE 0 END AS has_trend\n",
    "    FROM \n",
    "        player_matches pm\n",
    "    LEFT JOIN \n",
    "        player_trends pt ON pm.account_id = pt.account_id\n",
    "),\n",
    "players_with_history AS (\n",
    "    SELECT \n",
    "        pm.match_id,\n",
    "        pm.account_id,\n",
    "        COUNT(pmh.match_id) AS history_count\n",
    "    FROM \n",
    "        player_matches pm\n",
    "    LEFT JOIN \n",
    "        player_matches_history pmh ON pm.account_id = pmh.account_id\n",
    "    GROUP BY \n",
    "        pm.match_id, pm.account_id\n",
    "),\n",
    "match_trend_stats AS (\n",
    "    SELECT \n",
    "        pwt.match_id,\n",
    "        SUM(pwt.has_trend) AS players_with_trends,\n",
    "        COUNT(*) AS total_players\n",
    "    FROM \n",
    "        players_with_trends pwt\n",
    "    GROUP BY \n",
    "        pwt.match_id\n",
    "),\n",
    "match_history_stats AS (\n",
    "    SELECT \n",
    "        pwh.match_id,\n",
    "        COUNT(CASE WHEN pwh.history_count >= 5 THEN 1 END) AS players_with_5plus_history,\n",
    "        COUNT(*) AS total_players  \n",
    "    FROM \n",
    "        players_with_history pwh\n",
    "    GROUP BY \n",
    "        pwh.match_id\n",
    "),\n",
    "qualifying_matches AS (\n",
    "    SELECT \n",
    "        mpc.match_id\n",
    "    FROM \n",
    "        match_player_counts mpc\n",
    "    JOIN \n",
    "        match_trend_stats mts ON mpc.match_id = mts.match_id\n",
    "    JOIN \n",
    "        match_history_stats mhs ON mpc.match_id = mhs.match_id\n",
    "    WHERE \n",
    "        mpc.player_count = 12\n",
    "        AND mts.players_with_trends = 12\n",
    "        AND mhs.players_with_5plus_history = 12\n",
    ")\n",
    "SELECT \n",
    "    m.match_id,\n",
    "    m.start_time,\n",
    "    m.game_mode,\n",
    "    m.match_mode\n",
    "FROM \n",
    "    matches m\n",
    "JOIN \n",
    "    qualifying_matches qm ON m.match_id = qm.match_id\n",
    "ORDER BY \n",
    "    m.start_time DESC\n",
    "LIMIT 10;\n",
    "\"\"\"\n",
    "\n",
    "# Print sample of qualifying matches\n",
    "sample_matches = con.execute(sample_query).fetchdf()\n",
    "if not sample_matches.empty:\n",
    "    print(\"\\nSample of matches meeting criteria:\")\n",
    "    print(sample_matches)\n",
    "else:\n",
    "    print(\"\\nNo matches found meeting all criteria\")\n",
    "\n",
    "# Close the connection\n",
    "con.close()"
   ]
  }
 ],
 "metadata": {
  "kernelspec": {
   "display_name": ".venv",
   "language": "python",
   "name": "python3"
  },
  "language_info": {
   "codemirror_mode": {
    "name": "ipython",
    "version": 3
   },
   "file_extension": ".py",
   "mimetype": "text/x-python",
   "name": "python",
   "nbconvert_exporter": "python",
   "pygments_lexer": "ipython3",
   "version": "3.12.6"
  }
 },
 "nbformat": 4,
 "nbformat_minor": 5
}
