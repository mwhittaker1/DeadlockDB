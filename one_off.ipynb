{
 "cells": [
  {
   "cell_type": "code",
   "execution_count": 13,
   "id": "02455c5f",
   "metadata": {},
   "outputs": [],
   "source": [
    "import duckdb\n",
    "con = duckdb.connect(\"c:/Code/Local Code/deadlock_match_prediction/data/deadlock.db\")\n",
    "raw_con = duckdb.connect(\"c:/Code/Local Code/deadlock_match_prediction/match_player_raw.duckdb\")"
   ]
  },
  {
   "cell_type": "code",
   "execution_count": 14,
   "id": "9612f98d",
   "metadata": {},
   "outputs": [
    {
     "name": "stdout",
     "output_type": "stream",
     "text": [
      "tables: [('hero_trends',), ('matches',), ('player_hero_trends',), ('player_matches',), ('player_matches_history',)]\n",
      "\n"
     ]
    }
   ],
   "source": [
    "con.execute(\"DROP TABLE IF EXISTS player_trends\")\n",
    "con.execute(\"DROP TABLE IF EXISTS player_rolling_stats\")\n",
    "tables = con.execute(\"\"\"\n",
    "    SELECT name FROM sqlite_master WHERE type='table';\n",
    "    \"\"\").fetchall()\n",
    "print(f\"tables: {tables}\\n\")"
   ]
  },
  {
   "cell_type": "code",
   "execution_count": 15,
   "id": "f495edde",
   "metadata": {},
   "outputs": [
    {
     "name": "stdout",
     "output_type": "stream",
     "text": [
      "tables: [('hero_trends',), ('matches',), ('player_hero_trends',), ('player_matches',), ('player_matches_history',), ('player_rolling_stats',), ('player_trends',)]\n",
      "\n"
     ]
    }
   ],
   "source": [
    "import services.database_functions as dbf\n",
    "\n",
    "dbf.create_player_trends_table(con)\n",
    "dbf.create_player_rolling_stats(con)\n",
    "tables = con.execute(\"\"\"\n",
    "    SELECT name FROM sqlite_master WHERE type='table';\n",
    "    \"\"\").fetchall()\n",
    "print(f\"tables: {tables}\\n\")"
   ]
  },
  {
   "cell_type": "code",
   "execution_count": 16,
   "id": "eb2c48be",
   "metadata": {},
   "outputs": [],
   "source": [
    "con.close()\n",
    "raw_con.close()"
   ]
  }
 ],
 "metadata": {
  "kernelspec": {
   "display_name": ".venv",
   "language": "python",
   "name": "python3"
  },
  "language_info": {
   "codemirror_mode": {
    "name": "ipython",
    "version": 3
   },
   "file_extension": ".py",
   "mimetype": "text/x-python",
   "name": "python",
   "nbconvert_exporter": "python",
   "pygments_lexer": "ipython3",
   "version": "3.12.6"
  }
 },
 "nbformat": 4,
 "nbformat_minor": 5
}
